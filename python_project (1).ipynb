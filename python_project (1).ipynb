{
 "cells": [
  {
   "cell_type": "markdown",
   "id": "ff4bac9d-4bd5-4b98-b37b-1fef1e5bbad5",
   "metadata": {},
   "source": [
    "## Проект \"Парсинг сайта \"eda.ru\", анализ значений коэффициента корреляции Пирсона, построение графиков, а также создание модели поиска интересующего блюда\""
   ]
  },
  {
   "cell_type": "markdown",
   "id": "2bd01d15-7460-4f66-ac1e-23f881d27c38",
   "metadata": {},
   "source": [
    "## Кто не любит есть? Все любят есть!\n",
    "Да, мы тоже любим есть, поэтому мы выбрали сайт: https://eda.ru/! А еще мы студенты и не любим готовить, поэтому, если и выбирать рецепты, то простые и вкусные. А еще нам хочется, чтобы блюдо имело достаточн калорий, чтобы мы наелись, а также, чтобы была также возможность выбрать блюдо по лайкам, стране и его типу! Столько всего хочется!\n",
    "\n",
    "Выбранный нами сайт предоставляет возможности удобно вычленять данные, у него отличный и понятный интерфейс, разделения по категориям и хорошие рецепты (что важно!). \n",
    "\n",
    "Сайт не предоставляет таких широких возможностей поиска блюд, несмотря на возможности его оптимизировать. Поэтому спарсить данные в данном случае представляется очень актуальной идеей. Если рассматривать цель проекта с точки зрения более прикладных задач, то можно выбирать основные блюда на мероприятия компании с точки зрения калорийности (если вы ивент-менеджер, ну вдруг...) Также, данный проект будет полезен для жителей Дубков, которые часто не хотят заморачиваться с выбором блюд! В дальнейшем можно создать бота по студенческим рецептам, увеличив выборку :)"
   ]
  },
  {
   "cell_type": "markdown",
   "id": "0590d0ad-4072-4792-b59a-1848401e86a5",
   "metadata": {},
   "source": [
    "### Что мы планируем сделать?\n",
    "Так как мы хотим поесть сытные блюда, то для парсинга мы взяли рецепты из категории \"основные блюда\", что отразилось и в ссылке. Всего на сайте есть около 19 тысяч рецептов основных блюд, поэтому нами было принято решение собрать данные с первых пятидесяти страниц. С этих страниц мы вычленяем ссылки на рецепты. Далее проходимся по каждой ссылке и собираем оттуда нужную нам информацию (название, время приготовления, количество калорий, лайки и тип блюда)."
   ]
  },
  {
   "cell_type": "markdown",
   "id": "e918f375-66ff-4007-9f8f-cc469af0ede0",
   "metadata": {},
   "source": [
    "## Что мы для этого используем?\n",
    "Для web-scrapping нам понадобилось: библиотека requests - для вычленения html-разметки с веб-страницы, библиотека BeatifulSoup - для структурирования полученной разметки.\n",
    "\n",
    "Опишем этапы разработки кода:\n",
    "\n",
    "1. Создание собственной функции get_dishes, которая определяет количество страниц внутри основных рецептов, которые мы \"листаем\" вниз. Так как это функция, пользователь может прописать любое количество страниц, и тем самым уменьшить или увеличить выборку. Для нашего датасета мы взяли 50 страниц (что грузилось около часа, поэтому впоследствии мы выгрузили их в xlsx-файл для удобства работы с разных устройств).\n",
    "\n",
    "2. С помощью тега \"а\" ищем все ссылки через find_all, с помощью get('href') вычленяем объекты, содержащие ссылки и с помощью проверки \"if\" добавляем в ранее созданный список \"recipes\" ссылки с \"/recepty/osnovnye-blyuda/\", но без \"ingredienty\"(так как на тех ссылках находилась сторонняя информация).\n",
    "\n",
    "3. Далее создаем пустой список data для кортежей с информацией про блюда. Проходимся по списку recipes. Используем try/except для того, чтобы исключить ошибку, которая возникла в процессе кода (\"ChunkedEncodingError\"), а также потенциальные ощибки, связанные с индексацией. Далее снова работаем с BeautifulSoup и находим интересующие нас теги со страниц. Вычленяем название блюда, время приготовления, количество калорий, количество лайков на рецепте, кухню, к которой принадлежит блюдо, и тип блюда. Любопытно было вычленить время и конвертировать все значения в минуты. Дело в том, что в некоторых рецептах время приготовления было записано в формате \"1 час\" или, например, \"1 час 20 минут\".\n",
    "\n",
    "4. Применяем нашу функцию get_dishes (к 50 страницам). Итого в data содержится информация о 433 блюдах.\n",
    "\n",
    "5. Импортируем библиотеку pandas, создаем датафрейм из каждого блюда и добавляем его в общий датафрейм \"all_dishes\". Называем столбцы датафрейма так, как нам неоюходимо ('Название','Время приготовления','Калории','Лайки','Кухня','Тип')\n",
    "\n",
    "6. Преобразуем датафрейм в xlsx-файл \"all_dishes\"."
   ]
  },
  {
   "cell_type": "code",
   "execution_count": 1,
   "id": "77f7868b-307a-46b3-84d0-ea489a8fa843",
   "metadata": {},
   "outputs": [],
   "source": [
    "def get_dishes(pages):\n",
    "\n",
    "    import requests\n",
    "    from bs4 import BeautifulSoup\n",
    "\n",
    "    recipes = []\n",
    "    \n",
    "    for page in range(pages):\n",
    "        url = f'https://eda.ru/recepty/osnovnye-blyuda?page={page}'\n",
    "        try:\n",
    "            html = requests.get(url)\n",
    "        except requests.exceptions.ChunkedEncodingError:\n",
    "            continue\n",
    "\n",
    "        soup = BeautifulSoup(html.text)\n",
    "\n",
    "        for link in soup.find_all(\"a\"):\n",
    "            href = link.get('href')\n",
    "            if href.startswith('/recepty/osnovnye-blyuda/') and \"ingredienty\" not in href:\n",
    "                if 'https://eda.ru' + href not in recipes:\n",
    "                    recipes.append('https://eda.ru' + href)\n",
    "\n",
    "    data = []\n",
    "    \n",
    "    for i in recipes:\n",
    "        url = i\n",
    "        try:\n",
    "            html = requests.get(url)\n",
    "        except requests.exceptions.ChunkedEncodingError:\n",
    "            continue\n",
    "\n",
    "        soup = BeautifulSoup(html.text)\n",
    "        \n",
    "        try:\n",
    "            name = soup.find('h1', {\"class\":\"emotion-gl52ge\"})\n",
    "            if name is not None:\n",
    "                name = name.text.replace(\"\\xa0\", \" \")\n",
    "        except:\n",
    "            continue\n",
    "\n",
    "        try:\n",
    "            cals = soup.find('span', {\"itemprop\":\"calories\"})\n",
    "            if cals is not None:\n",
    "                cals = int(cals.text)\n",
    "        except:\n",
    "            continue\n",
    "\n",
    "        try:\n",
    "            time = soup.find('div', {\"class\":\"emotion-my9yfq\"})\n",
    "            if time is not None:\n",
    "                time = time.text\n",
    "\n",
    "                if \"минут\" in (time.split(\"  \"))[0].split(\" \")[1]:\n",
    "                    time = int(time.split(\"  \")[0].split(\" \")[0])\n",
    "                elif len(time.split(\"  \")) == 1 and \"час\" in (time.split(\"  \"))[0].split(\" \")[1]:\n",
    "                    time = int(time.split(\"  \")[0].split(\" \")[0])*60\n",
    "                elif len(time.split(\"  \")) > 1 and \"час\" in (time.split(\"  \"))[0].split(\" \")[1]:\n",
    "                    time = int(time.split(\"  \")[0].split(\" \")[0])*60 + int(time.split(\"  \")[1].split(\" \")[0])\n",
    "        except:\n",
    "            continue\n",
    "\n",
    "        try:\n",
    "            likes = soup.find('span', {\"class\":\"emotion-a07nxg\"})\n",
    "            if likes is not None:\n",
    "                likes = int(likes.text)\n",
    "        except:\n",
    "            continue\n",
    "\n",
    "        try:\n",
    "            cuisine = soup.find_all('span', {\"class\":\"emotion-1h6i17m\"})[2]\n",
    "            if cuisine is not None:\n",
    "                cuisine = cuisine.text\n",
    "        except:\n",
    "            continue\n",
    "\n",
    "        try:\n",
    "            class_re = soup.find_all('span', class_='emotion-1h6i17m')[4]\n",
    "            if class_re is not None:\n",
    "                class_re = class_re.text.strip()\n",
    "        \n",
    "        except:\n",
    "            continue\n",
    "\n",
    "        dish = (name, time, cals, likes, cuisine, class_re)\n",
    "\n",
    "        if \"рецепты\" not in class_re.lower() and \"идеи\" not in class_re.lower() and \"вопрос\" not in class_re.lower() and \"путешествия\" not in class_re.lower():\n",
    "            data.append(dish)\n",
    "        \n",
    "    return data\n",
    "\n",
    "dishes = get_dishes(50)\n",
    "\n",
    "import pandas as pd\n",
    "\n",
    "all_dishes = pd.DataFrame()\n",
    "\n",
    "for i in dishes:\n",
    "    one_dish = pd.DataFrame(i).transpose()\n",
    "    all_dishes = pd.concat([all_dishes, one_dish])\n",
    "\n",
    "all_dishes.columns = ['Название','Время приготовления','Калории','Лайки','Кухня','Тип']\n",
    "\n",
    "all_dishes.to_excel('all_dishes.xlsx')"
   ]
  },
  {
   "cell_type": "markdown",
   "id": "784d745b-e439-4c16-a230-29a4afb921ab",
   "metadata": {},
   "source": [
    "## Здесь можно увидеть выдачу датафрейма all_dishes\n",
    "\n",
    "433 ряда и 7 столбцов"
   ]
  },
  {
   "cell_type": "code",
   "execution_count": 156,
   "id": "nQJYsceElDfu",
   "metadata": {
    "colab": {
     "base_uri": "https://localhost:8080/",
     "height": 423
    },
    "id": "nQJYsceElDfu",
    "outputId": "6eb2a5c8-6e7b-438b-9728-9e0c52a38444"
   },
   "outputs": [
    {
     "data": {
      "text/html": [
       "<div>\n",
       "<style scoped>\n",
       "    .dataframe tbody tr th:only-of-type {\n",
       "        vertical-align: middle;\n",
       "    }\n",
       "\n",
       "    .dataframe tbody tr th {\n",
       "        vertical-align: top;\n",
       "    }\n",
       "\n",
       "    .dataframe thead th {\n",
       "        text-align: right;\n",
       "    }\n",
       "</style>\n",
       "<table border=\"1\" class=\"dataframe\">\n",
       "  <thead>\n",
       "    <tr style=\"text-align: right;\">\n",
       "      <th></th>\n",
       "      <th>Unnamed: 0</th>\n",
       "      <th>Название</th>\n",
       "      <th>Время приготовления</th>\n",
       "      <th>Калории</th>\n",
       "      <th>Лайки</th>\n",
       "      <th>Кухня</th>\n",
       "      <th>Тип</th>\n",
       "    </tr>\n",
       "  </thead>\n",
       "  <tbody>\n",
       "    <tr>\n",
       "      <th>0</th>\n",
       "      <td>0</td>\n",
       "      <td>Лимонный цыпленок с орзо</td>\n",
       "      <td>45</td>\n",
       "      <td>671</td>\n",
       "      <td>1</td>\n",
       "      <td>Еврейская кухня</td>\n",
       "      <td>Блюда из курицы</td>\n",
       "    </tr>\n",
       "    <tr>\n",
       "      <th>1</th>\n",
       "      <td>0</td>\n",
       "      <td>Мексиканское блюдо из фасоли и говяжьего фарша</td>\n",
       "      <td>20</td>\n",
       "      <td>526</td>\n",
       "      <td>10</td>\n",
       "      <td>Мексиканская кухня</td>\n",
       "      <td>Блюда с фаршем</td>\n",
       "    </tr>\n",
       "    <tr>\n",
       "      <th>2</th>\n",
       "      <td>0</td>\n",
       "      <td>Острое блюдо из нута, томатов и шпината</td>\n",
       "      <td>40</td>\n",
       "      <td>317</td>\n",
       "      <td>2</td>\n",
       "      <td>Европейская кухня</td>\n",
       "      <td>Горячие закуски</td>\n",
       "    </tr>\n",
       "    <tr>\n",
       "      <th>3</th>\n",
       "      <td>0</td>\n",
       "      <td>Вегетарианское блюдо чили за 15 минут</td>\n",
       "      <td>15</td>\n",
       "      <td>239</td>\n",
       "      <td>1</td>\n",
       "      <td>Европейская кухня</td>\n",
       "      <td>Горячие закуски</td>\n",
       "    </tr>\n",
       "    <tr>\n",
       "      <th>4</th>\n",
       "      <td>0</td>\n",
       "      <td>Вегетарианское блюдо из фасоли и бобов с чили ...</td>\n",
       "      <td>375</td>\n",
       "      <td>300</td>\n",
       "      <td>1</td>\n",
       "      <td>Европейская кухня</td>\n",
       "      <td>Горячие закуски</td>\n",
       "    </tr>\n",
       "    <tr>\n",
       "      <th>...</th>\n",
       "      <td>...</td>\n",
       "      <td>...</td>\n",
       "      <td>...</td>\n",
       "      <td>...</td>\n",
       "      <td>...</td>\n",
       "      <td>...</td>\n",
       "      <td>...</td>\n",
       "    </tr>\n",
       "    <tr>\n",
       "      <th>428</th>\n",
       "      <td>0</td>\n",
       "      <td>Кордон блю из стейка индейки с ветчиной Кампана</td>\n",
       "      <td>90</td>\n",
       "      <td>594</td>\n",
       "      <td>2</td>\n",
       "      <td>Французская кухня</td>\n",
       "      <td>Котлеты</td>\n",
       "    </tr>\n",
       "    <tr>\n",
       "      <th>429</th>\n",
       "      <td>0</td>\n",
       "      <td>Фрикасе из кролика с оливками</td>\n",
       "      <td>150</td>\n",
       "      <td>520</td>\n",
       "      <td>2</td>\n",
       "      <td>Французская кухня</td>\n",
       "      <td>Блюда из мяса</td>\n",
       "    </tr>\n",
       "    <tr>\n",
       "      <th>430</th>\n",
       "      <td>0</td>\n",
       "      <td>Стейк из цветной капусты с киноа и зеленым соусом</td>\n",
       "      <td>60</td>\n",
       "      <td>736</td>\n",
       "      <td>2</td>\n",
       "      <td>Авторская кухня</td>\n",
       "      <td>Блюда из овощей</td>\n",
       "    </tr>\n",
       "    <tr>\n",
       "      <th>431</th>\n",
       "      <td>0</td>\n",
       "      <td>Свинина с горчицей и пряностями</td>\n",
       "      <td>40</td>\n",
       "      <td>473</td>\n",
       "      <td>75</td>\n",
       "      <td>Паназиатская кухня</td>\n",
       "      <td>Здоровье</td>\n",
       "    </tr>\n",
       "    <tr>\n",
       "      <th>432</th>\n",
       "      <td>0</td>\n",
       "      <td>Мясо с подливкой</td>\n",
       "      <td>90</td>\n",
       "      <td>463</td>\n",
       "      <td>1</td>\n",
       "      <td>Советская кухня</td>\n",
       "      <td>Блюда из мяса</td>\n",
       "    </tr>\n",
       "  </tbody>\n",
       "</table>\n",
       "<p>433 rows × 7 columns</p>\n",
       "</div>"
      ],
      "text/plain": [
       "     Unnamed: 0                                           Название  \\\n",
       "0             0                           Лимонный цыпленок с орзо   \n",
       "1             0     Мексиканское блюдо из фасоли и говяжьего фарша   \n",
       "2             0            Острое блюдо из нута, томатов и шпината   \n",
       "3             0              Вегетарианское блюдо чили за 15 минут   \n",
       "4             0  Вегетарианское блюдо из фасоли и бобов с чили ...   \n",
       "..          ...                                                ...   \n",
       "428           0    Кордон блю из стейка индейки с ветчиной Кампана   \n",
       "429           0                      Фрикасе из кролика с оливками   \n",
       "430           0  Стейк из цветной капусты с киноа и зеленым соусом   \n",
       "431           0                    Свинина с горчицей и пряностями   \n",
       "432           0                                   Мясо с подливкой   \n",
       "\n",
       "     Время приготовления  Калории  Лайки               Кухня              Тип  \n",
       "0                     45      671      1     Еврейская кухня  Блюда из курицы  \n",
       "1                     20      526     10  Мексиканская кухня   Блюда с фаршем  \n",
       "2                     40      317      2   Европейская кухня  Горячие закуски  \n",
       "3                     15      239      1   Европейская кухня  Горячие закуски  \n",
       "4                    375      300      1   Европейская кухня  Горячие закуски  \n",
       "..                   ...      ...    ...                 ...              ...  \n",
       "428                   90      594      2   Французская кухня          Котлеты  \n",
       "429                  150      520      2   Французская кухня    Блюда из мяса  \n",
       "430                   60      736      2     Авторская кухня  Блюда из овощей  \n",
       "431                   40      473     75  Паназиатская кухня         Здоровье  \n",
       "432                   90      463      1     Советская кухня    Блюда из мяса  \n",
       "\n",
       "[433 rows x 7 columns]"
      ]
     },
     "execution_count": 156,
     "metadata": {},
     "output_type": "execute_result"
    }
   ],
   "source": [
    "all_dishes"
   ]
  },
  {
   "cell_type": "markdown",
   "id": "40974222-1182-46b8-aa8b-18cc818de7bb",
   "metadata": {},
   "source": [
    "## Для удобства мы прогнали код и сохранили наш полученный файл в репозиторий на GitHub. Это позволило нам всем удаленно работать с файлом, не запуская код для создания xlsx-файла снова и снова."
   ]
  },
  {
   "cell_type": "markdown",
   "id": "6a64cb1b-6f85-493f-a337-07188bfae3ac",
   "metadata": {},
   "source": [
    "Поэтому мы вновь импортируем библиотеку pandas."
   ]
  },
  {
   "cell_type": "code",
   "execution_count": 157,
   "id": "d6f3b0fc-241a-4ef9-9823-9639c92f8c44",
   "metadata": {},
   "outputs": [],
   "source": [
    "import pandas as pd"
   ]
  },
  {
   "cell_type": "markdown",
   "id": "bda85a7a-a068-4c38-b5a6-09ac8e3f4a17",
   "metadata": {},
   "source": [
    "Считываем наш файл, предварительно преобразованный из xlsx в tsv, из репозитория на GitHub"
   ]
  },
  {
   "cell_type": "code",
   "execution_count": 158,
   "id": "16ab686a-40d0-43eb-a721-471a2f63dfdc",
   "metadata": {},
   "outputs": [],
   "source": [
    "all_dishes = pd.read_csv(\"https://raw.githubusercontent.com/dapivovarov/forpython/main/all_dishes%20(2).tsv\", sep='\\t')"
   ]
  },
  {
   "cell_type": "markdown",
   "id": "1a947d41-e08b-4761-843d-3fdd2c514990",
   "metadata": {},
   "source": [
    "В ходе предварительного осмотра данных мы заметили аномально большие значения, которые удалили с помощью drop."
   ]
  },
  {
   "cell_type": "code",
   "execution_count": 159,
   "id": "715ed6c4-8b51-4733-b80e-2708c94c5c99",
   "metadata": {},
   "outputs": [],
   "source": [
    "all_dishes = all_dishes.drop(labels = [291],axis = 0)\n",
    "all_dishes = all_dishes.drop(labels = [5],axis = 0)"
   ]
  },
  {
   "cell_type": "markdown",
   "id": "1476a2b0-9a8d-465a-a0cc-e8dd90927c31",
   "metadata": {},
   "source": [
    "# Построение и визуализация корреляционных коэффициентов"
   ]
  },
  {
   "cell_type": "markdown",
   "id": "81661c86-5139-48e2-bd3d-c043f5ee60c1",
   "metadata": {},
   "source": [
    "Для подсчета корреляции мы решили создать новую функцию, в которую загрузили два количественных признака, между которыми хотели проследить связь."
   ]
  },
  {
   "cell_type": "code",
   "execution_count": 161,
   "id": "ef6751b5-9fb7-420d-8079-4c4d87a691cb",
   "metadata": {
    "id": "ef6751b5-9fb7-420d-8079-4c4d87a691cb"
   },
   "outputs": [],
   "source": [
    "def correlation(first_c, second_c):\n",
    "    from scipy import stats\n",
    "    return stats.pearsonr(all_dishes[first_c], all_dishes[second_c])"
   ]
  },
  {
   "cell_type": "markdown",
   "id": "8598b4a0-e94f-48b8-9df3-2e3df1e5e951",
   "metadata": {},
   "source": [
    "Предварительно мы сформировали гипотезы. \n",
    "\n",
    "1) Мы считали, что время приготовления имеет обратную связь с лайками, так как гипотетически казалось, что люди склонны положительно оценивать рецепты, которые занимают мало времени для приготовления блюда;\n",
    "\n",
    "2) Мы считали, что время приготовления имеет обратную связь с калориями, так как гипотетически казалось, что более калорийные блюда будут готовиться дольше;\n",
    "\n",
    "3) Мы считали, что время количество калорий имеет прямую связь с лайками, так как гипотетически казалось, что люди склонны положительно оценивать рецепты, которые более калорийны."
   ]
  },
  {
   "cell_type": "code",
   "execution_count": 258,
   "id": "4c581ed6-1c40-44b3-a349-e5a8b67ec1db",
   "metadata": {
    "id": "4c581ed6-1c40-44b3-a349-e5a8b67ec1db",
    "outputId": "39c8d302-a923-4357-d810-634f3489dc3c"
   },
   "outputs": [
    {
     "data": {
      "text/plain": [
       "PearsonRResult(statistic=-0.08959856301250789, pvalue=0.06310486886759051)"
      ]
     },
     "execution_count": 258,
     "metadata": {},
     "output_type": "execute_result"
    }
   ],
   "source": [
    "correlation(\"Время приготовления\", \"Лайки\")"
   ]
  },
  {
   "cell_type": "markdown",
   "id": "bdd81086-9bc9-4a3e-a948-0dbad2d36879",
   "metadata": {},
   "source": [
    "Примем уровень значимости на уровне 5%. p-value > уровня значимости. Исходя из полученного коэффициента Пирсона и p-value, можно сказать, что линейная связь между временем приготовления и количеством лайков практически отсутствует. При данном уровне значимости у нас нет оснований считать выводы статистически значимыми."
   ]
  },
  {
   "cell_type": "code",
   "execution_count": 259,
   "id": "7ba48305-1165-43fa-828d-3974b517a0d3",
   "metadata": {
    "id": "7ba48305-1165-43fa-828d-3974b517a0d3",
    "outputId": "60fdb7a6-3dbe-4ae4-c008-80b8ba6f9e0c"
   },
   "outputs": [
    {
     "data": {
      "text/plain": [
       "PearsonRResult(statistic=0.11369300963527766, pvalue=0.018219141994804382)"
      ]
     },
     "execution_count": 259,
     "metadata": {},
     "output_type": "execute_result"
    }
   ],
   "source": [
    "correlation(\"Время приготовления\", \"Калории\")"
   ]
  },
  {
   "cell_type": "markdown",
   "id": "ae2c11e8-882d-4b22-aff0-aed20a5a8958",
   "metadata": {},
   "source": [
    "Примем уровень значимости на уровне 5%. p-value < уровня значимости. Исходя из полученного коэффициента Пирсона и p-value, можно сказать, что связь между временем приготовления и количеством калорий прямая, но слабая. При данном уровне значимости у нас есть основания считать выводы статистически значимыми, поэтому корреляция очень слабая, и связь почти отсутствует."
   ]
  },
  {
   "cell_type": "code",
   "execution_count": 260,
   "id": "b72a7ba4-9c88-4347-999f-c631b616b4e6",
   "metadata": {},
   "outputs": [
    {
     "data": {
      "text/plain": [
       "PearsonRResult(statistic=-0.12418198746777283, pvalue=0.00986304955369849)"
      ]
     },
     "execution_count": 260,
     "metadata": {},
     "output_type": "execute_result"
    }
   ],
   "source": [
    "correlation(\"Лайки\", \"Калории\")"
   ]
  },
  {
   "cell_type": "markdown",
   "id": "ebd7b864-e489-49df-a919-598f6a87dcf9",
   "metadata": {},
   "source": [
    "Примем уровень значимости на уровне 5%. p-value < уровень значимости. Исходя из полученного коэффициента Пирсона, можно сказать, что связь между количеством лайков и калорий обратная и очень слабая. При данном уровне значимости у нас есть основания считать выводы статистически значимыми, поэтому корреляция очень слабая, и связь почти отсутствует."
   ]
  },
  {
   "cell_type": "code",
   "execution_count": 263,
   "id": "f9d37fe2-2a11-42ad-8684-e28f7ec80f27",
   "metadata": {
    "id": "f9d37fe2-2a11-42ad-8684-e28f7ec80f27",
    "outputId": "bba6f857-4ced-48b4-bf9b-906ecaaedb5c"
   },
   "outputs": [
    {
     "data": {
      "image/png": "[encoded data removed]",
      "text/plain": [
       "<Figure size 1600x900 with 1 Axes>"
      ]
     },
     "metadata": {},
     "output_type": "display_data"
    }
   ],
   "source": [
    "all_dishes.plot.scatter(x = \"Время приготовления\",\n",
    "                   y = \"Лайки\",\n",
    "                   color = \"#025669\",\n",
    "                   figsize = (16, 9),\n",
    "                   grid = True,\n",
    "                   xlabel = \"Время приготовления\",\n",
    "                   ylabel = \"Лайки\");"
   ]
  },
  {
   "cell_type": "markdown",
   "id": "93233ab8-d9cc-45d1-8f5c-97f3c5864276",
   "metadata": {},
   "source": [
    "#### Здесь на диаграмме рассеяния наглядно видно, что линейная связь отсутствует, так как точки рассредоточены по плоскости. Тем не менее, что любопытно, можно заметить, что многие точки сосредоточены у привычных временных значений (5 минут, 15 минут и т.п)."
   ]
  },
  {
   "cell_type": "code",
   "execution_count": 262,
   "id": "555ed34d-c5be-47a0-8e8c-f9236f792df5",
   "metadata": {},
   "outputs": [
    {
     "data": {
      "image/png": "[encoded data removed]",
      "text/plain": [
       "<Figure size 1600x900 with 1 Axes>"
      ]
     },
     "metadata": {},
     "output_type": "display_data"
    }
   ],
   "source": [
    "all_dishes.plot.scatter(x = \"Калории\",\n",
    "                   y = \"Лайки\",\n",
    "                   color = \"#025669\",\n",
    "                   figsize = (16, 9),\n",
    "                   grid = True,\n",
    "                   xlabel = \"Калории\",\n",
    "                   ylabel = \"Лайки\");"
   ]
  },
  {
   "cell_type": "markdown",
   "id": "a9f57be0-ffa9-4c6b-a47b-6b0d22112ba2",
   "metadata": {},
   "source": [
    "#### Здесь на диаграмме рассеяния также наглядно видно, что линейная связь отсутствует."
   ]
  },
  {
   "cell_type": "code",
   "execution_count": 264,
   "id": "235b7b32-bd42-4cd1-a2cd-2e28011dbeb6",
   "metadata": {},
   "outputs": [
    {
     "data": {
      "image/png": "[encoded data removed]",
      "text/plain": [
       "<Figure size 1600x900 with 1 Axes>"
      ]
     },
     "metadata": {},
     "output_type": "display_data"
    }
   ],
   "source": [
    "all_dishes.plot.scatter(x = \"Время приготовления\",\n",
    "                   y = \"Калории\",\n",
    "                   color = \"#025669\",\n",
    "                   figsize = (16, 9),\n",
    "                   grid = True,\n",
    "                   xlabel = \"Время приготовления\",\n",
    "                   ylabel = \"Калории\");"
   ]
  },
  {
   "cell_type": "markdown",
   "id": "ca9a3bdd-9dcb-4d70-b943-b037eee43d74",
   "metadata": {},
   "source": [
    "#### Здесь на диаграмме рассеяния также наглядно видно, что линейная связь отсутствует, так как точки рассредоточены по плоскости. Тем не менее, опять-таки, можно заметить, что многие точки сосредоточены у привычных временных значений (5 минут, 15 минут и т.п)."
   ]
  },
  {
   "cell_type": "markdown",
   "id": "d110a6d9-a0ca-483d-83a7-ee94729dbd2b",
   "metadata": {},
   "source": [
    "# Систематизация данных с помощью диаграмм (зависимость значений количественных переменных от качественных)"
   ]
  },
  {
   "cell_type": "markdown",
   "id": "a5d74149-7752-4eb3-81ca-22aced5c0d56",
   "metadata": {},
   "source": [
    "#### Используя библиотеку plotly.express, создаем диграммы типа bar, где значения рассортированы по убыванию"
   ]
  },
  {
   "cell_type": "code",
   "execution_count": 265,
   "id": "2cecd057-92af-4d71-acd1-9872f6bb240b",
   "metadata": {},
   "outputs": [
    {
     "data": {
      "application/vnd.plotly.v1+json": {
       "config": {
        "plotlyServerURL": "https://plot.ly"
       },
       "data": [
        {
         "alignmentgroup": "True",
         "hovertemplate": "Кухня=%{x}<br>Среднее количество лайков=%{y}<extra></extra>",
         "legendgroup": "",
         "marker": {
          "color": "#636efa",
          "pattern": {
           "shape": ""
          }
         },
         "name": "",
         "offsetgroup": "",
         "orientation": "v",
         "showlegend": false,
         "textposition": "auto",
         "type": "bar",
         "x": [
          "Австрийская кухня",
          "Авторская кухня",
          "Азербайджанская кухня",
          "Американская кухня",
          "Арабская кухня",
          "Армянская кухня",
          "Африканская кухня",
          "Белорусская кухня",
          "Бельгийская кухня",
          "Болгарская кухня",
          "Бразильская кухня",
          "Британская кухня",
          "Веганская еда",
          "Венгерская кухня",
          "Голландская кухня",
          "Греческая кухня",
          "Грузинская кухня",
          "Датская кухня",
          "Еврейская кухня",
          "Европейская кухня",
          "Индийская кухня",
          "Индонезийская кухня",
          "Ирландская кухня",
          "Испанская кухня",
          "Итальянская кухня",
          "Кавказская кухня",
          "Киргизская кухня",
          "Китайская кухня",
          "Корейская кухня",
          "Креольская кухня",
          "Кубинская кухня",
          "Кухня Вестероса",
          "Латиноамериканская кухня",
          "Ливанская кухня",
          "Литовская кухня",
          "Марокканская кухня",
          "Мексиканская кухня",
          "Мировая кухня",
          "Немецкая кухня",
          "Одесская кухня",
          "Паназиатская кухня",
          "Польская кухня",
          "Португальская кухня",
          "Русская кухня",
          "Советская кухня",
          "Средиземноморская кухня",
          "Тайская кухня",
          "Турецкая кухня",
          "Узбекская кухня",
          "Украинская кухня",
          "Филиппинская кухня",
          "Финская кухня",
          "Французская кухня",
          "Чешская кухня",
          "Шведская кухня",
          "Шотландская кухня",
          "Эстонская кухня",
          "Японская кухня"
         ],
         "xaxis": "x",
         "y": [
          13,
          22.818181818181817,
          13,
          23.071428571428573,
          30.666666666666668,
          13.6,
          2,
          205.5,
          37.666666666666664,
          36,
          7,
          23.09090909090909,
          23,
          109.625,
          6.666666666666667,
          26,
          42.666666666666664,
          16,
          2,
          44.292682926829265,
          32,
          6,
          5,
          101.125,
          53.6,
          42,
          5,
          83,
          16,
          10,
          3.5,
          17.5,
          24,
          12.5,
          6.5,
          3,
          37.166666666666664,
          49,
          32.75,
          140,
          17.2,
          5,
          57,
          78.04615384615384,
          46.22222222222222,
          24,
          45.666666666666664,
          2,
          154,
          45.2,
          5,
          2,
          55.45161290322581,
          41.333333333333336,
          47.333333333333336,
          2,
          17,
          40.6
         ],
         "yaxis": "y"
        }
       ],
       "layout": {
        "bargap": 0.2,
        "barmode": "relative",
        "height": 600,
        "legend": {
         "tracegroupgap": 0
        },
        "template": {
         "data": {
          "bar": [
           {
            "error_x": {
             "color": "#2a3f5f"
            },
            "error_y": {
             "color": "#2a3f5f"
            },
            "marker": {
             "line": {
              "color": "#E5ECF6",
              "width": 0.5
             },
             "pattern": {
              "fillmode": "overlay",
              "size": 10,
              "solidity": 0.2
             }
            },
            "type": "bar"
           }
          ],
          "barpolar": [
           {
            "marker": {
             "line": {
              "color": "#E5ECF6",
              "width": 0.5
             },
             "pattern": {
              "fillmode": "overlay",
              "size": 10,
              "solidity": 0.2
             }
            },
            "type": "barpolar"
           }
          ],
          "carpet": [
           {
            "aaxis": {
             "endlinecolor": "#2a3f5f",
             "gridcolor": "white",
             "linecolor": "white",
             "minorgridcolor": "white",
             "startlinecolor": "#2a3f5f"
            },
            "baxis": {
             "endlinecolor": "#2a3f5f",
             "gridcolor": "white",
             "linecolor": "white",
             "minorgridcolor": "white",
             "startlinecolor": "#2a3f5f"
            },
            "type": "carpet"
           }
          ],
          "choropleth": [
           {
            "colorbar": {
             "outlinewidth": 0,
             "ticks": ""
            },
            "type": "choropleth"
           }
          ],
          "contour": [
           {
            "colorbar": {
             "outlinewidth": 0,
             "ticks": ""
            },
            "colorscale": [
             [
              0,
              "#0d0887"
             ],
             [
              0.1111111111111111,
              "#46039f"
             ],
             [
              0.2222222222222222,
              "#7201a8"
             ],
             [
              0.3333333333333333,
              "#9c179e"
             ],
             [
              0.4444444444444444,
              "#bd3786"
             ],
             [
              0.5555555555555556,
              "#d8576b"
             ],
             [
              0.6666666666666666,
              "#ed7953"
             ],
             [
              0.7777777777777778,
              "#fb9f3a"
             ],
             [
              0.8888888888888888,
              "#fdca26"
             ],
             [
              1,
              "#f0f921"
             ]
            ],
            "type": "contour"
           }
          ],
          "contourcarpet": [
           {
            "colorbar": {
             "outlinewidth": 0,
             "ticks": ""
            },
            "type": "contourcarpet"
           }
          ],
          "heatmap": [
           {
            "colorbar": {
             "outlinewidth": 0,
             "ticks": ""
            },
            "colorscale": [
             [
              0,
              "#0d0887"
             ],
             [
              0.1111111111111111,
              "#46039f"
             ],
             [
              0.2222222222222222,
              "#7201a8"
             ],
             [
              0.3333333333333333,
              "#9c179e"
             ],
             [
              0.4444444444444444,
              "#bd3786"
             ],
             [
              0.5555555555555556,
              "#d8576b"
             ],
             [
              0.6666666666666666,
              "#ed7953"
             ],
             [
              0.7777777777777778,
              "#fb9f3a"
             ],
             [
              0.8888888888888888,
              "#fdca26"
             ],
             [
              1,
              "#f0f921"
             ]
            ],
            "type": "heatmap"
           }
          ],
          "heatmapgl": [
           {
            "colorbar": {
             "outlinewidth": 0,
             "ticks": ""
            },
            "colorscale": [
             [
              0,
              "#0d0887"
             ],
             [
              0.1111111111111111,
              "#46039f"
             ],
             [
              0.2222222222222222,
              "#7201a8"
             ],
             [
              0.3333333333333333,
              "#9c179e"
             ],
             [
              0.4444444444444444,
              "#bd3786"
             ],
             [
              0.5555555555555556,
              "#d8576b"
             ],
             [
              0.6666666666666666,
              "#ed7953"
             ],
             [
              0.7777777777777778,
              "#fb9f3a"
             ],
             [
              0.8888888888888888,
              "#fdca26"
             ],
             [
              1,
              "#f0f921"
             ]
            ],
            "type": "heatmapgl"
           }
          ],
          "histogram": [
           {
            "marker": {
             "pattern": {
              "fillmode": "overlay",
              "size": 10,
              "solidity": 0.2
             }
            },
            "type": "histogram"
           }
          ],
          "histogram2d": [
           {
            "colorbar": {
             "outlinewidth": 0,
             "ticks": ""
            },
            "colorscale": [
             [
              0,
              "#0d0887"
             ],
             [
              0.1111111111111111,
              "#46039f"
             ],
             [
              0.2222222222222222,
              "#7201a8"
             ],
             [
              0.3333333333333333,
              "#9c179e"
             ],
             [
              0.4444444444444444,
              "#bd3786"
             ],
             [
              0.5555555555555556,
              "#d8576b"
             ],
             [
              0.6666666666666666,
              "#ed7953"
             ],
             [
              0.7777777777777778,
              "#fb9f3a"
             ],
             [
              0.8888888888888888,
              "#fdca26"
             ],
             [
              1,
              "#f0f921"
             ]
            ],
            "type": "histogram2d"
           }
          ],
          "histogram2dcontour": [
           {
            "colorbar": {
             "outlinewidth": 0,
             "ticks": ""
            },
            "colorscale": [
             [
              0,
              "#0d0887"
             ],
             [
              0.1111111111111111,
              "#46039f"
             ],
             [
              0.2222222222222222,
              "#7201a8"
             ],
             [
              0.3333333333333333,
              "#9c179e"
             ],
             [
              0.4444444444444444,
              "#bd3786"
             ],
             [
              0.5555555555555556,
              "#d8576b"
             ],
             [
              0.6666666666666666,
              "#ed7953"
             ],
             [
              0.7777777777777778,
              "#fb9f3a"
             ],
             [
              0.8888888888888888,
              "#fdca26"
             ],
             [
              1,
              "#f0f921"
             ]
            ],
            "type": "histogram2dcontour"
           }
          ],
          "mesh3d": [
           {
            "colorbar": {
             "outlinewidth": 0,
             "ticks": ""
            },
            "type": "mesh3d"
           }
          ],
          "parcoords": [
           {
            "line": {
             "colorbar": {
              "outlinewidth": 0,
              "ticks": ""
             }
            },
            "type": "parcoords"
           }
          ],
          "pie": [
           {
            "automargin": true,
            "type": "pie"
           }
          ],
          "scatter": [
           {
            "fillpattern": {
             "fillmode": "overlay",
             "size": 10,
             "solidity": 0.2
            },
            "type": "scatter"
           }
          ],
          "scatter3d": [
           {
            "line": {
             "colorbar": {
              "outlinewidth": 0,
              "ticks": ""
             }
            },
            "marker": {
             "colorbar": {
              "outlinewidth": 0,
              "ticks": ""
             }
            },
            "type": "scatter3d"
           }
          ],
          "scattercarpet": [
           {
            "marker": {
             "colorbar": {
              "outlinewidth": 0,
              "ticks": ""
             }
            },
            "type": "scattercarpet"
           }
          ],
          "scattergeo": [
           {
            "marker": {
             "colorbar": {
              "outlinewidth": 0,
              "ticks": ""
             }
            },
            "type": "scattergeo"
           }
          ],
          "scattergl": [
           {
            "marker": {
             "colorbar": {
              "outlinewidth": 0,
              "ticks": ""
             }
            },
            "type": "scattergl"
           }
          ],
          "scattermapbox": [
           {
            "marker": {
             "colorbar": {
              "outlinewidth": 0,
              "ticks": ""
             }
            },
            "type": "scattermapbox"
           }
          ],
          "scatterpolar": [
           {
            "marker": {
             "colorbar": {
              "outlinewidth": 0,
              "ticks": ""
             }
            },
            "type": "scatterpolar"
           }
          ],
          "scatterpolargl": [
           {
            "marker": {
             "colorbar": {
              "outlinewidth": 0,
              "ticks": ""
             }
            },
            "type": "scatterpolargl"
           }
          ],
          "scatterternary": [
           {
            "marker": {
             "colorbar": {
              "outlinewidth": 0,
              "ticks": ""
             }
            },
            "type": "scatterternary"
           }
          ],
          "surface": [
           {
            "colorbar": {
             "outlinewidth": 0,
             "ticks": ""
            },
            "colorscale": [
             [
              0,
              "#0d0887"
             ],
             [
              0.1111111111111111,
              "#46039f"
             ],
             [
              0.2222222222222222,
              "#7201a8"
             ],
             [
              0.3333333333333333,
              "#9c179e"
             ],
             [
              0.4444444444444444,
              "#bd3786"
             ],
             [
              0.5555555555555556,
              "#d8576b"
             ],
             [
              0.6666666666666666,
              "#ed7953"
             ],
             [
              0.7777777777777778,
              "#fb9f3a"
             ],
             [
              0.8888888888888888,
              "#fdca26"
             ],
             [
              1,
              "#f0f921"
             ]
            ],
            "type": "surface"
           }
          ],
          "table": [
           {
            "cells": {
             "fill": {
              "color": "#EBF0F8"
             },
             "line": {
              "color": "white"
             }
            },
            "header": {
             "fill": {
              "color": "#C8D4E3"
             },
             "line": {
              "color": "white"
             }
            },
            "type": "table"
           }
          ]
         },
         "layout": {
          "annotationdefaults": {
           "arrowcolor": "#2a3f5f",
           "arrowhead": 0,
           "arrowwidth": 1
          },
          "autotypenumbers": "strict",
          "coloraxis": {
           "colorbar": {
            "outlinewidth": 0,
            "ticks": ""
           }
          },
          "colorscale": {
           "diverging": [
            [
             0,
             "#8e0152"
            ],
            [
             0.1,
             "#c51b7d"
            ],
            [
             0.2,
             "#de77ae"
            ],
            [
             0.3,
             "#f1b6da"
            ],
            [
             0.4,
             "#fde0ef"
            ],
            [
             0.5,
             "#f7f7f7"
            ],
            [
             0.6,
             "#e6f5d0"
            ],
            [
             0.7,
             "#b8e186"
            ],
            [
             0.8,
             "#7fbc41"
            ],
            [
             0.9,
             "#4d9221"
            ],
            [
             1,
             "#276419"
            ]
           ],
           "sequential": [
            [
             0,
             "#0d0887"
            ],
            [
             0.1111111111111111,
             "#46039f"
            ],
            [
             0.2222222222222222,
             "#7201a8"
            ],
            [
             0.3333333333333333,
             "#9c179e"
            ],
            [
             0.4444444444444444,
             "#bd3786"
            ],
            [
             0.5555555555555556,
             "#d8576b"
            ],
            [
             0.6666666666666666,
             "#ed7953"
            ],
            [
             0.7777777777777778,
             "#fb9f3a"
            ],
            [
             0.8888888888888888,
             "#fdca26"
            ],
            [
             1,
             "#f0f921"
            ]
           ],
           "sequentialminus": [
            [
             0,
             "#0d0887"
            ],
            [
             0.1111111111111111,
             "#46039f"
            ],
            [
             0.2222222222222222,
             "#7201a8"
            ],
            [
             0.3333333333333333,
             "#9c179e"
            ],
            [
             0.4444444444444444,
             "#bd3786"
            ],
            [
             0.5555555555555556,
             "#d8576b"
            ],
            [
             0.6666666666666666,
             "#ed7953"
            ],
            [
             0.7777777777777778,
             "#fb9f3a"
            ],
            [
             0.8888888888888888,
             "#fdca26"
            ],
            [
             1,
             "#f0f921"
            ]
           ]
          },
          "colorway": [
           "#636efa",
           "#EF553B",
           "#00cc96",
           "#ab63fa",
           "#FFA15A",
           "#19d3f3",
           "#FF6692",
           "#B6E880",
           "#FF97FF",
           "#FECB52"
          ],
          "font": {
           "color": "#2a3f5f"
          },
          "geo": {
           "bgcolor": "white",
           "lakecolor": "white",
           "landcolor": "#E5ECF6",
           "showlakes": true,
           "showland": true,
           "subunitcolor": "white"
          },
          "hoverlabel": {
           "align": "left"
          },
          "hovermode": "closest",
          "mapbox": {
           "style": "light"
          },
          "paper_bgcolor": "white",
          "plot_bgcolor": "#E5ECF6",
          "polar": {
           "angularaxis": {
            "gridcolor": "white",
            "linecolor": "white",
            "ticks": ""
           },
           "bgcolor": "#E5ECF6",
           "radialaxis": {
            "gridcolor": "white",
            "linecolor": "white",
            "ticks": ""
           }
          },
          "scene": {
           "xaxis": {
            "backgroundcolor": "#E5ECF6",
            "gridcolor": "white",
            "gridwidth": 2,
            "linecolor": "white",
            "showbackground": true,
            "ticks": "",
            "zerolinecolor": "white"
           },
           "yaxis": {
            "backgroundcolor": "#E5ECF6",
            "gridcolor": "white",
            "gridwidth": 2,
            "linecolor": "white",
            "showbackground": true,
            "ticks": "",
            "zerolinecolor": "white"
           },
           "zaxis": {
            "backgroundcolor": "#E5ECF6",
            "gridcolor": "white",
            "gridwidth": 2,
            "linecolor": "white",
            "showbackground": true,
            "ticks": "",
            "zerolinecolor": "white"
           }
          },
          "shapedefaults": {
           "line": {
            "color": "#2a3f5f"
           }
          },
          "ternary": {
           "aaxis": {
            "gridcolor": "white",
            "linecolor": "white",
            "ticks": ""
           },
           "baxis": {
            "gridcolor": "white",
            "linecolor": "white",
            "ticks": ""
           },
           "bgcolor": "#E5ECF6",
           "caxis": {
            "gridcolor": "white",
            "linecolor": "white",
            "ticks": ""
           }
          },
          "title": {
           "x": 0.05
          },
          "xaxis": {
           "automargin": true,
           "gridcolor": "white",
           "linecolor": "white",
           "ticks": "",
           "title": {
            "standoff": 15
           },
           "zerolinecolor": "white",
           "zerolinewidth": 2
          },
          "yaxis": {
           "automargin": true,
           "gridcolor": "white",
           "linecolor": "white",
           "ticks": "",
           "title": {
            "standoff": 15
           },
           "zerolinecolor": "white",
           "zerolinewidth": 2
          }
         }
        },
        "title": {
         "text": "Среднее количество лайков по кухням"
        },
        "width": 1200,
        "xaxis": {
         "anchor": "y",
         "autorange": true,
         "categoryorder": "total descending",
         "domain": [
          0,
          1
         ],
         "range": [
          -0.5,
          57.5
         ],
         "title": {
          "text": "Кухня"
         },
         "type": "category"
        },
        "yaxis": {
         "anchor": "x",
         "autorange": true,
         "domain": [
          0,
          1
         ],
         "range": [
          0,
          216.31578947368422
         ],
         "title": {
          "text": "Среднее количество лайков"
         },
         "type": "linear"
        }
       }
      },
      "image/png": "[encoded data removed]",
      "text/html": [
       "<div>                            <div id=\"e897098a-d11c-48dc-aab2-548070a9cb75\" class=\"plotly-graph-div\" style=\"height:600px; width:1200px;\"></div>            <script type=\"text/javascript\">                require([\"plotly\"], function(Plotly) {                    window.PLOTLYENV=window.PLOTLYENV || {};                                    if (document.getElementById(\"e897098a-d11c-48dc-aab2-548070a9cb75\")) {                    Plotly.newPlot(                        \"e897098a-d11c-48dc-aab2-548070a9cb75\",                        [{\"alignmentgroup\":\"True\",\"hovertemplate\":\"\\u041a\\u0443\\u0445\\u043d\\u044f=%{x}<br>\\u0421\\u0440\\u0435\\u0434\\u043d\\u0435\\u0435 \\u043a\\u043e\\u043b\\u0438\\u0447\\u0435\\u0441\\u0442\\u0432\\u043e \\u043b\\u0430\\u0439\\u043a\\u043e\\u0432=%{y}<extra></extra>\",\"legendgroup\":\"\",\"marker\":{\"color\":\"#636efa\",\"pattern\":{\"shape\":\"\"}},\"name\":\"\",\"offsetgroup\":\"\",\"orientation\":\"v\",\"showlegend\":false,\"textposition\":\"auto\",\"x\":[\"\\u0410\\u0432\\u0441\\u0442\\u0440\\u0438\\u0439\\u0441\\u043a\\u0430\\u044f \\u043a\\u0443\\u0445\\u043d\\u044f\",\"\\u0410\\u0432\\u0442\\u043e\\u0440\\u0441\\u043a\\u0430\\u044f \\u043a\\u0443\\u0445\\u043d\\u044f\",\"\\u0410\\u0437\\u0435\\u0440\\u0431\\u0430\\u0439\\u0434\\u0436\\u0430\\u043d\\u0441\\u043a\\u0430\\u044f \\u043a\\u0443\\u0445\\u043d\\u044f\",\"\\u0410\\u043c\\u0435\\u0440\\u0438\\u043a\\u0430\\u043d\\u0441\\u043a\\u0430\\u044f \\u043a\\u0443\\u0445\\u043d\\u044f\",\"\\u0410\\u0440\\u0430\\u0431\\u0441\\u043a\\u0430\\u044f \\u043a\\u0443\\u0445\\u043d\\u044f\",\"\\u0410\\u0440\\u043c\\u044f\\u043d\\u0441\\u043a\\u0430\\u044f \\u043a\\u0443\\u0445\\u043d\\u044f\",\"\\u0410\\u0444\\u0440\\u0438\\u043a\\u0430\\u043d\\u0441\\u043a\\u0430\\u044f \\u043a\\u0443\\u0445\\u043d\\u044f\",\"\\u0411\\u0435\\u043b\\u043e\\u0440\\u0443\\u0441\\u0441\\u043a\\u0430\\u044f \\u043a\\u0443\\u0445\\u043d\\u044f\",\"\\u0411\\u0435\\u043b\\u044c\\u0433\\u0438\\u0439\\u0441\\u043a\\u0430\\u044f \\u043a\\u0443\\u0445\\u043d\\u044f\",\"\\u0411\\u043e\\u043b\\u0433\\u0430\\u0440\\u0441\\u043a\\u0430\\u044f \\u043a\\u0443\\u0445\\u043d\\u044f\",\"\\u0411\\u0440\\u0430\\u0437\\u0438\\u043b\\u044c\\u0441\\u043a\\u0430\\u044f \\u043a\\u0443\\u0445\\u043d\\u044f\",\"\\u0411\\u0440\\u0438\\u0442\\u0430\\u043d\\u0441\\u043a\\u0430\\u044f \\u043a\\u0443\\u0445\\u043d\\u044f\",\"\\u0412\\u0435\\u0433\\u0430\\u043d\\u0441\\u043a\\u0430\\u044f \\u0435\\u0434\\u0430\",\"\\u0412\\u0435\\u043d\\u0433\\u0435\\u0440\\u0441\\u043a\\u0430\\u044f \\u043a\\u0443\\u0445\\u043d\\u044f\",\"\\u0413\\u043e\\u043b\\u043b\\u0430\\u043d\\u0434\\u0441\\u043a\\u0430\\u044f \\u043a\\u0443\\u0445\\u043d\\u044f\",\"\\u0413\\u0440\\u0435\\u0447\\u0435\\u0441\\u043a\\u0430\\u044f \\u043a\\u0443\\u0445\\u043d\\u044f\",\"\\u0413\\u0440\\u0443\\u0437\\u0438\\u043d\\u0441\\u043a\\u0430\\u044f \\u043a\\u0443\\u0445\\u043d\\u044f\",\"\\u0414\\u0430\\u0442\\u0441\\u043a\\u0430\\u044f \\u043a\\u0443\\u0445\\u043d\\u044f\",\"\\u0415\\u0432\\u0440\\u0435\\u0439\\u0441\\u043a\\u0430\\u044f \\u043a\\u0443\\u0445\\u043d\\u044f\",\"\\u0415\\u0432\\u0440\\u043e\\u043f\\u0435\\u0439\\u0441\\u043a\\u0430\\u044f \\u043a\\u0443\\u0445\\u043d\\u044f\",\"\\u0418\\u043d\\u0434\\u0438\\u0439\\u0441\\u043a\\u0430\\u044f \\u043a\\u0443\\u0445\\u043d\\u044f\",\"\\u0418\\u043d\\u0434\\u043e\\u043d\\u0435\\u0437\\u0438\\u0439\\u0441\\u043a\\u0430\\u044f \\u043a\\u0443\\u0445\\u043d\\u044f\",\"\\u0418\\u0440\\u043b\\u0430\\u043d\\u0434\\u0441\\u043a\\u0430\\u044f \\u043a\\u0443\\u0445\\u043d\\u044f\",\"\\u0418\\u0441\\u043f\\u0430\\u043d\\u0441\\u043a\\u0430\\u044f \\u043a\\u0443\\u0445\\u043d\\u044f\",\"\\u0418\\u0442\\u0430\\u043b\\u044c\\u044f\\u043d\\u0441\\u043a\\u0430\\u044f \\u043a\\u0443\\u0445\\u043d\\u044f\",\"\\u041a\\u0430\\u0432\\u043a\\u0430\\u0437\\u0441\\u043a\\u0430\\u044f \\u043a\\u0443\\u0445\\u043d\\u044f\",\"\\u041a\\u0438\\u0440\\u0433\\u0438\\u0437\\u0441\\u043a\\u0430\\u044f \\u043a\\u0443\\u0445\\u043d\\u044f\",\"\\u041a\\u0438\\u0442\\u0430\\u0439\\u0441\\u043a\\u0430\\u044f \\u043a\\u0443\\u0445\\u043d\\u044f\",\"\\u041a\\u043e\\u0440\\u0435\\u0439\\u0441\\u043a\\u0430\\u044f \\u043a\\u0443\\u0445\\u043d\\u044f\",\"\\u041a\\u0440\\u0435\\u043e\\u043b\\u044c\\u0441\\u043a\\u0430\\u044f \\u043a\\u0443\\u0445\\u043d\\u044f\",\"\\u041a\\u0443\\u0431\\u0438\\u043d\\u0441\\u043a\\u0430\\u044f \\u043a\\u0443\\u0445\\u043d\\u044f\",\"\\u041a\\u0443\\u0445\\u043d\\u044f \\u0412\\u0435\\u0441\\u0442\\u0435\\u0440\\u043e\\u0441\\u0430\",\"\\u041b\\u0430\\u0442\\u0438\\u043d\\u043e\\u0430\\u043c\\u0435\\u0440\\u0438\\u043a\\u0430\\u043d\\u0441\\u043a\\u0430\\u044f \\u043a\\u0443\\u0445\\u043d\\u044f\",\"\\u041b\\u0438\\u0432\\u0430\\u043d\\u0441\\u043a\\u0430\\u044f \\u043a\\u0443\\u0445\\u043d\\u044f\",\"\\u041b\\u0438\\u0442\\u043e\\u0432\\u0441\\u043a\\u0430\\u044f \\u043a\\u0443\\u0445\\u043d\\u044f\",\"\\u041c\\u0430\\u0440\\u043e\\u043a\\u043a\\u0430\\u043d\\u0441\\u043a\\u0430\\u044f \\u043a\\u0443\\u0445\\u043d\\u044f\",\"\\u041c\\u0435\\u043a\\u0441\\u0438\\u043a\\u0430\\u043d\\u0441\\u043a\\u0430\\u044f \\u043a\\u0443\\u0445\\u043d\\u044f\",\"\\u041c\\u0438\\u0440\\u043e\\u0432\\u0430\\u044f \\u043a\\u0443\\u0445\\u043d\\u044f\",\"\\u041d\\u0435\\u043c\\u0435\\u0446\\u043a\\u0430\\u044f \\u043a\\u0443\\u0445\\u043d\\u044f\",\"\\u041e\\u0434\\u0435\\u0441\\u0441\\u043a\\u0430\\u044f \\u043a\\u0443\\u0445\\u043d\\u044f\",\"\\u041f\\u0430\\u043d\\u0430\\u0437\\u0438\\u0430\\u0442\\u0441\\u043a\\u0430\\u044f \\u043a\\u0443\\u0445\\u043d\\u044f\",\"\\u041f\\u043e\\u043b\\u044c\\u0441\\u043a\\u0430\\u044f \\u043a\\u0443\\u0445\\u043d\\u044f\",\"\\u041f\\u043e\\u0440\\u0442\\u0443\\u0433\\u0430\\u043b\\u044c\\u0441\\u043a\\u0430\\u044f \\u043a\\u0443\\u0445\\u043d\\u044f\",\"\\u0420\\u0443\\u0441\\u0441\\u043a\\u0430\\u044f \\u043a\\u0443\\u0445\\u043d\\u044f\",\"\\u0421\\u043e\\u0432\\u0435\\u0442\\u0441\\u043a\\u0430\\u044f \\u043a\\u0443\\u0445\\u043d\\u044f\",\"\\u0421\\u0440\\u0435\\u0434\\u0438\\u0437\\u0435\\u043c\\u043d\\u043e\\u043c\\u043e\\u0440\\u0441\\u043a\\u0430\\u044f \\u043a\\u0443\\u0445\\u043d\\u044f\",\"\\u0422\\u0430\\u0439\\u0441\\u043a\\u0430\\u044f \\u043a\\u0443\\u0445\\u043d\\u044f\",\"\\u0422\\u0443\\u0440\\u0435\\u0446\\u043a\\u0430\\u044f \\u043a\\u0443\\u0445\\u043d\\u044f\",\"\\u0423\\u0437\\u0431\\u0435\\u043a\\u0441\\u043a\\u0430\\u044f \\u043a\\u0443\\u0445\\u043d\\u044f\",\"\\u0423\\u043a\\u0440\\u0430\\u0438\\u043d\\u0441\\u043a\\u0430\\u044f \\u043a\\u0443\\u0445\\u043d\\u044f\",\"\\u0424\\u0438\\u043b\\u0438\\u043f\\u043f\\u0438\\u043d\\u0441\\u043a\\u0430\\u044f \\u043a\\u0443\\u0445\\u043d\\u044f\",\"\\u0424\\u0438\\u043d\\u0441\\u043a\\u0430\\u044f \\u043a\\u0443\\u0445\\u043d\\u044f\",\"\\u0424\\u0440\\u0430\\u043d\\u0446\\u0443\\u0437\\u0441\\u043a\\u0430\\u044f \\u043a\\u0443\\u0445\\u043d\\u044f\",\"\\u0427\\u0435\\u0448\\u0441\\u043a\\u0430\\u044f \\u043a\\u0443\\u0445\\u043d\\u044f\",\"\\u0428\\u0432\\u0435\\u0434\\u0441\\u043a\\u0430\\u044f \\u043a\\u0443\\u0445\\u043d\\u044f\",\"\\u0428\\u043e\\u0442\\u043b\\u0430\\u043d\\u0434\\u0441\\u043a\\u0430\\u044f \\u043a\\u0443\\u0445\\u043d\\u044f\",\"\\u042d\\u0441\\u0442\\u043e\\u043d\\u0441\\u043a\\u0430\\u044f \\u043a\\u0443\\u0445\\u043d\\u044f\",\"\\u042f\\u043f\\u043e\\u043d\\u0441\\u043a\\u0430\\u044f \\u043a\\u0443\\u0445\\u043d\\u044f\"],\"xaxis\":\"x\",\"y\":[13.0,22.818181818181817,13.0,23.071428571428573,30.666666666666668,13.6,2.0,205.5,37.666666666666664,36.0,7.0,23.09090909090909,23.0,109.625,6.666666666666667,26.0,42.666666666666664,16.0,2.0,44.292682926829265,32.0,6.0,5.0,101.125,53.6,42.0,5.0,83.0,16.0,10.0,3.5,17.5,24.0,12.5,6.5,3.0,37.166666666666664,49.0,32.75,140.0,17.2,5.0,57.0,78.04615384615384,46.22222222222222,24.0,45.666666666666664,2.0,154.0,45.2,5.0,2.0,55.45161290322581,41.333333333333336,47.333333333333336,2.0,17.0,40.6],\"yaxis\":\"y\",\"type\":\"bar\"}],                        {\"template\":{\"data\":{\"histogram2dcontour\":[{\"type\":\"histogram2dcontour\",\"colorbar\":{\"outlinewidth\":0,\"ticks\":\"\"},\"colorscale\":[[0.0,\"#0d0887\"],[0.1111111111111111,\"#46039f\"],[0.2222222222222222,\"#7201a8\"],[0.3333333333333333,\"#9c179e\"],[0.4444444444444444,\"#bd3786\"],[0.5555555555555556,\"#d8576b\"],[0.6666666666666666,\"#ed7953\"],[0.7777777777777778,\"#fb9f3a\"],[0.8888888888888888,\"#fdca26\"],[1.0,\"#f0f921\"]]}],\"choropleth\":[{\"type\":\"choropleth\",\"colorbar\":{\"outlinewidth\":0,\"ticks\":\"\"}}],\"histogram2d\":[{\"type\":\"histogram2d\",\"colorbar\":{\"outlinewidth\":0,\"ticks\":\"\"},\"colorscale\":[[0.0,\"#0d0887\"],[0.1111111111111111,\"#46039f\"],[0.2222222222222222,\"#7201a8\"],[0.3333333333333333,\"#9c179e\"],[0.4444444444444444,\"#bd3786\"],[0.5555555555555556,\"#d8576b\"],[0.6666666666666666,\"#ed7953\"],[0.7777777777777778,\"#fb9f3a\"],[0.8888888888888888,\"#fdca26\"],[1.0,\"#f0f921\"]]}],\"heatmap\":[{\"type\":\"heatmap\",\"colorbar\":{\"outlinewidth\":0,\"ticks\":\"\"},\"colorscale\":[[0.0,\"#0d0887\"],[0.1111111111111111,\"#46039f\"],[0.2222222222222222,\"#7201a8\"],[0.3333333333333333,\"#9c179e\"],[0.4444444444444444,\"#bd3786\"],[0.5555555555555556,\"#d8576b\"],[0.6666666666666666,\"#ed7953\"],[0.7777777777777778,\"#fb9f3a\"],[0.8888888888888888,\"#fdca26\"],[1.0,\"#f0f921\"]]}],\"heatmapgl\":[{\"type\":\"heatmapgl\",\"colorbar\":{\"outlinewidth\":0,\"ticks\":\"\"},\"colorscale\":[[0.0,\"#0d0887\"],[0.1111111111111111,\"#46039f\"],[0.2222222222222222,\"#7201a8\"],[0.3333333333333333,\"#9c179e\"],[0.4444444444444444,\"#bd3786\"],[0.5555555555555556,\"#d8576b\"],[0.6666666666666666,\"#ed7953\"],[0.7777777777777778,\"#fb9f3a\"],[0.8888888888888888,\"#fdca26\"],[1.0,\"#f0f921\"]]}],\"contourcarpet\":[{\"type\":\"contourcarpet\",\"colorbar\":{\"outlinewidth\":0,\"ticks\":\"\"}}],\"contour\":[{\"type\":\"contour\",\"colorbar\":{\"outlinewidth\":0,\"ticks\":\"\"},\"colorscale\":[[0.0,\"#0d0887\"],[0.1111111111111111,\"#46039f\"],[0.2222222222222222,\"#7201a8\"],[0.3333333333333333,\"#9c179e\"],[0.4444444444444444,\"#bd3786\"],[0.5555555555555556,\"#d8576b\"],[0.6666666666666666,\"#ed7953\"],[0.7777777777777778,\"#fb9f3a\"],[0.8888888888888888,\"#fdca26\"],[1.0,\"#f0f921\"]]}],\"surface\":[{\"type\":\"surface\",\"colorbar\":{\"outlinewidth\":0,\"ticks\":\"\"},\"colorscale\":[[0.0,\"#0d0887\"],[0.1111111111111111,\"#46039f\"],[0.2222222222222222,\"#7201a8\"],[0.3333333333333333,\"#9c179e\"],[0.4444444444444444,\"#bd3786\"],[0.5555555555555556,\"#d8576b\"],[0.6666666666666666,\"#ed7953\"],[0.7777777777777778,\"#fb9f3a\"],[0.8888888888888888,\"#fdca26\"],[1.0,\"#f0f921\"]]}],\"mesh3d\":[{\"type\":\"mesh3d\",\"colorbar\":{\"outlinewidth\":0,\"ticks\":\"\"}}],\"scatter\":[{\"fillpattern\":{\"fillmode\":\"overlay\",\"size\":10,\"solidity\":0.2},\"type\":\"scatter\"}],\"parcoords\":[{\"type\":\"parcoords\",\"line\":{\"colorbar\":{\"outlinewidth\":0,\"ticks\":\"\"}}}],\"scatterpolargl\":[{\"type\":\"scatterpolargl\",\"marker\":{\"colorbar\":{\"outlinewidth\":0,\"ticks\":\"\"}}}],\"bar\":[{\"error_x\":{\"color\":\"#2a3f5f\"},\"error_y\":{\"color\":\"#2a3f5f\"},\"marker\":{\"line\":{\"color\":\"#E5ECF6\",\"width\":0.5},\"pattern\":{\"fillmode\":\"overlay\",\"size\":10,\"solidity\":0.2}},\"type\":\"bar\"}],\"scattergeo\":[{\"type\":\"scattergeo\",\"marker\":{\"colorbar\":{\"outlinewidth\":0,\"ticks\":\"\"}}}],\"scatterpolar\":[{\"type\":\"scatterpolar\",\"marker\":{\"colorbar\":{\"outlinewidth\":0,\"ticks\":\"\"}}}],\"histogram\":[{\"marker\":{\"pattern\":{\"fillmode\":\"overlay\",\"size\":10,\"solidity\":0.2}},\"type\":\"histogram\"}],\"scattergl\":[{\"type\":\"scattergl\",\"marker\":{\"colorbar\":{\"outlinewidth\":0,\"ticks\":\"\"}}}],\"scatter3d\":[{\"type\":\"scatter3d\",\"line\":{\"colorbar\":{\"outlinewidth\":0,\"ticks\":\"\"}},\"marker\":{\"colorbar\":{\"outlinewidth\":0,\"ticks\":\"\"}}}],\"scattermapbox\":[{\"type\":\"scattermapbox\",\"marker\":{\"colorbar\":{\"outlinewidth\":0,\"ticks\":\"\"}}}],\"scatterternary\":[{\"type\":\"scatterternary\",\"marker\":{\"colorbar\":{\"outlinewidth\":0,\"ticks\":\"\"}}}],\"scattercarpet\":[{\"type\":\"scattercarpet\",\"marker\":{\"colorbar\":{\"outlinewidth\":0,\"ticks\":\"\"}}}],\"carpet\":[{\"aaxis\":{\"endlinecolor\":\"#2a3f5f\",\"gridcolor\":\"white\",\"linecolor\":\"white\",\"minorgridcolor\":\"white\",\"startlinecolor\":\"#2a3f5f\"},\"baxis\":{\"endlinecolor\":\"#2a3f5f\",\"gridcolor\":\"white\",\"linecolor\":\"white\",\"minorgridcolor\":\"white\",\"startlinecolor\":\"#2a3f5f\"},\"type\":\"carpet\"}],\"table\":[{\"cells\":{\"fill\":{\"color\":\"#EBF0F8\"},\"line\":{\"color\":\"white\"}},\"header\":{\"fill\":{\"color\":\"#C8D4E3\"},\"line\":{\"color\":\"white\"}},\"type\":\"table\"}],\"barpolar\":[{\"marker\":{\"line\":{\"color\":\"#E5ECF6\",\"width\":0.5},\"pattern\":{\"fillmode\":\"overlay\",\"size\":10,\"solidity\":0.2}},\"type\":\"barpolar\"}],\"pie\":[{\"automargin\":true,\"type\":\"pie\"}]},\"layout\":{\"autotypenumbers\":\"strict\",\"colorway\":[\"#636efa\",\"#EF553B\",\"#00cc96\",\"#ab63fa\",\"#FFA15A\",\"#19d3f3\",\"#FF6692\",\"#B6E880\",\"#FF97FF\",\"#FECB52\"],\"font\":{\"color\":\"#2a3f5f\"},\"hovermode\":\"closest\",\"hoverlabel\":{\"align\":\"left\"},\"paper_bgcolor\":\"white\",\"plot_bgcolor\":\"#E5ECF6\",\"polar\":{\"bgcolor\":\"#E5ECF6\",\"angularaxis\":{\"gridcolor\":\"white\",\"linecolor\":\"white\",\"ticks\":\"\"},\"radialaxis\":{\"gridcolor\":\"white\",\"linecolor\":\"white\",\"ticks\":\"\"}},\"ternary\":{\"bgcolor\":\"#E5ECF6\",\"aaxis\":{\"gridcolor\":\"white\",\"linecolor\":\"white\",\"ticks\":\"\"},\"baxis\":{\"gridcolor\":\"white\",\"linecolor\":\"white\",\"ticks\":\"\"},\"caxis\":{\"gridcolor\":\"white\",\"linecolor\":\"white\",\"ticks\":\"\"}},\"coloraxis\":{\"colorbar\":{\"outlinewidth\":0,\"ticks\":\"\"}},\"colorscale\":{\"sequential\":[[0.0,\"#0d0887\"],[0.1111111111111111,\"#46039f\"],[0.2222222222222222,\"#7201a8\"],[0.3333333333333333,\"#9c179e\"],[0.4444444444444444,\"#bd3786\"],[0.5555555555555556,\"#d8576b\"],[0.6666666666666666,\"#ed7953\"],[0.7777777777777778,\"#fb9f3a\"],[0.8888888888888888,\"#fdca26\"],[1.0,\"#f0f921\"]],\"sequentialminus\":[[0.0,\"#0d0887\"],[0.1111111111111111,\"#46039f\"],[0.2222222222222222,\"#7201a8\"],[0.3333333333333333,\"#9c179e\"],[0.4444444444444444,\"#bd3786\"],[0.5555555555555556,\"#d8576b\"],[0.6666666666666666,\"#ed7953\"],[0.7777777777777778,\"#fb9f3a\"],[0.8888888888888888,\"#fdca26\"],[1.0,\"#f0f921\"]],\"diverging\":[[0,\"#8e0152\"],[0.1,\"#c51b7d\"],[0.2,\"#de77ae\"],[0.3,\"#f1b6da\"],[0.4,\"#fde0ef\"],[0.5,\"#f7f7f7\"],[0.6,\"#e6f5d0\"],[0.7,\"#b8e186\"],[0.8,\"#7fbc41\"],[0.9,\"#4d9221\"],[1,\"#276419\"]]},\"xaxis\":{\"gridcolor\":\"white\",\"linecolor\":\"white\",\"ticks\":\"\",\"title\":{\"standoff\":15},\"zerolinecolor\":\"white\",\"automargin\":true,\"zerolinewidth\":2},\"yaxis\":{\"gridcolor\":\"white\",\"linecolor\":\"white\",\"ticks\":\"\",\"title\":{\"standoff\":15},\"zerolinecolor\":\"white\",\"automargin\":true,\"zerolinewidth\":2},\"scene\":{\"xaxis\":{\"backgroundcolor\":\"#E5ECF6\",\"gridcolor\":\"white\",\"linecolor\":\"white\",\"showbackground\":true,\"ticks\":\"\",\"zerolinecolor\":\"white\",\"gridwidth\":2},\"yaxis\":{\"backgroundcolor\":\"#E5ECF6\",\"gridcolor\":\"white\",\"linecolor\":\"white\",\"showbackground\":true,\"ticks\":\"\",\"zerolinecolor\":\"white\",\"gridwidth\":2},\"zaxis\":{\"backgroundcolor\":\"#E5ECF6\",\"gridcolor\":\"white\",\"linecolor\":\"white\",\"showbackground\":true,\"ticks\":\"\",\"zerolinecolor\":\"white\",\"gridwidth\":2}},\"shapedefaults\":{\"line\":{\"color\":\"#2a3f5f\"}},\"annotationdefaults\":{\"arrowcolor\":\"#2a3f5f\",\"arrowhead\":0,\"arrowwidth\":1},\"geo\":{\"bgcolor\":\"white\",\"landcolor\":\"#E5ECF6\",\"subunitcolor\":\"white\",\"showland\":true,\"showlakes\":true,\"lakecolor\":\"white\"},\"title\":{\"x\":0.05},\"mapbox\":{\"style\":\"light\"}}},\"xaxis\":{\"anchor\":\"y\",\"domain\":[0.0,1.0],\"title\":{\"text\":\"\\u041a\\u0443\\u0445\\u043d\\u044f\"},\"categoryorder\":\"total descending\"},\"yaxis\":{\"anchor\":\"x\",\"domain\":[0.0,1.0],\"title\":{\"text\":\"\\u0421\\u0440\\u0435\\u0434\\u043d\\u0435\\u0435 \\u043a\\u043e\\u043b\\u0438\\u0447\\u0435\\u0441\\u0442\\u0432\\u043e \\u043b\\u0430\\u0439\\u043a\\u043e\\u0432\"}},\"legend\":{\"tracegroupgap\":0},\"title\":{\"text\":\"\\u0421\\u0440\\u0435\\u0434\\u043d\\u0435\\u0435 \\u043a\\u043e\\u043b\\u0438\\u0447\\u0435\\u0441\\u0442\\u0432\\u043e \\u043b\\u0430\\u0439\\u043a\\u043e\\u0432 \\u043f\\u043e \\u043a\\u0443\\u0445\\u043d\\u044f\\u043c\"},\"barmode\":\"relative\",\"bargap\":0.2,\"width\":1200,\"height\":600},                        {\"responsive\": true}                    ).then(function(){\n",
       "                            \n",
       "var gd = document.getElementById('e897098a-d11c-48dc-aab2-548070a9cb75');\n",
       "var x = new MutationObserver(function (mutations, observer) {{\n",
       "        var display = window.getComputedStyle(gd).display;\n",
       "        if (!display || display === 'none') {{\n",
       "            console.log([gd, 'removed!']);\n",
       "            Plotly.purge(gd);\n",
       "            observer.disconnect();\n",
       "        }}\n",
       "}});\n",
       "\n",
       "// Listen for the removal of the full notebook cells\n",
       "var notebookContainer = gd.closest('#notebook-container');\n",
       "if (notebookContainer) {{\n",
       "    x.observe(notebookContainer, {childList: true});\n",
       "}}\n",
       "\n",
       "// Listen for the clearing of the current output cell\n",
       "var outputEl = gd.closest('.output');\n",
       "if (outputEl) {{\n",
       "    x.observe(outputEl, {childList: true});\n",
       "}}\n",
       "\n",
       "                        })                };                });            </script>        </div>"
      ]
     },
     "metadata": {},
     "output_type": "display_data"
    }
   ],
   "source": [
    "likes_by_cuisine = all_dishes.groupby('Кухня')['Лайки'].mean().reset_index()\n",
    "\n",
    "import plotly.express as px\n",
    "fig = px.bar(likes_by_cuisine, x='Кухня', y='Лайки',              title='Среднее количество лайков по кухням', \n",
    "             labels={'Лайки': 'Среднее количество лайков', 'Кухня': 'Кухня'},                          template='plotly')\n",
    "\n",
    "fig.update_layout(xaxis_categoryorder='total descending', bargap=0.2) \n",
    "fig.update_layout(width=1200, height=600)\n",
    "\n",
    "fig.show()"
   ]
  },
  {
   "cell_type": "markdown",
   "id": "f3b6d458-2db4-45a2-815b-c2c27f4ee4d3",
   "metadata": {},
   "source": [
    "Таким образом, можно заключить, что кухни с самым большим количеством лайков на одно блюдо являются \"Белорусская кухня\", \"Узбекская кухня\" и \"Одесская кухня\""
   ]
  },
  {
   "cell_type": "code",
   "execution_count": 168,
   "id": "2d8730bf-a736-42c3-bf0c-d9be900c5aae",
   "metadata": {},
   "outputs": [
    {
     "data": {
      "application/vnd.plotly.v1+json": {
       "config": {
        "plotlyServerURL": "https://plot.ly"
       },
       "data": [
        {
         "alignmentgroup": "True",
         "hovertemplate": "Кухня=%{x}<br>Среднее количество калорий=%{y}<extra></extra>",
         "legendgroup": "",
         "marker": {
          "color": "#636efa",
          "pattern": {
           "shape": ""
          }
         },
         "name": "",
         "offsetgroup": "",
         "orientation": "v",
         "showlegend": false,
         "textposition": "auto",
         "type": "bar",
         "x": [
          "Австрийская кухня",
          "Авторская кухня",
          "Азербайджанская кухня",
          "Американская кухня",
          "Арабская кухня",
          "Армянская кухня",
          "Африканская кухня",
          "Белорусская кухня",
          "Бельгийская кухня",
          "Болгарская кухня",
          "Бразильская кухня",
          "Британская кухня",
          "Веганская еда",
          "Венгерская кухня",
          "Голландская кухня",
          "Греческая кухня",
          "Грузинская кухня",
          "Датская кухня",
          "Еврейская кухня",
          "Европейская кухня",
          "Индийская кухня",
          "Индонезийская кухня",
          "Ирландская кухня",
          "Испанская кухня",
          "Итальянская кухня",
          "Кавказская кухня",
          "Киргизская кухня",
          "Китайская кухня",
          "Корейская кухня",
          "Креольская кухня",
          "Кубинская кухня",
          "Кухня Вестероса",
          "Латиноамериканская кухня",
          "Ливанская кухня",
          "Литовская кухня",
          "Марокканская кухня",
          "Мексиканская кухня",
          "Мировая кухня",
          "Немецкая кухня",
          "Одесская кухня",
          "Паназиатская кухня",
          "Польская кухня",
          "Португальская кухня",
          "Русская кухня",
          "Советская кухня",
          "Средиземноморская кухня",
          "Тайская кухня",
          "Турецкая кухня",
          "Узбекская кухня",
          "Украинская кухня",
          "Филиппинская кухня",
          "Финская кухня",
          "Французская кухня",
          "Чешская кухня",
          "Шведская кухня",
          "Шотландская кухня",
          "Эстонская кухня",
          "Японская кухня"
         ],
         "xaxis": "x",
         "y": [
          1099.6666666666667,
          574.3636363636364,
          964.5,
          839.5,
          420,
          470.6,
          704,
          344.5,
          781.6666666666666,
          729,
          870.5,
          848.8181818181819,
          734,
          822,
          860,
          826.4444444444445,
          675.9333333333333,
          572,
          533.5,
          582.0975609756098,
          719.125,
          728.5,
          741,
          693.625,
          814.35,
          748,
          661,
          718.5625,
          401,
          546,
          809.5,
          1188.25,
          723,
          466,
          680.5,
          860,
          477.5,
          477.25,
          662.75,
          183,
          714,
          442,
          262,
          541.8,
          619.2222222222222,
          958,
          594.4166666666666,
          414,
          755.8,
          1170.2,
          591,
          569,
          902.8709677419355,
          1536.3333333333333,
          635.6666666666666,
          776,
          406.5,
          702.6
         ],
         "yaxis": "y"
        }
       ],
       "layout": {
        "bargap": 0.2,
        "barmode": "relative",
        "height": 600,
        "legend": {
         "tracegroupgap": 0
        },
        "template": {
         "data": {
          "bar": [
           {
            "error_x": {
             "color": "#2a3f5f"
            },
            "error_y": {
             "color": "#2a3f5f"
            },
            "marker": {
             "line": {
              "color": "#E5ECF6",
              "width": 0.5
             },
             "pattern": {
              "fillmode": "overlay",
              "size": 10,
              "solidity": 0.2
             }
            },
            "type": "bar"
           }
          ],
          "barpolar": [
           {
            "marker": {
             "line": {
              "color": "#E5ECF6",
              "width": 0.5
             },
             "pattern": {
              "fillmode": "overlay",
              "size": 10,
              "solidity": 0.2
             }
            },
            "type": "barpolar"
           }
          ],
          "carpet": [
           {
            "aaxis": {
             "endlinecolor": "#2a3f5f",
             "gridcolor": "white",
             "linecolor": "white",
             "minorgridcolor": "white",
             "startlinecolor": "#2a3f5f"
            },
            "baxis": {
             "endlinecolor": "#2a3f5f",
             "gridcolor": "white",
             "linecolor": "white",
             "minorgridcolor": "white",
             "startlinecolor": "#2a3f5f"
            },
            "type": "carpet"
           }
          ],
          "choropleth": [
           {
            "colorbar": {
             "outlinewidth": 0,
             "ticks": ""
            },
            "type": "choropleth"
           }
          ],
          "contour": [
           {
            "colorbar": {
             "outlinewidth": 0,
             "ticks": ""
            },
            "colorscale": [
             [
              0,
              "#0d0887"
             ],
             [
              0.1111111111111111,
              "#46039f"
             ],
             [
              0.2222222222222222,
              "#7201a8"
             ],
             [
              0.3333333333333333,
              "#9c179e"
             ],
             [
              0.4444444444444444,
              "#bd3786"
             ],
             [
              0.5555555555555556,
              "#d8576b"
             ],
             [
              0.6666666666666666,
              "#ed7953"
             ],
             [
              0.7777777777777778,
              "#fb9f3a"
             ],
             [
              0.8888888888888888,
              "#fdca26"
             ],
             [
              1,
              "#f0f921"
             ]
            ],
            "type": "contour"
           }
          ],
          "contourcarpet": [
           {
            "colorbar": {
             "outlinewidth": 0,
             "ticks": ""
            },
            "type": "contourcarpet"
           }
          ],
          "heatmap": [
           {
            "colorbar": {
             "outlinewidth": 0,
             "ticks": ""
            },
            "colorscale": [
             [
              0,
              "#0d0887"
             ],
             [
              0.1111111111111111,
              "#46039f"
             ],
             [
              0.2222222222222222,
              "#7201a8"
             ],
             [
              0.3333333333333333,
              "#9c179e"
             ],
             [
              0.4444444444444444,
              "#bd3786"
             ],
             [
              0.5555555555555556,
              "#d8576b"
             ],
             [
              0.6666666666666666,
              "#ed7953"
             ],
             [
              0.7777777777777778,
              "#fb9f3a"
             ],
             [
              0.8888888888888888,
              "#fdca26"
             ],
             [
              1,
              "#f0f921"
             ]
            ],
            "type": "heatmap"
           }
          ],
          "heatmapgl": [
           {
            "colorbar": {
             "outlinewidth": 0,
             "ticks": ""
            },
            "colorscale": [
             [
              0,
              "#0d0887"
             ],
             [
              0.1111111111111111,
              "#46039f"
             ],
             [
              0.2222222222222222,
              "#7201a8"
             ],
             [
              0.3333333333333333,
              "#9c179e"
             ],
             [
              0.4444444444444444,
              "#bd3786"
             ],
             [
              0.5555555555555556,
              "#d8576b"
             ],
             [
              0.6666666666666666,
              "#ed7953"
             ],
             [
              0.7777777777777778,
              "#fb9f3a"
             ],
             [
              0.8888888888888888,
              "#fdca26"
             ],
             [
              1,
              "#f0f921"
             ]
            ],
            "type": "heatmapgl"
           }
          ],
          "histogram": [
           {
            "marker": {
             "pattern": {
              "fillmode": "overlay",
              "size": 10,
              "solidity": 0.2
             }
            },
            "type": "histogram"
           }
          ],
          "histogram2d": [
           {
            "colorbar": {
             "outlinewidth": 0,
             "ticks": ""
            },
            "colorscale": [
             [
              0,
              "#0d0887"
             ],
             [
              0.1111111111111111,
              "#46039f"
             ],
             [
              0.2222222222222222,
              "#7201a8"
             ],
             [
              0.3333333333333333,
              "#9c179e"
             ],
             [
              0.4444444444444444,
              "#bd3786"
             ],
             [
              0.5555555555555556,
              "#d8576b"
             ],
             [
              0.6666666666666666,
              "#ed7953"
             ],
             [
              0.7777777777777778,
              "#fb9f3a"
             ],
             [
              0.8888888888888888,
              "#fdca26"
             ],
             [
              1,
              "#f0f921"
             ]
            ],
            "type": "histogram2d"
           }
          ],
          "histogram2dcontour": [
           {
            "colorbar": {
             "outlinewidth": 0,
             "ticks": ""
            },
            "colorscale": [
             [
              0,
              "#0d0887"
             ],
             [
              0.1111111111111111,
              "#46039f"
             ],
             [
              0.2222222222222222,
              "#7201a8"
             ],
             [
              0.3333333333333333,
              "#9c179e"
             ],
             [
              0.4444444444444444,
              "#bd3786"
             ],
             [
              0.5555555555555556,
              "#d8576b"
             ],
             [
              0.6666666666666666,
              "#ed7953"
             ],
             [
              0.7777777777777778,
              "#fb9f3a"
             ],
             [
              0.8888888888888888,
              "#fdca26"
             ],
             [
              1,
              "#f0f921"
             ]
            ],
            "type": "histogram2dcontour"
           }
          ],
          "mesh3d": [
           {
            "colorbar": {
             "outlinewidth": 0,
             "ticks": ""
            },
            "type": "mesh3d"
           }
          ],
          "parcoords": [
           {
            "line": {
             "colorbar": {
              "outlinewidth": 0,
              "ticks": ""
             }
            },
            "type": "parcoords"
           }
          ],
          "pie": [
           {
            "automargin": true,
            "type": "pie"
           }
          ],
          "scatter": [
           {
            "fillpattern": {
             "fillmode": "overlay",
             "size": 10,
             "solidity": 0.2
            },
            "type": "scatter"
           }
          ],
          "scatter3d": [
           {
            "line": {
             "colorbar": {
              "outlinewidth": 0,
              "ticks": ""
             }
            },
            "marker": {
             "colorbar": {
              "outlinewidth": 0,
              "ticks": ""
             }
            },
            "type": "scatter3d"
           }
          ],
          "scattercarpet": [
           {
            "marker": {
             "colorbar": {
              "outlinewidth": 0,
              "ticks": ""
             }
            },
            "type": "scattercarpet"
           }
          ],
          "scattergeo": [
           {
            "marker": {
             "colorbar": {
              "outlinewidth": 0,
              "ticks": ""
             }
            },
            "type": "scattergeo"
           }
          ],
          "scattergl": [
           {
            "marker": {
             "colorbar": {
              "outlinewidth": 0,
              "ticks": ""
             }
            },
            "type": "scattergl"
           }
          ],
          "scattermapbox": [
           {
            "marker": {
             "colorbar": {
              "outlinewidth": 0,
              "ticks": ""
             }
            },
            "type": "scattermapbox"
           }
          ],
          "scatterpolar": [
           {
            "marker": {
             "colorbar": {
              "outlinewidth": 0,
              "ticks": ""
             }
            },
            "type": "scatterpolar"
           }
          ],
          "scatterpolargl": [
           {
            "marker": {
             "colorbar": {
              "outlinewidth": 0,
              "ticks": ""
             }
            },
            "type": "scatterpolargl"
           }
          ],
          "scatterternary": [
           {
            "marker": {
             "colorbar": {
              "outlinewidth": 0,
              "ticks": ""
             }
            },
            "type": "scatterternary"
           }
          ],
          "surface": [
           {
            "colorbar": {
             "outlinewidth": 0,
             "ticks": ""
            },
            "colorscale": [
             [
              0,
              "#0d0887"
             ],
             [
              0.1111111111111111,
              "#46039f"
             ],
             [
              0.2222222222222222,
              "#7201a8"
             ],
             [
              0.3333333333333333,
              "#9c179e"
             ],
             [
              0.4444444444444444,
              "#bd3786"
             ],
             [
              0.5555555555555556,
              "#d8576b"
             ],
             [
              0.6666666666666666,
              "#ed7953"
             ],
             [
              0.7777777777777778,
              "#fb9f3a"
             ],
             [
              0.8888888888888888,
              "#fdca26"
             ],
             [
              1,
              "#f0f921"
             ]
            ],
            "type": "surface"
           }
          ],
          "table": [
           {
            "cells": {
             "fill": {
              "color": "#EBF0F8"
             },
             "line": {
              "color": "white"
             }
            },
            "header": {
             "fill": {
              "color": "#C8D4E3"
             },
             "line": {
              "color": "white"
             }
            },
            "type": "table"
           }
          ]
         },
         "layout": {
          "annotationdefaults": {
           "arrowcolor": "#2a3f5f",
           "arrowhead": 0,
           "arrowwidth": 1
          },
          "autotypenumbers": "strict",
          "coloraxis": {
           "colorbar": {
            "outlinewidth": 0,
            "ticks": ""
           }
          },
          "colorscale": {
           "diverging": [
            [
             0,
             "#8e0152"
            ],
            [
             0.1,
             "#c51b7d"
            ],
            [
             0.2,
             "#de77ae"
            ],
            [
             0.3,
             "#f1b6da"
            ],
            [
             0.4,
             "#fde0ef"
            ],
            [
             0.5,
             "#f7f7f7"
            ],
            [
             0.6,
             "#e6f5d0"
            ],
            [
             0.7,
             "#b8e186"
            ],
            [
             0.8,
             "#7fbc41"
            ],
            [
             0.9,
             "#4d9221"
            ],
            [
             1,
             "#276419"
            ]
           ],
           "sequential": [
            [
             0,
             "#0d0887"
            ],
            [
             0.1111111111111111,
             "#46039f"
            ],
            [
             0.2222222222222222,
             "#7201a8"
            ],
            [
             0.3333333333333333,
             "#9c179e"
            ],
            [
             0.4444444444444444,
             "#bd3786"
            ],
            [
             0.5555555555555556,
             "#d8576b"
            ],
            [
             0.6666666666666666,
             "#ed7953"
            ],
            [
             0.7777777777777778,
             "#fb9f3a"
            ],
            [
             0.8888888888888888,
             "#fdca26"
            ],
            [
             1,
             "#f0f921"
            ]
           ],
           "sequentialminus": [
            [
             0,
             "#0d0887"
            ],
            [
             0.1111111111111111,
             "#46039f"
            ],
            [
             0.2222222222222222,
             "#7201a8"
            ],
            [
             0.3333333333333333,
             "#9c179e"
            ],
            [
             0.4444444444444444,
             "#bd3786"
            ],
            [
             0.5555555555555556,
             "#d8576b"
            ],
            [
             0.6666666666666666,
             "#ed7953"
            ],
            [
             0.7777777777777778,
             "#fb9f3a"
            ],
            [
             0.8888888888888888,
             "#fdca26"
            ],
            [
             1,
             "#f0f921"
            ]
           ]
          },
          "colorway": [
           "#636efa",
           "#EF553B",
           "#00cc96",
           "#ab63fa",
           "#FFA15A",
           "#19d3f3",
           "#FF6692",
           "#B6E880",
           "#FF97FF",
           "#FECB52"
          ],
          "font": {
           "color": "#2a3f5f"
          },
          "geo": {
           "bgcolor": "white",
           "lakecolor": "white",
           "landcolor": "#E5ECF6",
           "showlakes": true,
           "showland": true,
           "subunitcolor": "white"
          },
          "hoverlabel": {
           "align": "left"
          },
          "hovermode": "closest",
          "mapbox": {
           "style": "light"
          },
          "paper_bgcolor": "white",
          "plot_bgcolor": "#E5ECF6",
          "polar": {
           "angularaxis": {
            "gridcolor": "white",
            "linecolor": "white",
            "ticks": ""
           },
           "bgcolor": "#E5ECF6",
           "radialaxis": {
            "gridcolor": "white",
            "linecolor": "white",
            "ticks": ""
           }
          },
          "scene": {
           "xaxis": {
            "backgroundcolor": "#E5ECF6",
            "gridcolor": "white",
            "gridwidth": 2,
            "linecolor": "white",
            "showbackground": true,
            "ticks": "",
            "zerolinecolor": "white"
           },
           "yaxis": {
            "backgroundcolor": "#E5ECF6",
            "gridcolor": "white",
            "gridwidth": 2,
            "linecolor": "white",
            "showbackground": true,
            "ticks": "",
            "zerolinecolor": "white"
           },
           "zaxis": {
            "backgroundcolor": "#E5ECF6",
            "gridcolor": "white",
            "gridwidth": 2,
            "linecolor": "white",
            "showbackground": true,
            "ticks": "",
            "zerolinecolor": "white"
           }
          },
          "shapedefaults": {
           "line": {
            "color": "#2a3f5f"
           }
          },
          "ternary": {
           "aaxis": {
            "gridcolor": "white",
            "linecolor": "white",
            "ticks": ""
           },
           "baxis": {
            "gridcolor": "white",
            "linecolor": "white",
            "ticks": ""
           },
           "bgcolor": "#E5ECF6",
           "caxis": {
            "gridcolor": "white",
            "linecolor": "white",
            "ticks": ""
           }
          },
          "title": {
           "x": 0.05
          },
          "xaxis": {
           "automargin": true,
           "gridcolor": "white",
           "linecolor": "white",
           "ticks": "",
           "title": {
            "standoff": 15
           },
           "zerolinecolor": "white",
           "zerolinewidth": 2
          },
          "yaxis": {
           "automargin": true,
           "gridcolor": "white",
           "linecolor": "white",
           "ticks": "",
           "title": {
            "standoff": 15
           },
           "zerolinecolor": "white",
           "zerolinewidth": 2
          }
         }
        },
        "title": {
         "text": "Среднее количество калорий по кухням"
        },
        "width": 1200,
        "xaxis": {
         "anchor": "y",
         "autorange": true,
         "categoryorder": "total descending",
         "domain": [
          0,
          1
         ],
         "range": [
          -0.5,
          57.5
         ],
         "title": {
          "text": "Кухня"
         },
         "type": "category"
        },
        "yaxis": {
         "anchor": "x",
         "autorange": true,
         "domain": [
          0,
          1
         ],
         "range": [
          0,
          1617.1929824561403
         ],
         "title": {
          "text": "Среднее количество калорий"
         },
         "type": "linear"
        }
       }
      },
      "image/png": "[encoded data removed]",
      "text/html": [
       "<div>                            <div id=\"724c225f-e246-407a-8c58-b3db3810d4ab\" class=\"plotly-graph-div\" style=\"height:600px; width:1200px;\"></div>            <script type=\"text/javascript\">                require([\"plotly\"], function(Plotly) {                    window.PLOTLYENV=window.PLOTLYENV || {};                                    if (document.getElementById(\"724c225f-e246-407a-8c58-b3db3810d4ab\")) {                    Plotly.newPlot(                        \"724c225f-e246-407a-8c58-b3db3810d4ab\",                        [{\"alignmentgroup\":\"True\",\"hovertemplate\":\"\\u041a\\u0443\\u0445\\u043d\\u044f=%{x}<br>\\u0421\\u0440\\u0435\\u0434\\u043d\\u0435\\u0435 \\u043a\\u043e\\u043b\\u0438\\u0447\\u0435\\u0441\\u0442\\u0432\\u043e \\u043a\\u0430\\u043b\\u043e\\u0440\\u0438\\u0439=%{y}<extra></extra>\",\"legendgroup\":\"\",\"marker\":{\"color\":\"#636efa\",\"pattern\":{\"shape\":\"\"}},\"name\":\"\",\"offsetgroup\":\"\",\"orientation\":\"v\",\"showlegend\":false,\"textposition\":\"auto\",\"x\":[\"\\u0410\\u0432\\u0441\\u0442\\u0440\\u0438\\u0439\\u0441\\u043a\\u0430\\u044f \\u043a\\u0443\\u0445\\u043d\\u044f\",\"\\u0410\\u0432\\u0442\\u043e\\u0440\\u0441\\u043a\\u0430\\u044f \\u043a\\u0443\\u0445\\u043d\\u044f\",\"\\u0410\\u0437\\u0435\\u0440\\u0431\\u0430\\u0439\\u0434\\u0436\\u0430\\u043d\\u0441\\u043a\\u0430\\u044f \\u043a\\u0443\\u0445\\u043d\\u044f\",\"\\u0410\\u043c\\u0435\\u0440\\u0438\\u043a\\u0430\\u043d\\u0441\\u043a\\u0430\\u044f \\u043a\\u0443\\u0445\\u043d\\u044f\",\"\\u0410\\u0440\\u0430\\u0431\\u0441\\u043a\\u0430\\u044f \\u043a\\u0443\\u0445\\u043d\\u044f\",\"\\u0410\\u0440\\u043c\\u044f\\u043d\\u0441\\u043a\\u0430\\u044f \\u043a\\u0443\\u0445\\u043d\\u044f\",\"\\u0410\\u0444\\u0440\\u0438\\u043a\\u0430\\u043d\\u0441\\u043a\\u0430\\u044f \\u043a\\u0443\\u0445\\u043d\\u044f\",\"\\u0411\\u0435\\u043b\\u043e\\u0440\\u0443\\u0441\\u0441\\u043a\\u0430\\u044f \\u043a\\u0443\\u0445\\u043d\\u044f\",\"\\u0411\\u0435\\u043b\\u044c\\u0433\\u0438\\u0439\\u0441\\u043a\\u0430\\u044f \\u043a\\u0443\\u0445\\u043d\\u044f\",\"\\u0411\\u043e\\u043b\\u0433\\u0430\\u0440\\u0441\\u043a\\u0430\\u044f \\u043a\\u0443\\u0445\\u043d\\u044f\",\"\\u0411\\u0440\\u0430\\u0437\\u0438\\u043b\\u044c\\u0441\\u043a\\u0430\\u044f \\u043a\\u0443\\u0445\\u043d\\u044f\",\"\\u0411\\u0440\\u0438\\u0442\\u0430\\u043d\\u0441\\u043a\\u0430\\u044f \\u043a\\u0443\\u0445\\u043d\\u044f\",\"\\u0412\\u0435\\u0433\\u0430\\u043d\\u0441\\u043a\\u0430\\u044f \\u0435\\u0434\\u0430\",\"\\u0412\\u0435\\u043d\\u0433\\u0435\\u0440\\u0441\\u043a\\u0430\\u044f \\u043a\\u0443\\u0445\\u043d\\u044f\",\"\\u0413\\u043e\\u043b\\u043b\\u0430\\u043d\\u0434\\u0441\\u043a\\u0430\\u044f \\u043a\\u0443\\u0445\\u043d\\u044f\",\"\\u0413\\u0440\\u0435\\u0447\\u0435\\u0441\\u043a\\u0430\\u044f \\u043a\\u0443\\u0445\\u043d\\u044f\",\"\\u0413\\u0440\\u0443\\u0437\\u0438\\u043d\\u0441\\u043a\\u0430\\u044f \\u043a\\u0443\\u0445\\u043d\\u044f\",\"\\u0414\\u0430\\u0442\\u0441\\u043a\\u0430\\u044f \\u043a\\u0443\\u0445\\u043d\\u044f\",\"\\u0415\\u0432\\u0440\\u0435\\u0439\\u0441\\u043a\\u0430\\u044f \\u043a\\u0443\\u0445\\u043d\\u044f\",\"\\u0415\\u0432\\u0440\\u043e\\u043f\\u0435\\u0439\\u0441\\u043a\\u0430\\u044f \\u043a\\u0443\\u0445\\u043d\\u044f\",\"\\u0418\\u043d\\u0434\\u0438\\u0439\\u0441\\u043a\\u0430\\u044f \\u043a\\u0443\\u0445\\u043d\\u044f\",\"\\u0418\\u043d\\u0434\\u043e\\u043d\\u0435\\u0437\\u0438\\u0439\\u0441\\u043a\\u0430\\u044f \\u043a\\u0443\\u0445\\u043d\\u044f\",\"\\u0418\\u0440\\u043b\\u0430\\u043d\\u0434\\u0441\\u043a\\u0430\\u044f \\u043a\\u0443\\u0445\\u043d\\u044f\",\"\\u0418\\u0441\\u043f\\u0430\\u043d\\u0441\\u043a\\u0430\\u044f \\u043a\\u0443\\u0445\\u043d\\u044f\",\"\\u0418\\u0442\\u0430\\u043b\\u044c\\u044f\\u043d\\u0441\\u043a\\u0430\\u044f \\u043a\\u0443\\u0445\\u043d\\u044f\",\"\\u041a\\u0430\\u0432\\u043a\\u0430\\u0437\\u0441\\u043a\\u0430\\u044f \\u043a\\u0443\\u0445\\u043d\\u044f\",\"\\u041a\\u0438\\u0440\\u0433\\u0438\\u0437\\u0441\\u043a\\u0430\\u044f \\u043a\\u0443\\u0445\\u043d\\u044f\",\"\\u041a\\u0438\\u0442\\u0430\\u0439\\u0441\\u043a\\u0430\\u044f \\u043a\\u0443\\u0445\\u043d\\u044f\",\"\\u041a\\u043e\\u0440\\u0435\\u0439\\u0441\\u043a\\u0430\\u044f \\u043a\\u0443\\u0445\\u043d\\u044f\",\"\\u041a\\u0440\\u0435\\u043e\\u043b\\u044c\\u0441\\u043a\\u0430\\u044f \\u043a\\u0443\\u0445\\u043d\\u044f\",\"\\u041a\\u0443\\u0431\\u0438\\u043d\\u0441\\u043a\\u0430\\u044f \\u043a\\u0443\\u0445\\u043d\\u044f\",\"\\u041a\\u0443\\u0445\\u043d\\u044f \\u0412\\u0435\\u0441\\u0442\\u0435\\u0440\\u043e\\u0441\\u0430\",\"\\u041b\\u0430\\u0442\\u0438\\u043d\\u043e\\u0430\\u043c\\u0435\\u0440\\u0438\\u043a\\u0430\\u043d\\u0441\\u043a\\u0430\\u044f \\u043a\\u0443\\u0445\\u043d\\u044f\",\"\\u041b\\u0438\\u0432\\u0430\\u043d\\u0441\\u043a\\u0430\\u044f \\u043a\\u0443\\u0445\\u043d\\u044f\",\"\\u041b\\u0438\\u0442\\u043e\\u0432\\u0441\\u043a\\u0430\\u044f \\u043a\\u0443\\u0445\\u043d\\u044f\",\"\\u041c\\u0430\\u0440\\u043e\\u043a\\u043a\\u0430\\u043d\\u0441\\u043a\\u0430\\u044f \\u043a\\u0443\\u0445\\u043d\\u044f\",\"\\u041c\\u0435\\u043a\\u0441\\u0438\\u043a\\u0430\\u043d\\u0441\\u043a\\u0430\\u044f \\u043a\\u0443\\u0445\\u043d\\u044f\",\"\\u041c\\u0438\\u0440\\u043e\\u0432\\u0430\\u044f \\u043a\\u0443\\u0445\\u043d\\u044f\",\"\\u041d\\u0435\\u043c\\u0435\\u0446\\u043a\\u0430\\u044f \\u043a\\u0443\\u0445\\u043d\\u044f\",\"\\u041e\\u0434\\u0435\\u0441\\u0441\\u043a\\u0430\\u044f \\u043a\\u0443\\u0445\\u043d\\u044f\",\"\\u041f\\u0430\\u043d\\u0430\\u0437\\u0438\\u0430\\u0442\\u0441\\u043a\\u0430\\u044f \\u043a\\u0443\\u0445\\u043d\\u044f\",\"\\u041f\\u043e\\u043b\\u044c\\u0441\\u043a\\u0430\\u044f \\u043a\\u0443\\u0445\\u043d\\u044f\",\"\\u041f\\u043e\\u0440\\u0442\\u0443\\u0433\\u0430\\u043b\\u044c\\u0441\\u043a\\u0430\\u044f \\u043a\\u0443\\u0445\\u043d\\u044f\",\"\\u0420\\u0443\\u0441\\u0441\\u043a\\u0430\\u044f \\u043a\\u0443\\u0445\\u043d\\u044f\",\"\\u0421\\u043e\\u0432\\u0435\\u0442\\u0441\\u043a\\u0430\\u044f \\u043a\\u0443\\u0445\\u043d\\u044f\",\"\\u0421\\u0440\\u0435\\u0434\\u0438\\u0437\\u0435\\u043c\\u043d\\u043e\\u043c\\u043e\\u0440\\u0441\\u043a\\u0430\\u044f \\u043a\\u0443\\u0445\\u043d\\u044f\",\"\\u0422\\u0430\\u0439\\u0441\\u043a\\u0430\\u044f \\u043a\\u0443\\u0445\\u043d\\u044f\",\"\\u0422\\u0443\\u0440\\u0435\\u0446\\u043a\\u0430\\u044f \\u043a\\u0443\\u0445\\u043d\\u044f\",\"\\u0423\\u0437\\u0431\\u0435\\u043a\\u0441\\u043a\\u0430\\u044f \\u043a\\u0443\\u0445\\u043d\\u044f\",\"\\u0423\\u043a\\u0440\\u0430\\u0438\\u043d\\u0441\\u043a\\u0430\\u044f \\u043a\\u0443\\u0445\\u043d\\u044f\",\"\\u0424\\u0438\\u043b\\u0438\\u043f\\u043f\\u0438\\u043d\\u0441\\u043a\\u0430\\u044f \\u043a\\u0443\\u0445\\u043d\\u044f\",\"\\u0424\\u0438\\u043d\\u0441\\u043a\\u0430\\u044f \\u043a\\u0443\\u0445\\u043d\\u044f\",\"\\u0424\\u0440\\u0430\\u043d\\u0446\\u0443\\u0437\\u0441\\u043a\\u0430\\u044f \\u043a\\u0443\\u0445\\u043d\\u044f\",\"\\u0427\\u0435\\u0448\\u0441\\u043a\\u0430\\u044f \\u043a\\u0443\\u0445\\u043d\\u044f\",\"\\u0428\\u0432\\u0435\\u0434\\u0441\\u043a\\u0430\\u044f \\u043a\\u0443\\u0445\\u043d\\u044f\",\"\\u0428\\u043e\\u0442\\u043b\\u0430\\u043d\\u0434\\u0441\\u043a\\u0430\\u044f \\u043a\\u0443\\u0445\\u043d\\u044f\",\"\\u042d\\u0441\\u0442\\u043e\\u043d\\u0441\\u043a\\u0430\\u044f \\u043a\\u0443\\u0445\\u043d\\u044f\",\"\\u042f\\u043f\\u043e\\u043d\\u0441\\u043a\\u0430\\u044f \\u043a\\u0443\\u0445\\u043d\\u044f\"],\"xaxis\":\"x\",\"y\":[1099.6666666666667,574.3636363636364,964.5,839.5,420.0,470.6,704.0,344.5,781.6666666666666,729.0,870.5,848.8181818181819,734.0,822.0,860.0,826.4444444444445,675.9333333333333,572.0,533.5,582.0975609756098,719.125,728.5,741.0,693.625,814.35,748.0,661.0,718.5625,401.0,546.0,809.5,1188.25,723.0,466.0,680.5,860.0,477.5,477.25,662.75,183.0,714.0,442.0,262.0,541.8,619.2222222222222,958.0,594.4166666666666,414.0,755.8,1170.2,591.0,569.0,902.8709677419355,1536.3333333333333,635.6666666666666,776.0,406.5,702.6],\"yaxis\":\"y\",\"type\":\"bar\"}],                        {\"template\":{\"data\":{\"histogram2dcontour\":[{\"type\":\"histogram2dcontour\",\"colorbar\":{\"outlinewidth\":0,\"ticks\":\"\"},\"colorscale\":[[0.0,\"#0d0887\"],[0.1111111111111111,\"#46039f\"],[0.2222222222222222,\"#7201a8\"],[0.3333333333333333,\"#9c179e\"],[0.4444444444444444,\"#bd3786\"],[0.5555555555555556,\"#d8576b\"],[0.6666666666666666,\"#ed7953\"],[0.7777777777777778,\"#fb9f3a\"],[0.8888888888888888,\"#fdca26\"],[1.0,\"#f0f921\"]]}],\"choropleth\":[{\"type\":\"choropleth\",\"colorbar\":{\"outlinewidth\":0,\"ticks\":\"\"}}],\"histogram2d\":[{\"type\":\"histogram2d\",\"colorbar\":{\"outlinewidth\":0,\"ticks\":\"\"},\"colorscale\":[[0.0,\"#0d0887\"],[0.1111111111111111,\"#46039f\"],[0.2222222222222222,\"#7201a8\"],[0.3333333333333333,\"#9c179e\"],[0.4444444444444444,\"#bd3786\"],[0.5555555555555556,\"#d8576b\"],[0.6666666666666666,\"#ed7953\"],[0.7777777777777778,\"#fb9f3a\"],[0.8888888888888888,\"#fdca26\"],[1.0,\"#f0f921\"]]}],\"heatmap\":[{\"type\":\"heatmap\",\"colorbar\":{\"outlinewidth\":0,\"ticks\":\"\"},\"colorscale\":[[0.0,\"#0d0887\"],[0.1111111111111111,\"#46039f\"],[0.2222222222222222,\"#7201a8\"],[0.3333333333333333,\"#9c179e\"],[0.4444444444444444,\"#bd3786\"],[0.5555555555555556,\"#d8576b\"],[0.6666666666666666,\"#ed7953\"],[0.7777777777777778,\"#fb9f3a\"],[0.8888888888888888,\"#fdca26\"],[1.0,\"#f0f921\"]]}],\"heatmapgl\":[{\"type\":\"heatmapgl\",\"colorbar\":{\"outlinewidth\":0,\"ticks\":\"\"},\"colorscale\":[[0.0,\"#0d0887\"],[0.1111111111111111,\"#46039f\"],[0.2222222222222222,\"#7201a8\"],[0.3333333333333333,\"#9c179e\"],[0.4444444444444444,\"#bd3786\"],[0.5555555555555556,\"#d8576b\"],[0.6666666666666666,\"#ed7953\"],[0.7777777777777778,\"#fb9f3a\"],[0.8888888888888888,\"#fdca26\"],[1.0,\"#f0f921\"]]}],\"contourcarpet\":[{\"type\":\"contourcarpet\",\"colorbar\":{\"outlinewidth\":0,\"ticks\":\"\"}}],\"contour\":[{\"type\":\"contour\",\"colorbar\":{\"outlinewidth\":0,\"ticks\":\"\"},\"colorscale\":[[0.0,\"#0d0887\"],[0.1111111111111111,\"#46039f\"],[0.2222222222222222,\"#7201a8\"],[0.3333333333333333,\"#9c179e\"],[0.4444444444444444,\"#bd3786\"],[0.5555555555555556,\"#d8576b\"],[0.6666666666666666,\"#ed7953\"],[0.7777777777777778,\"#fb9f3a\"],[0.8888888888888888,\"#fdca26\"],[1.0,\"#f0f921\"]]}],\"surface\":[{\"type\":\"surface\",\"colorbar\":{\"outlinewidth\":0,\"ticks\":\"\"},\"colorscale\":[[0.0,\"#0d0887\"],[0.1111111111111111,\"#46039f\"],[0.2222222222222222,\"#7201a8\"],[0.3333333333333333,\"#9c179e\"],[0.4444444444444444,\"#bd3786\"],[0.5555555555555556,\"#d8576b\"],[0.6666666666666666,\"#ed7953\"],[0.7777777777777778,\"#fb9f3a\"],[0.8888888888888888,\"#fdca26\"],[1.0,\"#f0f921\"]]}],\"mesh3d\":[{\"type\":\"mesh3d\",\"colorbar\":{\"outlinewidth\":0,\"ticks\":\"\"}}],\"scatter\":[{\"fillpattern\":{\"fillmode\":\"overlay\",\"size\":10,\"solidity\":0.2},\"type\":\"scatter\"}],\"parcoords\":[{\"type\":\"parcoords\",\"line\":{\"colorbar\":{\"outlinewidth\":0,\"ticks\":\"\"}}}],\"scatterpolargl\":[{\"type\":\"scatterpolargl\",\"marker\":{\"colorbar\":{\"outlinewidth\":0,\"ticks\":\"\"}}}],\"bar\":[{\"error_x\":{\"color\":\"#2a3f5f\"},\"error_y\":{\"color\":\"#2a3f5f\"},\"marker\":{\"line\":{\"color\":\"#E5ECF6\",\"width\":0.5},\"pattern\":{\"fillmode\":\"overlay\",\"size\":10,\"solidity\":0.2}},\"type\":\"bar\"}],\"scattergeo\":[{\"type\":\"scattergeo\",\"marker\":{\"colorbar\":{\"outlinewidth\":0,\"ticks\":\"\"}}}],\"scatterpolar\":[{\"type\":\"scatterpolar\",\"marker\":{\"colorbar\":{\"outlinewidth\":0,\"ticks\":\"\"}}}],\"histogram\":[{\"marker\":{\"pattern\":{\"fillmode\":\"overlay\",\"size\":10,\"solidity\":0.2}},\"type\":\"histogram\"}],\"scattergl\":[{\"type\":\"scattergl\",\"marker\":{\"colorbar\":{\"outlinewidth\":0,\"ticks\":\"\"}}}],\"scatter3d\":[{\"type\":\"scatter3d\",\"line\":{\"colorbar\":{\"outlinewidth\":0,\"ticks\":\"\"}},\"marker\":{\"colorbar\":{\"outlinewidth\":0,\"ticks\":\"\"}}}],\"scattermapbox\":[{\"type\":\"scattermapbox\",\"marker\":{\"colorbar\":{\"outlinewidth\":0,\"ticks\":\"\"}}}],\"scatterternary\":[{\"type\":\"scatterternary\",\"marker\":{\"colorbar\":{\"outlinewidth\":0,\"ticks\":\"\"}}}],\"scattercarpet\":[{\"type\":\"scattercarpet\",\"marker\":{\"colorbar\":{\"outlinewidth\":0,\"ticks\":\"\"}}}],\"carpet\":[{\"aaxis\":{\"endlinecolor\":\"#2a3f5f\",\"gridcolor\":\"white\",\"linecolor\":\"white\",\"minorgridcolor\":\"white\",\"startlinecolor\":\"#2a3f5f\"},\"baxis\":{\"endlinecolor\":\"#2a3f5f\",\"gridcolor\":\"white\",\"linecolor\":\"white\",\"minorgridcolor\":\"white\",\"startlinecolor\":\"#2a3f5f\"},\"type\":\"carpet\"}],\"table\":[{\"cells\":{\"fill\":{\"color\":\"#EBF0F8\"},\"line\":{\"color\":\"white\"}},\"header\":{\"fill\":{\"color\":\"#C8D4E3\"},\"line\":{\"color\":\"white\"}},\"type\":\"table\"}],\"barpolar\":[{\"marker\":{\"line\":{\"color\":\"#E5ECF6\",\"width\":0.5},\"pattern\":{\"fillmode\":\"overlay\",\"size\":10,\"solidity\":0.2}},\"type\":\"barpolar\"}],\"pie\":[{\"automargin\":true,\"type\":\"pie\"}]},\"layout\":{\"autotypenumbers\":\"strict\",\"colorway\":[\"#636efa\",\"#EF553B\",\"#00cc96\",\"#ab63fa\",\"#FFA15A\",\"#19d3f3\",\"#FF6692\",\"#B6E880\",\"#FF97FF\",\"#FECB52\"],\"font\":{\"color\":\"#2a3f5f\"},\"hovermode\":\"closest\",\"hoverlabel\":{\"align\":\"left\"},\"paper_bgcolor\":\"white\",\"plot_bgcolor\":\"#E5ECF6\",\"polar\":{\"bgcolor\":\"#E5ECF6\",\"angularaxis\":{\"gridcolor\":\"white\",\"linecolor\":\"white\",\"ticks\":\"\"},\"radialaxis\":{\"gridcolor\":\"white\",\"linecolor\":\"white\",\"ticks\":\"\"}},\"ternary\":{\"bgcolor\":\"#E5ECF6\",\"aaxis\":{\"gridcolor\":\"white\",\"linecolor\":\"white\",\"ticks\":\"\"},\"baxis\":{\"gridcolor\":\"white\",\"linecolor\":\"white\",\"ticks\":\"\"},\"caxis\":{\"gridcolor\":\"white\",\"linecolor\":\"white\",\"ticks\":\"\"}},\"coloraxis\":{\"colorbar\":{\"outlinewidth\":0,\"ticks\":\"\"}},\"colorscale\":{\"sequential\":[[0.0,\"#0d0887\"],[0.1111111111111111,\"#46039f\"],[0.2222222222222222,\"#7201a8\"],[0.3333333333333333,\"#9c179e\"],[0.4444444444444444,\"#bd3786\"],[0.5555555555555556,\"#d8576b\"],[0.6666666666666666,\"#ed7953\"],[0.7777777777777778,\"#fb9f3a\"],[0.8888888888888888,\"#fdca26\"],[1.0,\"#f0f921\"]],\"sequentialminus\":[[0.0,\"#0d0887\"],[0.1111111111111111,\"#46039f\"],[0.2222222222222222,\"#7201a8\"],[0.3333333333333333,\"#9c179e\"],[0.4444444444444444,\"#bd3786\"],[0.5555555555555556,\"#d8576b\"],[0.6666666666666666,\"#ed7953\"],[0.7777777777777778,\"#fb9f3a\"],[0.8888888888888888,\"#fdca26\"],[1.0,\"#f0f921\"]],\"diverging\":[[0,\"#8e0152\"],[0.1,\"#c51b7d\"],[0.2,\"#de77ae\"],[0.3,\"#f1b6da\"],[0.4,\"#fde0ef\"],[0.5,\"#f7f7f7\"],[0.6,\"#e6f5d0\"],[0.7,\"#b8e186\"],[0.8,\"#7fbc41\"],[0.9,\"#4d9221\"],[1,\"#276419\"]]},\"xaxis\":{\"gridcolor\":\"white\",\"linecolor\":\"white\",\"ticks\":\"\",\"title\":{\"standoff\":15},\"zerolinecolor\":\"white\",\"automargin\":true,\"zerolinewidth\":2},\"yaxis\":{\"gridcolor\":\"white\",\"linecolor\":\"white\",\"ticks\":\"\",\"title\":{\"standoff\":15},\"zerolinecolor\":\"white\",\"automargin\":true,\"zerolinewidth\":2},\"scene\":{\"xaxis\":{\"backgroundcolor\":\"#E5ECF6\",\"gridcolor\":\"white\",\"linecolor\":\"white\",\"showbackground\":true,\"ticks\":\"\",\"zerolinecolor\":\"white\",\"gridwidth\":2},\"yaxis\":{\"backgroundcolor\":\"#E5ECF6\",\"gridcolor\":\"white\",\"linecolor\":\"white\",\"showbackground\":true,\"ticks\":\"\",\"zerolinecolor\":\"white\",\"gridwidth\":2},\"zaxis\":{\"backgroundcolor\":\"#E5ECF6\",\"gridcolor\":\"white\",\"linecolor\":\"white\",\"showbackground\":true,\"ticks\":\"\",\"zerolinecolor\":\"white\",\"gridwidth\":2}},\"shapedefaults\":{\"line\":{\"color\":\"#2a3f5f\"}},\"annotationdefaults\":{\"arrowcolor\":\"#2a3f5f\",\"arrowhead\":0,\"arrowwidth\":1},\"geo\":{\"bgcolor\":\"white\",\"landcolor\":\"#E5ECF6\",\"subunitcolor\":\"white\",\"showland\":true,\"showlakes\":true,\"lakecolor\":\"white\"},\"title\":{\"x\":0.05},\"mapbox\":{\"style\":\"light\"}}},\"xaxis\":{\"anchor\":\"y\",\"domain\":[0.0,1.0],\"title\":{\"text\":\"\\u041a\\u0443\\u0445\\u043d\\u044f\"},\"categoryorder\":\"total descending\"},\"yaxis\":{\"anchor\":\"x\",\"domain\":[0.0,1.0],\"title\":{\"text\":\"\\u0421\\u0440\\u0435\\u0434\\u043d\\u0435\\u0435 \\u043a\\u043e\\u043b\\u0438\\u0447\\u0435\\u0441\\u0442\\u0432\\u043e \\u043a\\u0430\\u043b\\u043e\\u0440\\u0438\\u0439\"}},\"legend\":{\"tracegroupgap\":0},\"title\":{\"text\":\"\\u0421\\u0440\\u0435\\u0434\\u043d\\u0435\\u0435 \\u043a\\u043e\\u043b\\u0438\\u0447\\u0435\\u0441\\u0442\\u0432\\u043e \\u043a\\u0430\\u043b\\u043e\\u0440\\u0438\\u0439 \\u043f\\u043e \\u043a\\u0443\\u0445\\u043d\\u044f\\u043c\"},\"barmode\":\"relative\",\"bargap\":0.2,\"width\":1200,\"height\":600},                        {\"responsive\": true}                    ).then(function(){\n",
       "                            \n",
       "var gd = document.getElementById('724c225f-e246-407a-8c58-b3db3810d4ab');\n",
       "var x = new MutationObserver(function (mutations, observer) {{\n",
       "        var display = window.getComputedStyle(gd).display;\n",
       "        if (!display || display === 'none') {{\n",
       "            console.log([gd, 'removed!']);\n",
       "            Plotly.purge(gd);\n",
       "            observer.disconnect();\n",
       "        }}\n",
       "}});\n",
       "\n",
       "// Listen for the removal of the full notebook cells\n",
       "var notebookContainer = gd.closest('#notebook-container');\n",
       "if (notebookContainer) {{\n",
       "    x.observe(notebookContainer, {childList: true});\n",
       "}}\n",
       "\n",
       "// Listen for the clearing of the current output cell\n",
       "var outputEl = gd.closest('.output');\n",
       "if (outputEl) {{\n",
       "    x.observe(outputEl, {childList: true});\n",
       "}}\n",
       "\n",
       "                        })                };                });            </script>        </div>"
      ]
     },
     "metadata": {},
     "output_type": "display_data"
    }
   ],
   "source": [
    "likes_by_cuisine = all_dishes.groupby('Кухня')['Калории'].mean().reset_index()\n",
    "\n",
    "import plotly.express as px\n",
    "fig = px.bar(likes_by_cuisine, x='Кухня', y='Калории',              title='Среднее количество калорий по кухням', \n",
    "             labels={'Калории': 'Среднее количество калорий', 'Кухня': 'Кухня'},                          template='plotly')\n",
    "\n",
    "fig.update_layout(xaxis_categoryorder='total descending', bargap=0.2) \n",
    "fig.update_layout(width=1200, height=600)\n",
    "\n",
    "fig.show()"
   ]
  },
  {
   "cell_type": "markdown",
   "id": "f3bd8b11-a2c8-4c29-9bf1-7b2c2b42e8a6",
   "metadata": {},
   "source": [
    "Таким образом, можно заключить, что кухни с самым большим количеством калорий на одно блюдо являются \"Чешская кухня\", \"Кухня Вестероса\" и \"Украинская кухня\""
   ]
  },
  {
   "cell_type": "code",
   "execution_count": 169,
   "id": "0ad97b00-5c24-48ca-9976-7dbc969482fb",
   "metadata": {},
   "outputs": [
    {
     "data": {
      "application/vnd.plotly.v1+json": {
       "config": {
        "plotlyServerURL": "https://plot.ly"
       },
       "data": [
        {
         "alignmentgroup": "True",
         "hovertemplate": "Кухня=%{x}<br>Среднее время приготовления блюда=%{y}<extra></extra>",
         "legendgroup": "",
         "marker": {
          "color": "#636efa",
          "pattern": {
           "shape": ""
          }
         },
         "name": "",
         "offsetgroup": "",
         "orientation": "v",
         "showlegend": false,
         "textposition": "auto",
         "type": "bar",
         "x": [
          "Австрийская кухня",
          "Авторская кухня",
          "Азербайджанская кухня",
          "Американская кухня",
          "Арабская кухня",
          "Армянская кухня",
          "Африканская кухня",
          "Белорусская кухня",
          "Бельгийская кухня",
          "Болгарская кухня",
          "Бразильская кухня",
          "Британская кухня",
          "Веганская еда",
          "Венгерская кухня",
          "Голландская кухня",
          "Греческая кухня",
          "Грузинская кухня",
          "Датская кухня",
          "Еврейская кухня",
          "Европейская кухня",
          "Индийская кухня",
          "Индонезийская кухня",
          "Ирландская кухня",
          "Испанская кухня",
          "Итальянская кухня",
          "Кавказская кухня",
          "Киргизская кухня",
          "Китайская кухня",
          "Корейская кухня",
          "Креольская кухня",
          "Кубинская кухня",
          "Кухня Вестероса",
          "Латиноамериканская кухня",
          "Ливанская кухня",
          "Литовская кухня",
          "Марокканская кухня",
          "Мексиканская кухня",
          "Мировая кухня",
          "Немецкая кухня",
          "Одесская кухня",
          "Паназиатская кухня",
          "Польская кухня",
          "Португальская кухня",
          "Русская кухня",
          "Советская кухня",
          "Средиземноморская кухня",
          "Тайская кухня",
          "Турецкая кухня",
          "Узбекская кухня",
          "Украинская кухня",
          "Филиппинская кухня",
          "Финская кухня",
          "Французская кухня",
          "Чешская кухня",
          "Шведская кухня",
          "Шотландская кухня",
          "Эстонская кухня",
          "Японская кухня"
         ],
         "xaxis": "x",
         "y": [
          31.666666666666668,
          56.36363636363637,
          110,
          46.42857142857143,
          110,
          67,
          180,
          35,
          78.33333333333333,
          45,
          55,
          138.1818181818182,
          22.5,
          90,
          110,
          97.22222222222223,
          132.33333333333334,
          60,
          62.5,
          64.08536585365853,
          74.375,
          72.5,
          300,
          86.25,
          47.5,
          40,
          300,
          42.375,
          60,
          60,
          140,
          105,
          140,
          55,
          125,
          130,
          89.16666666666667,
          43.75,
          66.25,
          50,
          38,
          90,
          90,
          56.76923076923077,
          74.44444444444444,
          50,
          45.416666666666664,
          80,
          127,
          54,
          90,
          150,
          102.90322580645162,
          120,
          66.11111111111111,
          300,
          70,
          20
         ],
         "yaxis": "y"
        }
       ],
       "layout": {
        "bargap": 0.2,
        "barmode": "relative",
        "height": 600,
        "legend": {
         "tracegroupgap": 0
        },
        "template": {
         "data": {
          "bar": [
           {
            "error_x": {
             "color": "#2a3f5f"
            },
            "error_y": {
             "color": "#2a3f5f"
            },
            "marker": {
             "line": {
              "color": "#E5ECF6",
              "width": 0.5
             },
             "pattern": {
              "fillmode": "overlay",
              "size": 10,
              "solidity": 0.2
             }
            },
            "type": "bar"
           }
          ],
          "barpolar": [
           {
            "marker": {
             "line": {
              "color": "#E5ECF6",
              "width": 0.5
             },
             "pattern": {
              "fillmode": "overlay",
              "size": 10,
              "solidity": 0.2
             }
            },
            "type": "barpolar"
           }
          ],
          "carpet": [
           {
            "aaxis": {
             "endlinecolor": "#2a3f5f",
             "gridcolor": "white",
             "linecolor": "white",
             "minorgridcolor": "white",
             "startlinecolor": "#2a3f5f"
            },
            "baxis": {
             "endlinecolor": "#2a3f5f",
             "gridcolor": "white",
             "linecolor": "white",
             "minorgridcolor": "white",
             "startlinecolor": "#2a3f5f"
            },
            "type": "carpet"
           }
          ],
          "choropleth": [
           {
            "colorbar": {
             "outlinewidth": 0,
             "ticks": ""
            },
            "type": "choropleth"
           }
          ],
          "contour": [
           {
            "colorbar": {
             "outlinewidth": 0,
             "ticks": ""
            },
            "colorscale": [
             [
              0,
              "#0d0887"
             ],
             [
              0.1111111111111111,
              "#46039f"
             ],
             [
              0.2222222222222222,
              "#7201a8"
             ],
             [
              0.3333333333333333,
              "#9c179e"
             ],
             [
              0.4444444444444444,
              "#bd3786"
             ],
             [
              0.5555555555555556,
              "#d8576b"
             ],
             [
              0.6666666666666666,
              "#ed7953"
             ],
             [
              0.7777777777777778,
              "#fb9f3a"
             ],
             [
              0.8888888888888888,
              "#fdca26"
             ],
             [
              1,
              "#f0f921"
             ]
            ],
            "type": "contour"
           }
          ],
          "contourcarpet": [
           {
            "colorbar": {
             "outlinewidth": 0,
             "ticks": ""
            },
            "type": "contourcarpet"
           }
          ],
          "heatmap": [
           {
            "colorbar": {
             "outlinewidth": 0,
             "ticks": ""
            },
            "colorscale": [
             [
              0,
              "#0d0887"
             ],
             [
              0.1111111111111111,
              "#46039f"
             ],
             [
              0.2222222222222222,
              "#7201a8"
             ],
             [
              0.3333333333333333,
              "#9c179e"
             ],
             [
              0.4444444444444444,
              "#bd3786"
             ],
             [
              0.5555555555555556,
              "#d8576b"
             ],
             [
              0.6666666666666666,
              "#ed7953"
             ],
             [
              0.7777777777777778,
              "#fb9f3a"
             ],
             [
              0.8888888888888888,
              "#fdca26"
             ],
             [
              1,
              "#f0f921"
             ]
            ],
            "type": "heatmap"
           }
          ],
          "heatmapgl": [
           {
            "colorbar": {
             "outlinewidth": 0,
             "ticks": ""
            },
            "colorscale": [
             [
              0,
              "#0d0887"
             ],
             [
              0.1111111111111111,
              "#46039f"
             ],
             [
              0.2222222222222222,
              "#7201a8"
             ],
             [
              0.3333333333333333,
              "#9c179e"
             ],
             [
              0.4444444444444444,
              "#bd3786"
             ],
             [
              0.5555555555555556,
              "#d8576b"
             ],
             [
              0.6666666666666666,
              "#ed7953"
             ],
             [
              0.7777777777777778,
              "#fb9f3a"
             ],
             [
              0.8888888888888888,
              "#fdca26"
             ],
             [
              1,
              "#f0f921"
             ]
            ],
            "type": "heatmapgl"
           }
          ],
          "histogram": [
           {
            "marker": {
             "pattern": {
              "fillmode": "overlay",
              "size": 10,
              "solidity": 0.2
             }
            },
            "type": "histogram"
           }
          ],
          "histogram2d": [
           {
            "colorbar": {
             "outlinewidth": 0,
             "ticks": ""
            },
            "colorscale": [
             [
              0,
              "#0d0887"
             ],
             [
              0.1111111111111111,
              "#46039f"
             ],
             [
              0.2222222222222222,
              "#7201a8"
             ],
             [
              0.3333333333333333,
              "#9c179e"
             ],
             [
              0.4444444444444444,
              "#bd3786"
             ],
             [
              0.5555555555555556,
              "#d8576b"
             ],
             [
              0.6666666666666666,
              "#ed7953"
             ],
             [
              0.7777777777777778,
              "#fb9f3a"
             ],
             [
              0.8888888888888888,
              "#fdca26"
             ],
             [
              1,
              "#f0f921"
             ]
            ],
            "type": "histogram2d"
           }
          ],
          "histogram2dcontour": [
           {
            "colorbar": {
             "outlinewidth": 0,
             "ticks": ""
            },
            "colorscale": [
             [
              0,
              "#0d0887"
             ],
             [
              0.1111111111111111,
              "#46039f"
             ],
             [
              0.2222222222222222,
              "#7201a8"
             ],
             [
              0.3333333333333333,
              "#9c179e"
             ],
             [
              0.4444444444444444,
              "#bd3786"
             ],
             [
              0.5555555555555556,
              "#d8576b"
             ],
             [
              0.6666666666666666,
              "#ed7953"
             ],
             [
              0.7777777777777778,
              "#fb9f3a"
             ],
             [
              0.8888888888888888,
              "#fdca26"
             ],
             [
              1,
              "#f0f921"
             ]
            ],
            "type": "histogram2dcontour"
           }
          ],
          "mesh3d": [
           {
            "colorbar": {
             "outlinewidth": 0,
             "ticks": ""
            },
            "type": "mesh3d"
           }
          ],
          "parcoords": [
           {
            "line": {
             "colorbar": {
              "outlinewidth": 0,
              "ticks": ""
             }
            },
            "type": "parcoords"
           }
          ],
          "pie": [
           {
            "automargin": true,
            "type": "pie"
           }
          ],
          "scatter": [
           {
            "fillpattern": {
             "fillmode": "overlay",
             "size": 10,
             "solidity": 0.2
            },
            "type": "scatter"
           }
          ],
          "scatter3d": [
           {
            "line": {
             "colorbar": {
              "outlinewidth": 0,
              "ticks": ""
             }
            },
            "marker": {
             "colorbar": {
              "outlinewidth": 0,
              "ticks": ""
             }
            },
            "type": "scatter3d"
           }
          ],
          "scattercarpet": [
           {
            "marker": {
             "colorbar": {
              "outlinewidth": 0,
              "ticks": ""
             }
            },
            "type": "scattercarpet"
           }
          ],
          "scattergeo": [
           {
            "marker": {
             "colorbar": {
              "outlinewidth": 0,
              "ticks": ""
             }
            },
            "type": "scattergeo"
           }
          ],
          "scattergl": [
           {
            "marker": {
             "colorbar": {
              "outlinewidth": 0,
              "ticks": ""
             }
            },
            "type": "scattergl"
           }
          ],
          "scattermapbox": [
           {
            "marker": {
             "colorbar": {
              "outlinewidth": 0,
              "ticks": ""
             }
            },
            "type": "scattermapbox"
           }
          ],
          "scatterpolar": [
           {
            "marker": {
             "colorbar": {
              "outlinewidth": 0,
              "ticks": ""
             }
            },
            "type": "scatterpolar"
           }
          ],
          "scatterpolargl": [
           {
            "marker": {
             "colorbar": {
              "outlinewidth": 0,
              "ticks": ""
             }
            },
            "type": "scatterpolargl"
           }
          ],
          "scatterternary": [
           {
            "marker": {
             "colorbar": {
              "outlinewidth": 0,
              "ticks": ""
             }
            },
            "type": "scatterternary"
           }
          ],
          "surface": [
           {
            "colorbar": {
             "outlinewidth": 0,
             "ticks": ""
            },
            "colorscale": [
             [
              0,
              "#0d0887"
             ],
             [
              0.1111111111111111,
              "#46039f"
             ],
             [
              0.2222222222222222,
              "#7201a8"
             ],
             [
              0.3333333333333333,
              "#9c179e"
             ],
             [
              0.4444444444444444,
              "#bd3786"
             ],
             [
              0.5555555555555556,
              "#d8576b"
             ],
             [
              0.6666666666666666,
              "#ed7953"
             ],
             [
              0.7777777777777778,
              "#fb9f3a"
             ],
             [
              0.8888888888888888,
              "#fdca26"
             ],
             [
              1,
              "#f0f921"
             ]
            ],
            "type": "surface"
           }
          ],
          "table": [
           {
            "cells": {
             "fill": {
              "color": "#EBF0F8"
             },
             "line": {
              "color": "white"
             }
            },
            "header": {
             "fill": {
              "color": "#C8D4E3"
             },
             "line": {
              "color": "white"
             }
            },
            "type": "table"
           }
          ]
         },
         "layout": {
          "annotationdefaults": {
           "arrowcolor": "#2a3f5f",
           "arrowhead": 0,
           "arrowwidth": 1
          },
          "autotypenumbers": "strict",
          "coloraxis": {
           "colorbar": {
            "outlinewidth": 0,
            "ticks": ""
           }
          },
          "colorscale": {
           "diverging": [
            [
             0,
             "#8e0152"
            ],
            [
             0.1,
             "#c51b7d"
            ],
            [
             0.2,
             "#de77ae"
            ],
            [
             0.3,
             "#f1b6da"
            ],
            [
             0.4,
             "#fde0ef"
            ],
            [
             0.5,
             "#f7f7f7"
            ],
            [
             0.6,
             "#e6f5d0"
            ],
            [
             0.7,
             "#b8e186"
            ],
            [
             0.8,
             "#7fbc41"
            ],
            [
             0.9,
             "#4d9221"
            ],
            [
             1,
             "#276419"
            ]
           ],
           "sequential": [
            [
             0,
             "#0d0887"
            ],
            [
             0.1111111111111111,
             "#46039f"
            ],
            [
             0.2222222222222222,
             "#7201a8"
            ],
            [
             0.3333333333333333,
             "#9c179e"
            ],
            [
             0.4444444444444444,
             "#bd3786"
            ],
            [
             0.5555555555555556,
             "#d8576b"
            ],
            [
             0.6666666666666666,
             "#ed7953"
            ],
            [
             0.7777777777777778,
             "#fb9f3a"
            ],
            [
             0.8888888888888888,
             "#fdca26"
            ],
            [
             1,
             "#f0f921"
            ]
           ],
           "sequentialminus": [
            [
             0,
             "#0d0887"
            ],
            [
             0.1111111111111111,
             "#46039f"
            ],
            [
             0.2222222222222222,
             "#7201a8"
            ],
            [
             0.3333333333333333,
             "#9c179e"
            ],
            [
             0.4444444444444444,
             "#bd3786"
            ],
            [
             0.5555555555555556,
             "#d8576b"
            ],
            [
             0.6666666666666666,
             "#ed7953"
            ],
            [
             0.7777777777777778,
             "#fb9f3a"
            ],
            [
             0.8888888888888888,
             "#fdca26"
            ],
            [
             1,
             "#f0f921"
            ]
           ]
          },
          "colorway": [
           "#636efa",
           "#EF553B",
           "#00cc96",
           "#ab63fa",
           "#FFA15A",
           "#19d3f3",
           "#FF6692",
           "#B6E880",
           "#FF97FF",
           "#FECB52"
          ],
          "font": {
           "color": "#2a3f5f"
          },
          "geo": {
           "bgcolor": "white",
           "lakecolor": "white",
           "landcolor": "#E5ECF6",
           "showlakes": true,
           "showland": true,
           "subunitcolor": "white"
          },
          "hoverlabel": {
           "align": "left"
          },
          "hovermode": "closest",
          "mapbox": {
           "style": "light"
          },
          "paper_bgcolor": "white",
          "plot_bgcolor": "#E5ECF6",
          "polar": {
           "angularaxis": {
            "gridcolor": "white",
            "linecolor": "white",
            "ticks": ""
           },
           "bgcolor": "#E5ECF6",
           "radialaxis": {
            "gridcolor": "white",
            "linecolor": "white",
            "ticks": ""
           }
          },
          "scene": {
           "xaxis": {
            "backgroundcolor": "#E5ECF6",
            "gridcolor": "white",
            "gridwidth": 2,
            "linecolor": "white",
            "showbackground": true,
            "ticks": "",
            "zerolinecolor": "white"
           },
           "yaxis": {
            "backgroundcolor": "#E5ECF6",
            "gridcolor": "white",
            "gridwidth": 2,
            "linecolor": "white",
            "showbackground": true,
            "ticks": "",
            "zerolinecolor": "white"
           },
           "zaxis": {
            "backgroundcolor": "#E5ECF6",
            "gridcolor": "white",
            "gridwidth": 2,
            "linecolor": "white",
            "showbackground": true,
            "ticks": "",
            "zerolinecolor": "white"
           }
          },
          "shapedefaults": {
           "line": {
            "color": "#2a3f5f"
           }
          },
          "ternary": {
           "aaxis": {
            "gridcolor": "white",
            "linecolor": "white",
            "ticks": ""
           },
           "baxis": {
            "gridcolor": "white",
            "linecolor": "white",
            "ticks": ""
           },
           "bgcolor": "#E5ECF6",
           "caxis": {
            "gridcolor": "white",
            "linecolor": "white",
            "ticks": ""
           }
          },
          "title": {
           "x": 0.05
          },
          "xaxis": {
           "automargin": true,
           "gridcolor": "white",
           "linecolor": "white",
           "ticks": "",
           "title": {
            "standoff": 15
           },
           "zerolinecolor": "white",
           "zerolinewidth": 2
          },
          "yaxis": {
           "automargin": true,
           "gridcolor": "white",
           "linecolor": "white",
           "ticks": "",
           "title": {
            "standoff": 15
           },
           "zerolinecolor": "white",
           "zerolinewidth": 2
          }
         }
        },
        "title": {
         "text": "Среднее время приготовления блюда по разным кухням"
        },
        "width": 1200,
        "xaxis": {
         "anchor": "y",
         "autorange": true,
         "categoryorder": "total descending",
         "domain": [
          0,
          1
         ],
         "range": [
          -0.5,
          57.5
         ],
         "title": {
          "text": "Кухня"
         },
         "type": "category"
        },
        "yaxis": {
         "anchor": "x",
         "autorange": true,
         "domain": [
          0,
          1
         ],
         "range": [
          0,
          315.7894736842105
         ],
         "title": {
          "text": "Среднее время приготовления блюда"
         },
         "type": "linear"
        }
       }
      },
      "image/png": "[encoded data removed]",
      "text/html": [
       "<div>                            <div id=\"b69a1d82-b079-4540-8845-cbaccae44632\" class=\"plotly-graph-div\" style=\"height:600px; width:1200px;\"></div>            <script type=\"text/javascript\">                require([\"plotly\"], function(Plotly) {                    window.PLOTLYENV=window.PLOTLYENV || {};                                    if (document.getElementById(\"b69a1d82-b079-4540-8845-cbaccae44632\")) {                    Plotly.newPlot(                        \"b69a1d82-b079-4540-8845-cbaccae44632\",                        [{\"alignmentgroup\":\"True\",\"hovertemplate\":\"\\u041a\\u0443\\u0445\\u043d\\u044f=%{x}<br>\\u0421\\u0440\\u0435\\u0434\\u043d\\u0435\\u0435 \\u0432\\u0440\\u0435\\u043c\\u044f \\u043f\\u0440\\u0438\\u0433\\u043e\\u0442\\u043e\\u0432\\u043b\\u0435\\u043d\\u0438\\u044f \\u0431\\u043b\\u044e\\u0434\\u0430=%{y}<extra></extra>\",\"legendgroup\":\"\",\"marker\":{\"color\":\"#636efa\",\"pattern\":{\"shape\":\"\"}},\"name\":\"\",\"offsetgroup\":\"\",\"orientation\":\"v\",\"showlegend\":false,\"textposition\":\"auto\",\"x\":[\"\\u0410\\u0432\\u0441\\u0442\\u0440\\u0438\\u0439\\u0441\\u043a\\u0430\\u044f \\u043a\\u0443\\u0445\\u043d\\u044f\",\"\\u0410\\u0432\\u0442\\u043e\\u0440\\u0441\\u043a\\u0430\\u044f \\u043a\\u0443\\u0445\\u043d\\u044f\",\"\\u0410\\u0437\\u0435\\u0440\\u0431\\u0430\\u0439\\u0434\\u0436\\u0430\\u043d\\u0441\\u043a\\u0430\\u044f \\u043a\\u0443\\u0445\\u043d\\u044f\",\"\\u0410\\u043c\\u0435\\u0440\\u0438\\u043a\\u0430\\u043d\\u0441\\u043a\\u0430\\u044f \\u043a\\u0443\\u0445\\u043d\\u044f\",\"\\u0410\\u0440\\u0430\\u0431\\u0441\\u043a\\u0430\\u044f \\u043a\\u0443\\u0445\\u043d\\u044f\",\"\\u0410\\u0440\\u043c\\u044f\\u043d\\u0441\\u043a\\u0430\\u044f \\u043a\\u0443\\u0445\\u043d\\u044f\",\"\\u0410\\u0444\\u0440\\u0438\\u043a\\u0430\\u043d\\u0441\\u043a\\u0430\\u044f \\u043a\\u0443\\u0445\\u043d\\u044f\",\"\\u0411\\u0435\\u043b\\u043e\\u0440\\u0443\\u0441\\u0441\\u043a\\u0430\\u044f \\u043a\\u0443\\u0445\\u043d\\u044f\",\"\\u0411\\u0435\\u043b\\u044c\\u0433\\u0438\\u0439\\u0441\\u043a\\u0430\\u044f \\u043a\\u0443\\u0445\\u043d\\u044f\",\"\\u0411\\u043e\\u043b\\u0433\\u0430\\u0440\\u0441\\u043a\\u0430\\u044f \\u043a\\u0443\\u0445\\u043d\\u044f\",\"\\u0411\\u0440\\u0430\\u0437\\u0438\\u043b\\u044c\\u0441\\u043a\\u0430\\u044f \\u043a\\u0443\\u0445\\u043d\\u044f\",\"\\u0411\\u0440\\u0438\\u0442\\u0430\\u043d\\u0441\\u043a\\u0430\\u044f \\u043a\\u0443\\u0445\\u043d\\u044f\",\"\\u0412\\u0435\\u0433\\u0430\\u043d\\u0441\\u043a\\u0430\\u044f \\u0435\\u0434\\u0430\",\"\\u0412\\u0435\\u043d\\u0433\\u0435\\u0440\\u0441\\u043a\\u0430\\u044f \\u043a\\u0443\\u0445\\u043d\\u044f\",\"\\u0413\\u043e\\u043b\\u043b\\u0430\\u043d\\u0434\\u0441\\u043a\\u0430\\u044f \\u043a\\u0443\\u0445\\u043d\\u044f\",\"\\u0413\\u0440\\u0435\\u0447\\u0435\\u0441\\u043a\\u0430\\u044f \\u043a\\u0443\\u0445\\u043d\\u044f\",\"\\u0413\\u0440\\u0443\\u0437\\u0438\\u043d\\u0441\\u043a\\u0430\\u044f \\u043a\\u0443\\u0445\\u043d\\u044f\",\"\\u0414\\u0430\\u0442\\u0441\\u043a\\u0430\\u044f \\u043a\\u0443\\u0445\\u043d\\u044f\",\"\\u0415\\u0432\\u0440\\u0435\\u0439\\u0441\\u043a\\u0430\\u044f \\u043a\\u0443\\u0445\\u043d\\u044f\",\"\\u0415\\u0432\\u0440\\u043e\\u043f\\u0435\\u0439\\u0441\\u043a\\u0430\\u044f \\u043a\\u0443\\u0445\\u043d\\u044f\",\"\\u0418\\u043d\\u0434\\u0438\\u0439\\u0441\\u043a\\u0430\\u044f \\u043a\\u0443\\u0445\\u043d\\u044f\",\"\\u0418\\u043d\\u0434\\u043e\\u043d\\u0435\\u0437\\u0438\\u0439\\u0441\\u043a\\u0430\\u044f \\u043a\\u0443\\u0445\\u043d\\u044f\",\"\\u0418\\u0440\\u043b\\u0430\\u043d\\u0434\\u0441\\u043a\\u0430\\u044f \\u043a\\u0443\\u0445\\u043d\\u044f\",\"\\u0418\\u0441\\u043f\\u0430\\u043d\\u0441\\u043a\\u0430\\u044f \\u043a\\u0443\\u0445\\u043d\\u044f\",\"\\u0418\\u0442\\u0430\\u043b\\u044c\\u044f\\u043d\\u0441\\u043a\\u0430\\u044f \\u043a\\u0443\\u0445\\u043d\\u044f\",\"\\u041a\\u0430\\u0432\\u043a\\u0430\\u0437\\u0441\\u043a\\u0430\\u044f \\u043a\\u0443\\u0445\\u043d\\u044f\",\"\\u041a\\u0438\\u0440\\u0433\\u0438\\u0437\\u0441\\u043a\\u0430\\u044f \\u043a\\u0443\\u0445\\u043d\\u044f\",\"\\u041a\\u0438\\u0442\\u0430\\u0439\\u0441\\u043a\\u0430\\u044f \\u043a\\u0443\\u0445\\u043d\\u044f\",\"\\u041a\\u043e\\u0440\\u0435\\u0439\\u0441\\u043a\\u0430\\u044f \\u043a\\u0443\\u0445\\u043d\\u044f\",\"\\u041a\\u0440\\u0435\\u043e\\u043b\\u044c\\u0441\\u043a\\u0430\\u044f \\u043a\\u0443\\u0445\\u043d\\u044f\",\"\\u041a\\u0443\\u0431\\u0438\\u043d\\u0441\\u043a\\u0430\\u044f \\u043a\\u0443\\u0445\\u043d\\u044f\",\"\\u041a\\u0443\\u0445\\u043d\\u044f \\u0412\\u0435\\u0441\\u0442\\u0435\\u0440\\u043e\\u0441\\u0430\",\"\\u041b\\u0430\\u0442\\u0438\\u043d\\u043e\\u0430\\u043c\\u0435\\u0440\\u0438\\u043a\\u0430\\u043d\\u0441\\u043a\\u0430\\u044f \\u043a\\u0443\\u0445\\u043d\\u044f\",\"\\u041b\\u0438\\u0432\\u0430\\u043d\\u0441\\u043a\\u0430\\u044f \\u043a\\u0443\\u0445\\u043d\\u044f\",\"\\u041b\\u0438\\u0442\\u043e\\u0432\\u0441\\u043a\\u0430\\u044f \\u043a\\u0443\\u0445\\u043d\\u044f\",\"\\u041c\\u0430\\u0440\\u043e\\u043a\\u043a\\u0430\\u043d\\u0441\\u043a\\u0430\\u044f \\u043a\\u0443\\u0445\\u043d\\u044f\",\"\\u041c\\u0435\\u043a\\u0441\\u0438\\u043a\\u0430\\u043d\\u0441\\u043a\\u0430\\u044f \\u043a\\u0443\\u0445\\u043d\\u044f\",\"\\u041c\\u0438\\u0440\\u043e\\u0432\\u0430\\u044f \\u043a\\u0443\\u0445\\u043d\\u044f\",\"\\u041d\\u0435\\u043c\\u0435\\u0446\\u043a\\u0430\\u044f \\u043a\\u0443\\u0445\\u043d\\u044f\",\"\\u041e\\u0434\\u0435\\u0441\\u0441\\u043a\\u0430\\u044f \\u043a\\u0443\\u0445\\u043d\\u044f\",\"\\u041f\\u0430\\u043d\\u0430\\u0437\\u0438\\u0430\\u0442\\u0441\\u043a\\u0430\\u044f \\u043a\\u0443\\u0445\\u043d\\u044f\",\"\\u041f\\u043e\\u043b\\u044c\\u0441\\u043a\\u0430\\u044f \\u043a\\u0443\\u0445\\u043d\\u044f\",\"\\u041f\\u043e\\u0440\\u0442\\u0443\\u0433\\u0430\\u043b\\u044c\\u0441\\u043a\\u0430\\u044f \\u043a\\u0443\\u0445\\u043d\\u044f\",\"\\u0420\\u0443\\u0441\\u0441\\u043a\\u0430\\u044f \\u043a\\u0443\\u0445\\u043d\\u044f\",\"\\u0421\\u043e\\u0432\\u0435\\u0442\\u0441\\u043a\\u0430\\u044f \\u043a\\u0443\\u0445\\u043d\\u044f\",\"\\u0421\\u0440\\u0435\\u0434\\u0438\\u0437\\u0435\\u043c\\u043d\\u043e\\u043c\\u043e\\u0440\\u0441\\u043a\\u0430\\u044f \\u043a\\u0443\\u0445\\u043d\\u044f\",\"\\u0422\\u0430\\u0439\\u0441\\u043a\\u0430\\u044f \\u043a\\u0443\\u0445\\u043d\\u044f\",\"\\u0422\\u0443\\u0440\\u0435\\u0446\\u043a\\u0430\\u044f \\u043a\\u0443\\u0445\\u043d\\u044f\",\"\\u0423\\u0437\\u0431\\u0435\\u043a\\u0441\\u043a\\u0430\\u044f \\u043a\\u0443\\u0445\\u043d\\u044f\",\"\\u0423\\u043a\\u0440\\u0430\\u0438\\u043d\\u0441\\u043a\\u0430\\u044f \\u043a\\u0443\\u0445\\u043d\\u044f\",\"\\u0424\\u0438\\u043b\\u0438\\u043f\\u043f\\u0438\\u043d\\u0441\\u043a\\u0430\\u044f \\u043a\\u0443\\u0445\\u043d\\u044f\",\"\\u0424\\u0438\\u043d\\u0441\\u043a\\u0430\\u044f \\u043a\\u0443\\u0445\\u043d\\u044f\",\"\\u0424\\u0440\\u0430\\u043d\\u0446\\u0443\\u0437\\u0441\\u043a\\u0430\\u044f \\u043a\\u0443\\u0445\\u043d\\u044f\",\"\\u0427\\u0435\\u0448\\u0441\\u043a\\u0430\\u044f \\u043a\\u0443\\u0445\\u043d\\u044f\",\"\\u0428\\u0432\\u0435\\u0434\\u0441\\u043a\\u0430\\u044f \\u043a\\u0443\\u0445\\u043d\\u044f\",\"\\u0428\\u043e\\u0442\\u043b\\u0430\\u043d\\u0434\\u0441\\u043a\\u0430\\u044f \\u043a\\u0443\\u0445\\u043d\\u044f\",\"\\u042d\\u0441\\u0442\\u043e\\u043d\\u0441\\u043a\\u0430\\u044f \\u043a\\u0443\\u0445\\u043d\\u044f\",\"\\u042f\\u043f\\u043e\\u043d\\u0441\\u043a\\u0430\\u044f \\u043a\\u0443\\u0445\\u043d\\u044f\"],\"xaxis\":\"x\",\"y\":[31.666666666666668,56.36363636363637,110.0,46.42857142857143,110.0,67.0,180.0,35.0,78.33333333333333,45.0,55.0,138.1818181818182,22.5,90.0,110.0,97.22222222222223,132.33333333333334,60.0,62.5,64.08536585365853,74.375,72.5,300.0,86.25,47.5,40.0,300.0,42.375,60.0,60.0,140.0,105.0,140.0,55.0,125.0,130.0,89.16666666666667,43.75,66.25,50.0,38.0,90.0,90.0,56.76923076923077,74.44444444444444,50.0,45.416666666666664,80.0,127.0,54.0,90.0,150.0,102.90322580645162,120.0,66.11111111111111,300.0,70.0,20.0],\"yaxis\":\"y\",\"type\":\"bar\"}],                        {\"template\":{\"data\":{\"histogram2dcontour\":[{\"type\":\"histogram2dcontour\",\"colorbar\":{\"outlinewidth\":0,\"ticks\":\"\"},\"colorscale\":[[0.0,\"#0d0887\"],[0.1111111111111111,\"#46039f\"],[0.2222222222222222,\"#7201a8\"],[0.3333333333333333,\"#9c179e\"],[0.4444444444444444,\"#bd3786\"],[0.5555555555555556,\"#d8576b\"],[0.6666666666666666,\"#ed7953\"],[0.7777777777777778,\"#fb9f3a\"],[0.8888888888888888,\"#fdca26\"],[1.0,\"#f0f921\"]]}],\"choropleth\":[{\"type\":\"choropleth\",\"colorbar\":{\"outlinewidth\":0,\"ticks\":\"\"}}],\"histogram2d\":[{\"type\":\"histogram2d\",\"colorbar\":{\"outlinewidth\":0,\"ticks\":\"\"},\"colorscale\":[[0.0,\"#0d0887\"],[0.1111111111111111,\"#46039f\"],[0.2222222222222222,\"#7201a8\"],[0.3333333333333333,\"#9c179e\"],[0.4444444444444444,\"#bd3786\"],[0.5555555555555556,\"#d8576b\"],[0.6666666666666666,\"#ed7953\"],[0.7777777777777778,\"#fb9f3a\"],[0.8888888888888888,\"#fdca26\"],[1.0,\"#f0f921\"]]}],\"heatmap\":[{\"type\":\"heatmap\",\"colorbar\":{\"outlinewidth\":0,\"ticks\":\"\"},\"colorscale\":[[0.0,\"#0d0887\"],[0.1111111111111111,\"#46039f\"],[0.2222222222222222,\"#7201a8\"],[0.3333333333333333,\"#9c179e\"],[0.4444444444444444,\"#bd3786\"],[0.5555555555555556,\"#d8576b\"],[0.6666666666666666,\"#ed7953\"],[0.7777777777777778,\"#fb9f3a\"],[0.8888888888888888,\"#fdca26\"],[1.0,\"#f0f921\"]]}],\"heatmapgl\":[{\"type\":\"heatmapgl\",\"colorbar\":{\"outlinewidth\":0,\"ticks\":\"\"},\"colorscale\":[[0.0,\"#0d0887\"],[0.1111111111111111,\"#46039f\"],[0.2222222222222222,\"#7201a8\"],[0.3333333333333333,\"#9c179e\"],[0.4444444444444444,\"#bd3786\"],[0.5555555555555556,\"#d8576b\"],[0.6666666666666666,\"#ed7953\"],[0.7777777777777778,\"#fb9f3a\"],[0.8888888888888888,\"#fdca26\"],[1.0,\"#f0f921\"]]}],\"contourcarpet\":[{\"type\":\"contourcarpet\",\"colorbar\":{\"outlinewidth\":0,\"ticks\":\"\"}}],\"contour\":[{\"type\":\"contour\",\"colorbar\":{\"outlinewidth\":0,\"ticks\":\"\"},\"colorscale\":[[0.0,\"#0d0887\"],[0.1111111111111111,\"#46039f\"],[0.2222222222222222,\"#7201a8\"],[0.3333333333333333,\"#9c179e\"],[0.4444444444444444,\"#bd3786\"],[0.5555555555555556,\"#d8576b\"],[0.6666666666666666,\"#ed7953\"],[0.7777777777777778,\"#fb9f3a\"],[0.8888888888888888,\"#fdca26\"],[1.0,\"#f0f921\"]]}],\"surface\":[{\"type\":\"surface\",\"colorbar\":{\"outlinewidth\":0,\"ticks\":\"\"},\"colorscale\":[[0.0,\"#0d0887\"],[0.1111111111111111,\"#46039f\"],[0.2222222222222222,\"#7201a8\"],[0.3333333333333333,\"#9c179e\"],[0.4444444444444444,\"#bd3786\"],[0.5555555555555556,\"#d8576b\"],[0.6666666666666666,\"#ed7953\"],[0.7777777777777778,\"#fb9f3a\"],[0.8888888888888888,\"#fdca26\"],[1.0,\"#f0f921\"]]}],\"mesh3d\":[{\"type\":\"mesh3d\",\"colorbar\":{\"outlinewidth\":0,\"ticks\":\"\"}}],\"scatter\":[{\"fillpattern\":{\"fillmode\":\"overlay\",\"size\":10,\"solidity\":0.2},\"type\":\"scatter\"}],\"parcoords\":[{\"type\":\"parcoords\",\"line\":{\"colorbar\":{\"outlinewidth\":0,\"ticks\":\"\"}}}],\"scatterpolargl\":[{\"type\":\"scatterpolargl\",\"marker\":{\"colorbar\":{\"outlinewidth\":0,\"ticks\":\"\"}}}],\"bar\":[{\"error_x\":{\"color\":\"#2a3f5f\"},\"error_y\":{\"color\":\"#2a3f5f\"},\"marker\":{\"line\":{\"color\":\"#E5ECF6\",\"width\":0.5},\"pattern\":{\"fillmode\":\"overlay\",\"size\":10,\"solidity\":0.2}},\"type\":\"bar\"}],\"scattergeo\":[{\"type\":\"scattergeo\",\"marker\":{\"colorbar\":{\"outlinewidth\":0,\"ticks\":\"\"}}}],\"scatterpolar\":[{\"type\":\"scatterpolar\",\"marker\":{\"colorbar\":{\"outlinewidth\":0,\"ticks\":\"\"}}}],\"histogram\":[{\"marker\":{\"pattern\":{\"fillmode\":\"overlay\",\"size\":10,\"solidity\":0.2}},\"type\":\"histogram\"}],\"scattergl\":[{\"type\":\"scattergl\",\"marker\":{\"colorbar\":{\"outlinewidth\":0,\"ticks\":\"\"}}}],\"scatter3d\":[{\"type\":\"scatter3d\",\"line\":{\"colorbar\":{\"outlinewidth\":0,\"ticks\":\"\"}},\"marker\":{\"colorbar\":{\"outlinewidth\":0,\"ticks\":\"\"}}}],\"scattermapbox\":[{\"type\":\"scattermapbox\",\"marker\":{\"colorbar\":{\"outlinewidth\":0,\"ticks\":\"\"}}}],\"scatterternary\":[{\"type\":\"scatterternary\",\"marker\":{\"colorbar\":{\"outlinewidth\":0,\"ticks\":\"\"}}}],\"scattercarpet\":[{\"type\":\"scattercarpet\",\"marker\":{\"colorbar\":{\"outlinewidth\":0,\"ticks\":\"\"}}}],\"carpet\":[{\"aaxis\":{\"endlinecolor\":\"#2a3f5f\",\"gridcolor\":\"white\",\"linecolor\":\"white\",\"minorgridcolor\":\"white\",\"startlinecolor\":\"#2a3f5f\"},\"baxis\":{\"endlinecolor\":\"#2a3f5f\",\"gridcolor\":\"white\",\"linecolor\":\"white\",\"minorgridcolor\":\"white\",\"startlinecolor\":\"#2a3f5f\"},\"type\":\"carpet\"}],\"table\":[{\"cells\":{\"fill\":{\"color\":\"#EBF0F8\"},\"line\":{\"color\":\"white\"}},\"header\":{\"fill\":{\"color\":\"#C8D4E3\"},\"line\":{\"color\":\"white\"}},\"type\":\"table\"}],\"barpolar\":[{\"marker\":{\"line\":{\"color\":\"#E5ECF6\",\"width\":0.5},\"pattern\":{\"fillmode\":\"overlay\",\"size\":10,\"solidity\":0.2}},\"type\":\"barpolar\"}],\"pie\":[{\"automargin\":true,\"type\":\"pie\"}]},\"layout\":{\"autotypenumbers\":\"strict\",\"colorway\":[\"#636efa\",\"#EF553B\",\"#00cc96\",\"#ab63fa\",\"#FFA15A\",\"#19d3f3\",\"#FF6692\",\"#B6E880\",\"#FF97FF\",\"#FECB52\"],\"font\":{\"color\":\"#2a3f5f\"},\"hovermode\":\"closest\",\"hoverlabel\":{\"align\":\"left\"},\"paper_bgcolor\":\"white\",\"plot_bgcolor\":\"#E5ECF6\",\"polar\":{\"bgcolor\":\"#E5ECF6\",\"angularaxis\":{\"gridcolor\":\"white\",\"linecolor\":\"white\",\"ticks\":\"\"},\"radialaxis\":{\"gridcolor\":\"white\",\"linecolor\":\"white\",\"ticks\":\"\"}},\"ternary\":{\"bgcolor\":\"#E5ECF6\",\"aaxis\":{\"gridcolor\":\"white\",\"linecolor\":\"white\",\"ticks\":\"\"},\"baxis\":{\"gridcolor\":\"white\",\"linecolor\":\"white\",\"ticks\":\"\"},\"caxis\":{\"gridcolor\":\"white\",\"linecolor\":\"white\",\"ticks\":\"\"}},\"coloraxis\":{\"colorbar\":{\"outlinewidth\":0,\"ticks\":\"\"}},\"colorscale\":{\"sequential\":[[0.0,\"#0d0887\"],[0.1111111111111111,\"#46039f\"],[0.2222222222222222,\"#7201a8\"],[0.3333333333333333,\"#9c179e\"],[0.4444444444444444,\"#bd3786\"],[0.5555555555555556,\"#d8576b\"],[0.6666666666666666,\"#ed7953\"],[0.7777777777777778,\"#fb9f3a\"],[0.8888888888888888,\"#fdca26\"],[1.0,\"#f0f921\"]],\"sequentialminus\":[[0.0,\"#0d0887\"],[0.1111111111111111,\"#46039f\"],[0.2222222222222222,\"#7201a8\"],[0.3333333333333333,\"#9c179e\"],[0.4444444444444444,\"#bd3786\"],[0.5555555555555556,\"#d8576b\"],[0.6666666666666666,\"#ed7953\"],[0.7777777777777778,\"#fb9f3a\"],[0.8888888888888888,\"#fdca26\"],[1.0,\"#f0f921\"]],\"diverging\":[[0,\"#8e0152\"],[0.1,\"#c51b7d\"],[0.2,\"#de77ae\"],[0.3,\"#f1b6da\"],[0.4,\"#fde0ef\"],[0.5,\"#f7f7f7\"],[0.6,\"#e6f5d0\"],[0.7,\"#b8e186\"],[0.8,\"#7fbc41\"],[0.9,\"#4d9221\"],[1,\"#276419\"]]},\"xaxis\":{\"gridcolor\":\"white\",\"linecolor\":\"white\",\"ticks\":\"\",\"title\":{\"standoff\":15},\"zerolinecolor\":\"white\",\"automargin\":true,\"zerolinewidth\":2},\"yaxis\":{\"gridcolor\":\"white\",\"linecolor\":\"white\",\"ticks\":\"\",\"title\":{\"standoff\":15},\"zerolinecolor\":\"white\",\"automargin\":true,\"zerolinewidth\":2},\"scene\":{\"xaxis\":{\"backgroundcolor\":\"#E5ECF6\",\"gridcolor\":\"white\",\"linecolor\":\"white\",\"showbackground\":true,\"ticks\":\"\",\"zerolinecolor\":\"white\",\"gridwidth\":2},\"yaxis\":{\"backgroundcolor\":\"#E5ECF6\",\"gridcolor\":\"white\",\"linecolor\":\"white\",\"showbackground\":true,\"ticks\":\"\",\"zerolinecolor\":\"white\",\"gridwidth\":2},\"zaxis\":{\"backgroundcolor\":\"#E5ECF6\",\"gridcolor\":\"white\",\"linecolor\":\"white\",\"showbackground\":true,\"ticks\":\"\",\"zerolinecolor\":\"white\",\"gridwidth\":2}},\"shapedefaults\":{\"line\":{\"color\":\"#2a3f5f\"}},\"annotationdefaults\":{\"arrowcolor\":\"#2a3f5f\",\"arrowhead\":0,\"arrowwidth\":1},\"geo\":{\"bgcolor\":\"white\",\"landcolor\":\"#E5ECF6\",\"subunitcolor\":\"white\",\"showland\":true,\"showlakes\":true,\"lakecolor\":\"white\"},\"title\":{\"x\":0.05},\"mapbox\":{\"style\":\"light\"}}},\"xaxis\":{\"anchor\":\"y\",\"domain\":[0.0,1.0],\"title\":{\"text\":\"\\u041a\\u0443\\u0445\\u043d\\u044f\"},\"categoryorder\":\"total descending\"},\"yaxis\":{\"anchor\":\"x\",\"domain\":[0.0,1.0],\"title\":{\"text\":\"\\u0421\\u0440\\u0435\\u0434\\u043d\\u0435\\u0435 \\u0432\\u0440\\u0435\\u043c\\u044f \\u043f\\u0440\\u0438\\u0433\\u043e\\u0442\\u043e\\u0432\\u043b\\u0435\\u043d\\u0438\\u044f \\u0431\\u043b\\u044e\\u0434\\u0430\"}},\"legend\":{\"tracegroupgap\":0},\"title\":{\"text\":\"\\u0421\\u0440\\u0435\\u0434\\u043d\\u0435\\u0435 \\u0432\\u0440\\u0435\\u043c\\u044f \\u043f\\u0440\\u0438\\u0433\\u043e\\u0442\\u043e\\u0432\\u043b\\u0435\\u043d\\u0438\\u044f \\u0431\\u043b\\u044e\\u0434\\u0430 \\u043f\\u043e \\u0440\\u0430\\u0437\\u043d\\u044b\\u043c \\u043a\\u0443\\u0445\\u043d\\u044f\\u043c\"},\"barmode\":\"relative\",\"bargap\":0.2,\"width\":1200,\"height\":600},                        {\"responsive\": true}                    ).then(function(){\n",
       "                            \n",
       "var gd = document.getElementById('b69a1d82-b079-4540-8845-cbaccae44632');\n",
       "var x = new MutationObserver(function (mutations, observer) {{\n",
       "        var display = window.getComputedStyle(gd).display;\n",
       "        if (!display || display === 'none') {{\n",
       "            console.log([gd, 'removed!']);\n",
       "            Plotly.purge(gd);\n",
       "            observer.disconnect();\n",
       "        }}\n",
       "}});\n",
       "\n",
       "// Listen for the removal of the full notebook cells\n",
       "var notebookContainer = gd.closest('#notebook-container');\n",
       "if (notebookContainer) {{\n",
       "    x.observe(notebookContainer, {childList: true});\n",
       "}}\n",
       "\n",
       "// Listen for the clearing of the current output cell\n",
       "var outputEl = gd.closest('.output');\n",
       "if (outputEl) {{\n",
       "    x.observe(outputEl, {childList: true});\n",
       "}}\n",
       "\n",
       "                        })                };                });            </script>        </div>"
      ]
     },
     "metadata": {},
     "output_type": "display_data"
    }
   ],
   "source": [
    "likes_by_cuisine = all_dishes.groupby('Кухня')['Время приготовления'].mean().reset_index()\n",
    "\n",
    "import plotly.express as px\n",
    "fig = px.bar(likes_by_cuisine, x='Кухня', y='Время приготовления',              title='Среднее время приготовления блюда по разным кухням', \n",
    "             labels={'Время приготовления': 'Среднее время приготовления блюда', 'Кухня': 'Кухня'},                          template='plotly')\n",
    "\n",
    "fig.update_layout(xaxis_categoryorder='total descending', bargap=0.2) \n",
    "fig.update_layout(width=1200, height=600)\n",
    "\n",
    "fig.show()"
   ]
  },
  {
   "cell_type": "markdown",
   "id": "64c57039-a857-4b1b-8687-ac2a83346c42",
   "metadata": {},
   "source": [
    "Таким образом, можно заключить, что кухни с самым большим количеством калорий на одно блюдо являются \"Ирландская кухня\", \"Киргизская кухня\" и \"Шотландская кухня\""
   ]
  },
  {
   "cell_type": "code",
   "execution_count": 170,
   "id": "e773034a-7ca4-4bb8-a7ec-38b14970e442",
   "metadata": {},
   "outputs": [
    {
     "data": {
      "application/vnd.plotly.v1+json": {
       "config": {
        "plotlyServerURL": "https://plot.ly"
       },
       "data": [
        {
         "alignmentgroup": "True",
         "hovertemplate": "Тип=%{x}<br>Среднее количество калорий=%{y}<extra></extra>",
         "legendgroup": "",
         "marker": {
          "color": "#636efa",
          "pattern": {
           "shape": ""
          }
         },
         "name": "",
         "offsetgroup": "",
         "orientation": "v",
         "showlegend": false,
         "textposition": "auto",
         "type": "bar",
         "x": [
          "Азу",
          "Бефстроганов",
          "Бигус",
          "Биточки",
          "Бифштекс",
          "Блюда из баранины",
          "Блюда из говядины",
          "Блюда из круп",
          "Блюда из курицы",
          "Блюда из морепродуктов",
          "Блюда из мяса",
          "Блюда из овощей",
          "Блюда из птицы",
          "Блюда из рыбы",
          "Блюда с рисом",
          "Блюда с соевым соусом",
          "Блюда с фаршем",
          "Буженина",
          "Вареники",
          "Всюду жизнь",
          "Галушки",
          "Гамбургер",
          "Голубцы",
          "Гороховый суп",
          "Горячие закуски",
          "Гратен",
          "Гречневая каша",
          "Гуляш",
          "Гуляш из говядины",
          "Гуляш из свинины",
          "Деруны",
          "Драники",
          "Жаркое",
          "Запеканка",
          "Запеканка из кабачков",
          "Здоровье",
          "Зразы",
          "Картошка с грибами",
          "Каши",
          "Каши на воде",
          "Киевские котлеты",
          "Клецки",
          "Котлеты",
          "Курица в духовке",
          "Лагман",
          "Лазанья",
          "Лапша",
          "Лобио",
          "Люля-кебаб",
          "Макароны",
          "Манты",
          "Мусака",
          "Мясной бульон",
          "Мясо в духовке",
          "Мясо по-французски",
          "Новогодние блюда из курицы",
          "Новогодние блюда из свинины",
          "Новости партнеров",
          "Овощи в духовке",
          "Овощное рагу",
          "Овощное рагу с кабачками",
          "Омлет",
          "Отбивные",
          "Паштеты",
          "Паэлья",
          "Пельмени",
          "Перец фаршированный",
          "Печеночные оладьи",
          "Пироги",
          "Пирожки",
          "Плов",
          "Плов с курицей",
          "Постные котлеты",
          "Праздничные блюда из свинины",
          "Продукт",
          "Пюре",
          "Рагу",
          "Рататуй",
          "Рестораны",
          "Ростбиф",
          "Рулеты",
          "Рыба в духовке",
          "Салаты с курицей",
          "Сациви",
          "Сироп",
          "Солянка",
          "Соте",
          "Соусы к рыбе",
          "Спагетти",
          "Стейки",
          "Суп-пюре",
          "Такос",
          "Тартар",
          "Терияки",
          "Тефтели",
          "Узбекский плов",
          "Фаршированные блюда",
          "Фрикадельки",
          "Хинкали",
          "Хлеб",
          "Холодец",
          "Холодные закуски",
          "Цыпленок табака",
          "Чатни",
          "Чахохбили",
          "Чипсы",
          "Шашлык",
          "Шашлык из свинины",
          "Шницель",
          "Яичница"
         ],
         "xaxis": "x",
         "y": [
          675,
          756.5,
          442,
          658,
          614,
          644.6,
          292,
          386,
          698.3333333333334,
          370.3333333333333,
          684,
          500,
          610.1818181818181,
          727.6666666666666,
          920.6666666666666,
          591,
          460,
          842,
          312,
          524,
          538,
          1768,
          784.6666666666666,
          873,
          745.7051282051282,
          362,
          619,
          398,
          571.5,
          581,
          130,
          584,
          707.3636363636364,
          531.6666666666666,
          340,
          393.5,
          559,
          496,
          559.4,
          357,
          2056.5,
          1128,
          513.1034482758621,
          619.2,
          555,
          492,
          638.75,
          215,
          748,
          677.6666666666666,
          849,
          716.6666666666666,
          935,
          713.5714285714286,
          562,
          767,
          994.3333333333334,
          688,
          428,
          262,
          285,
          662,
          974.2,
          515,
          576,
          444.1666666666667,
          494,
          233,
          652.8,
          296,
          790,
          1136,
          1213,
          1304,
          447,
          870.1111111111111,
          664.0714285714286,
          338,
          830,
          284,
          745,
          563.25,
          517,
          835,
          512.5,
          263,
          337,
          697.4285714285714,
          907,
          1183.7,
          724,
          2180,
          1411,
          373,
          507.14285714285717,
          437,
          657,
          716,
          1100,
          435,
          307,
          757.5,
          782,
          590,
          616.5,
          944,
          1024.5,
          953,
          1059,
          832
         ],
         "yaxis": "y"
        }
       ],
       "layout": {
        "bargap": 0.2,
        "barmode": "relative",
        "height": 600,
        "legend": {
         "tracegroupgap": 0
        },
        "template": {
         "data": {
          "bar": [
           {
            "error_x": {
             "color": "#2a3f5f"
            },
            "error_y": {
             "color": "#2a3f5f"
            },
            "marker": {
             "line": {
              "color": "#E5ECF6",
              "width": 0.5
             },
             "pattern": {
              "fillmode": "overlay",
              "size": 10,
              "solidity": 0.2
             }
            },
            "type": "bar"
           }
          ],
          "barpolar": [
           {
            "marker": {
             "line": {
              "color": "#E5ECF6",
              "width": 0.5
             },
             "pattern": {
              "fillmode": "overlay",
              "size": 10,
              "solidity": 0.2
             }
            },
            "type": "barpolar"
           }
          ],
          "carpet": [
           {
            "aaxis": {
             "endlinecolor": "#2a3f5f",
             "gridcolor": "white",
             "linecolor": "white",
             "minorgridcolor": "white",
             "startlinecolor": "#2a3f5f"
            },
            "baxis": {
             "endlinecolor": "#2a3f5f",
             "gridcolor": "white",
             "linecolor": "white",
             "minorgridcolor": "white",
             "startlinecolor": "#2a3f5f"
            },
            "type": "carpet"
           }
          ],
          "choropleth": [
           {
            "colorbar": {
             "outlinewidth": 0,
             "ticks": ""
            },
            "type": "choropleth"
           }
          ],
          "contour": [
           {
            "colorbar": {
             "outlinewidth": 0,
             "ticks": ""
            },
            "colorscale": [
             [
              0,
              "#0d0887"
             ],
             [
              0.1111111111111111,
              "#46039f"
             ],
             [
              0.2222222222222222,
              "#7201a8"
             ],
             [
              0.3333333333333333,
              "#9c179e"
             ],
             [
              0.4444444444444444,
              "#bd3786"
             ],
             [
              0.5555555555555556,
              "#d8576b"
             ],
             [
              0.6666666666666666,
              "#ed7953"
             ],
             [
              0.7777777777777778,
              "#fb9f3a"
             ],
             [
              0.8888888888888888,
              "#fdca26"
             ],
             [
              1,
              "#f0f921"
             ]
            ],
            "type": "contour"
           }
          ],
          "contourcarpet": [
           {
            "colorbar": {
             "outlinewidth": 0,
             "ticks": ""
            },
            "type": "contourcarpet"
           }
          ],
          "heatmap": [
           {
            "colorbar": {
             "outlinewidth": 0,
             "ticks": ""
            },
            "colorscale": [
             [
              0,
              "#0d0887"
             ],
             [
              0.1111111111111111,
              "#46039f"
             ],
             [
              0.2222222222222222,
              "#7201a8"
             ],
             [
              0.3333333333333333,
              "#9c179e"
             ],
             [
              0.4444444444444444,
              "#bd3786"
             ],
             [
              0.5555555555555556,
              "#d8576b"
             ],
             [
              0.6666666666666666,
              "#ed7953"
             ],
             [
              0.7777777777777778,
              "#fb9f3a"
             ],
             [
              0.8888888888888888,
              "#fdca26"
             ],
             [
              1,
              "#f0f921"
             ]
            ],
            "type": "heatmap"
           }
          ],
          "heatmapgl": [
           {
            "colorbar": {
             "outlinewidth": 0,
             "ticks": ""
            },
            "colorscale": [
             [
              0,
              "#0d0887"
             ],
             [
              0.1111111111111111,
              "#46039f"
             ],
             [
              0.2222222222222222,
              "#7201a8"
             ],
             [
              0.3333333333333333,
              "#9c179e"
             ],
             [
              0.4444444444444444,
              "#bd3786"
             ],
             [
              0.5555555555555556,
              "#d8576b"
             ],
             [
              0.6666666666666666,
              "#ed7953"
             ],
             [
              0.7777777777777778,
              "#fb9f3a"
             ],
             [
              0.8888888888888888,
              "#fdca26"
             ],
             [
              1,
              "#f0f921"
             ]
            ],
            "type": "heatmapgl"
           }
          ],
          "histogram": [
           {
            "marker": {
             "pattern": {
              "fillmode": "overlay",
              "size": 10,
              "solidity": 0.2
             }
            },
            "type": "histogram"
           }
          ],
          "histogram2d": [
           {
            "colorbar": {
             "outlinewidth": 0,
             "ticks": ""
            },
            "colorscale": [
             [
              0,
              "#0d0887"
             ],
             [
              0.1111111111111111,
              "#46039f"
             ],
             [
              0.2222222222222222,
              "#7201a8"
             ],
             [
              0.3333333333333333,
              "#9c179e"
             ],
             [
              0.4444444444444444,
              "#bd3786"
             ],
             [
              0.5555555555555556,
              "#d8576b"
             ],
             [
              0.6666666666666666,
              "#ed7953"
             ],
             [
              0.7777777777777778,
              "#fb9f3a"
             ],
             [
              0.8888888888888888,
              "#fdca26"
             ],
             [
              1,
              "#f0f921"
             ]
            ],
            "type": "histogram2d"
           }
          ],
          "histogram2dcontour": [
           {
            "colorbar": {
             "outlinewidth": 0,
             "ticks": ""
            },
            "colorscale": [
             [
              0,
              "#0d0887"
             ],
             [
              0.1111111111111111,
              "#46039f"
             ],
             [
              0.2222222222222222,
              "#7201a8"
             ],
             [
              0.3333333333333333,
              "#9c179e"
             ],
             [
              0.4444444444444444,
              "#bd3786"
             ],
             [
              0.5555555555555556,
              "#d8576b"
             ],
             [
              0.6666666666666666,
              "#ed7953"
             ],
             [
              0.7777777777777778,
              "#fb9f3a"
             ],
             [
              0.8888888888888888,
              "#fdca26"
             ],
             [
              1,
              "#f0f921"
             ]
            ],
            "type": "histogram2dcontour"
           }
          ],
          "mesh3d": [
           {
            "colorbar": {
             "outlinewidth": 0,
             "ticks": ""
            },
            "type": "mesh3d"
           }
          ],
          "parcoords": [
           {
            "line": {
             "colorbar": {
              "outlinewidth": 0,
              "ticks": ""
             }
            },
            "type": "parcoords"
           }
          ],
          "pie": [
           {
            "automargin": true,
            "type": "pie"
           }
          ],
          "scatter": [
           {
            "fillpattern": {
             "fillmode": "overlay",
             "size": 10,
             "solidity": 0.2
            },
            "type": "scatter"
           }
          ],
          "scatter3d": [
           {
            "line": {
             "colorbar": {
              "outlinewidth": 0,
              "ticks": ""
             }
            },
            "marker": {
             "colorbar": {
              "outlinewidth": 0,
              "ticks": ""
             }
            },
            "type": "scatter3d"
           }
          ],
          "scattercarpet": [
           {
            "marker": {
             "colorbar": {
              "outlinewidth": 0,
              "ticks": ""
             }
            },
            "type": "scattercarpet"
           }
          ],
          "scattergeo": [
           {
            "marker": {
             "colorbar": {
              "outlinewidth": 0,
              "ticks": ""
             }
            },
            "type": "scattergeo"
           }
          ],
          "scattergl": [
           {
            "marker": {
             "colorbar": {
              "outlinewidth": 0,
              "ticks": ""
             }
            },
            "type": "scattergl"
           }
          ],
          "scattermapbox": [
           {
            "marker": {
             "colorbar": {
              "outlinewidth": 0,
              "ticks": ""
             }
            },
            "type": "scattermapbox"
           }
          ],
          "scatterpolar": [
           {
            "marker": {
             "colorbar": {
              "outlinewidth": 0,
              "ticks": ""
             }
            },
            "type": "scatterpolar"
           }
          ],
          "scatterpolargl": [
           {
            "marker": {
             "colorbar": {
              "outlinewidth": 0,
              "ticks": ""
             }
            },
            "type": "scatterpolargl"
           }
          ],
          "scatterternary": [
           {
            "marker": {
             "colorbar": {
              "outlinewidth": 0,
              "ticks": ""
             }
            },
            "type": "scatterternary"
           }
          ],
          "surface": [
           {
            "colorbar": {
             "outlinewidth": 0,
             "ticks": ""
            },
            "colorscale": [
             [
              0,
              "#0d0887"
             ],
             [
              0.1111111111111111,
              "#46039f"
             ],
             [
              0.2222222222222222,
              "#7201a8"
             ],
             [
              0.3333333333333333,
              "#9c179e"
             ],
             [
              0.4444444444444444,
              "#bd3786"
             ],
             [
              0.5555555555555556,
              "#d8576b"
             ],
             [
              0.6666666666666666,
              "#ed7953"
             ],
             [
              0.7777777777777778,
              "#fb9f3a"
             ],
             [
              0.8888888888888888,
              "#fdca26"
             ],
             [
              1,
              "#f0f921"
             ]
            ],
            "type": "surface"
           }
          ],
          "table": [
           {
            "cells": {
             "fill": {
              "color": "#EBF0F8"
             },
             "line": {
              "color": "white"
             }
            },
            "header": {
             "fill": {
              "color": "#C8D4E3"
             },
             "line": {
              "color": "white"
             }
            },
            "type": "table"
           }
          ]
         },
         "layout": {
          "annotationdefaults": {
           "arrowcolor": "#2a3f5f",
           "arrowhead": 0,
           "arrowwidth": 1
          },
          "autotypenumbers": "strict",
          "coloraxis": {
           "colorbar": {
            "outlinewidth": 0,
            "ticks": ""
           }
          },
          "colorscale": {
           "diverging": [
            [
             0,
             "#8e0152"
            ],
            [
             0.1,
             "#c51b7d"
            ],
            [
             0.2,
             "#de77ae"
            ],
            [
             0.3,
             "#f1b6da"
            ],
            [
             0.4,
             "#fde0ef"
            ],
            [
             0.5,
             "#f7f7f7"
            ],
            [
             0.6,
             "#e6f5d0"
            ],
            [
             0.7,
             "#b8e186"
            ],
            [
             0.8,
             "#7fbc41"
            ],
            [
             0.9,
             "#4d9221"
            ],
            [
             1,
             "#276419"
            ]
           ],
           "sequential": [
            [
             0,
             "#0d0887"
            ],
            [
             0.1111111111111111,
             "#46039f"
            ],
            [
             0.2222222222222222,
             "#7201a8"
            ],
            [
             0.3333333333333333,
             "#9c179e"
            ],
            [
             0.4444444444444444,
             "#bd3786"
            ],
            [
             0.5555555555555556,
             "#d8576b"
            ],
            [
             0.6666666666666666,
             "#ed7953"
            ],
            [
             0.7777777777777778,
             "#fb9f3a"
            ],
            [
             0.8888888888888888,
             "#fdca26"
            ],
            [
             1,
             "#f0f921"
            ]
           ],
           "sequentialminus": [
            [
             0,
             "#0d0887"
            ],
            [
             0.1111111111111111,
             "#46039f"
            ],
            [
             0.2222222222222222,
             "#7201a8"
            ],
            [
             0.3333333333333333,
             "#9c179e"
            ],
            [
             0.4444444444444444,
             "#bd3786"
            ],
            [
             0.5555555555555556,
             "#d8576b"
            ],
            [
             0.6666666666666666,
             "#ed7953"
            ],
            [
             0.7777777777777778,
             "#fb9f3a"
            ],
            [
             0.8888888888888888,
             "#fdca26"
            ],
            [
             1,
             "#f0f921"
            ]
           ]
          },
          "colorway": [
           "#636efa",
           "#EF553B",
           "#00cc96",
           "#ab63fa",
           "#FFA15A",
           "#19d3f3",
           "#FF6692",
           "#B6E880",
           "#FF97FF",
           "#FECB52"
          ],
          "font": {
           "color": "#2a3f5f"
          },
          "geo": {
           "bgcolor": "white",
           "lakecolor": "white",
           "landcolor": "#E5ECF6",
           "showlakes": true,
           "showland": true,
           "subunitcolor": "white"
          },
          "hoverlabel": {
           "align": "left"
          },
          "hovermode": "closest",
          "mapbox": {
           "style": "light"
          },
          "paper_bgcolor": "white",
          "plot_bgcolor": "#E5ECF6",
          "polar": {
           "angularaxis": {
            "gridcolor": "white",
            "linecolor": "white",
            "ticks": ""
           },
           "bgcolor": "#E5ECF6",
           "radialaxis": {
            "gridcolor": "white",
            "linecolor": "white",
            "ticks": ""
           }
          },
          "scene": {
           "xaxis": {
            "backgroundcolor": "#E5ECF6",
            "gridcolor": "white",
            "gridwidth": 2,
            "linecolor": "white",
            "showbackground": true,
            "ticks": "",
            "zerolinecolor": "white"
           },
           "yaxis": {
            "backgroundcolor": "#E5ECF6",
            "gridcolor": "white",
            "gridwidth": 2,
            "linecolor": "white",
            "showbackground": true,
            "ticks": "",
            "zerolinecolor": "white"
           },
           "zaxis": {
            "backgroundcolor": "#E5ECF6",
            "gridcolor": "white",
            "gridwidth": 2,
            "linecolor": "white",
            "showbackground": true,
            "ticks": "",
            "zerolinecolor": "white"
           }
          },
          "shapedefaults": {
           "line": {
            "color": "#2a3f5f"
           }
          },
          "ternary": {
           "aaxis": {
            "gridcolor": "white",
            "linecolor": "white",
            "ticks": ""
           },
           "baxis": {
            "gridcolor": "white",
            "linecolor": "white",
            "ticks": ""
           },
           "bgcolor": "#E5ECF6",
           "caxis": {
            "gridcolor": "white",
            "linecolor": "white",
            "ticks": ""
           }
          },
          "title": {
           "x": 0.05
          },
          "xaxis": {
           "automargin": true,
           "gridcolor": "white",
           "linecolor": "white",
           "ticks": "",
           "title": {
            "standoff": 15
           },
           "zerolinecolor": "white",
           "zerolinewidth": 2
          },
          "yaxis": {
           "automargin": true,
           "gridcolor": "white",
           "linecolor": "white",
           "ticks": "",
           "title": {
            "standoff": 15
           },
           "zerolinecolor": "white",
           "zerolinewidth": 2
          }
         }
        },
        "title": {
         "text": "Среднее количество калорий по типам блюд"
        },
        "width": 1200,
        "xaxis": {
         "anchor": "y",
         "autorange": true,
         "categoryorder": "total descending",
         "domain": [
          0,
          1
         ],
         "range": [
          -0.5,
          109.5
         ],
         "title": {
          "text": "Тип"
         },
         "type": "category"
        },
        "yaxis": {
         "anchor": "x",
         "autorange": true,
         "domain": [
          0,
          1
         ],
         "range": [
          0,
          2294.7368421052633
         ],
         "title": {
          "text": "Среднее количество калорий"
         },
         "type": "linear"
        }
       }
      },
      "image/png": "[encoded data removed]",
      "text/html": [
       "<div>                            <div id=\"4a154c1c-eb38-48dd-ba26-682a6c746085\" class=\"plotly-graph-div\" style=\"height:600px; width:1200px;\"></div>            <script type=\"text/javascript\">                require([\"plotly\"], function(Plotly) {                    window.PLOTLYENV=window.PLOTLYENV || {};                                    if (document.getElementById(\"4a154c1c-eb38-48dd-ba26-682a6c746085\")) {                    Plotly.newPlot(                        \"4a154c1c-eb38-48dd-ba26-682a6c746085\",                        [{\"alignmentgroup\":\"True\",\"hovertemplate\":\"\\u0422\\u0438\\u043f=%{x}<br>\\u0421\\u0440\\u0435\\u0434\\u043d\\u0435\\u0435 \\u043a\\u043e\\u043b\\u0438\\u0447\\u0435\\u0441\\u0442\\u0432\\u043e \\u043a\\u0430\\u043b\\u043e\\u0440\\u0438\\u0439=%{y}<extra></extra>\",\"legendgroup\":\"\",\"marker\":{\"color\":\"#636efa\",\"pattern\":{\"shape\":\"\"}},\"name\":\"\",\"offsetgroup\":\"\",\"orientation\":\"v\",\"showlegend\":false,\"textposition\":\"auto\",\"x\":[\"\\u0410\\u0437\\u0443\",\"\\u0411\\u0435\\u0444\\u0441\\u0442\\u0440\\u043e\\u0433\\u0430\\u043d\\u043e\\u0432\",\"\\u0411\\u0438\\u0433\\u0443\\u0441\",\"\\u0411\\u0438\\u0442\\u043e\\u0447\\u043a\\u0438\",\"\\u0411\\u0438\\u0444\\u0448\\u0442\\u0435\\u043a\\u0441\",\"\\u0411\\u043b\\u044e\\u0434\\u0430 \\u0438\\u0437 \\u0431\\u0430\\u0440\\u0430\\u043d\\u0438\\u043d\\u044b\",\"\\u0411\\u043b\\u044e\\u0434\\u0430 \\u0438\\u0437 \\u0433\\u043e\\u0432\\u044f\\u0434\\u0438\\u043d\\u044b\",\"\\u0411\\u043b\\u044e\\u0434\\u0430 \\u0438\\u0437 \\u043a\\u0440\\u0443\\u043f\",\"\\u0411\\u043b\\u044e\\u0434\\u0430 \\u0438\\u0437 \\u043a\\u0443\\u0440\\u0438\\u0446\\u044b\",\"\\u0411\\u043b\\u044e\\u0434\\u0430 \\u0438\\u0437 \\u043c\\u043e\\u0440\\u0435\\u043f\\u0440\\u043e\\u0434\\u0443\\u043a\\u0442\\u043e\\u0432\",\"\\u0411\\u043b\\u044e\\u0434\\u0430 \\u0438\\u0437 \\u043c\\u044f\\u0441\\u0430\",\"\\u0411\\u043b\\u044e\\u0434\\u0430 \\u0438\\u0437 \\u043e\\u0432\\u043e\\u0449\\u0435\\u0439\",\"\\u0411\\u043b\\u044e\\u0434\\u0430 \\u0438\\u0437 \\u043f\\u0442\\u0438\\u0446\\u044b\",\"\\u0411\\u043b\\u044e\\u0434\\u0430 \\u0438\\u0437 \\u0440\\u044b\\u0431\\u044b\",\"\\u0411\\u043b\\u044e\\u0434\\u0430 \\u0441 \\u0440\\u0438\\u0441\\u043e\\u043c\",\"\\u0411\\u043b\\u044e\\u0434\\u0430 \\u0441 \\u0441\\u043e\\u0435\\u0432\\u044b\\u043c \\u0441\\u043e\\u0443\\u0441\\u043e\\u043c\",\"\\u0411\\u043b\\u044e\\u0434\\u0430 \\u0441 \\u0444\\u0430\\u0440\\u0448\\u0435\\u043c\",\"\\u0411\\u0443\\u0436\\u0435\\u043d\\u0438\\u043d\\u0430\",\"\\u0412\\u0430\\u0440\\u0435\\u043d\\u0438\\u043a\\u0438\",\"\\u0412\\u0441\\u044e\\u0434\\u0443 \\u0436\\u0438\\u0437\\u043d\\u044c\",\"\\u0413\\u0430\\u043b\\u0443\\u0448\\u043a\\u0438\",\"\\u0413\\u0430\\u043c\\u0431\\u0443\\u0440\\u0433\\u0435\\u0440\",\"\\u0413\\u043e\\u043b\\u0443\\u0431\\u0446\\u044b\",\"\\u0413\\u043e\\u0440\\u043e\\u0445\\u043e\\u0432\\u044b\\u0439 \\u0441\\u0443\\u043f\",\"\\u0413\\u043e\\u0440\\u044f\\u0447\\u0438\\u0435 \\u0437\\u0430\\u043a\\u0443\\u0441\\u043a\\u0438\",\"\\u0413\\u0440\\u0430\\u0442\\u0435\\u043d\",\"\\u0413\\u0440\\u0435\\u0447\\u043d\\u0435\\u0432\\u0430\\u044f \\u043a\\u0430\\u0448\\u0430\",\"\\u0413\\u0443\\u043b\\u044f\\u0448\",\"\\u0413\\u0443\\u043b\\u044f\\u0448 \\u0438\\u0437 \\u0433\\u043e\\u0432\\u044f\\u0434\\u0438\\u043d\\u044b\",\"\\u0413\\u0443\\u043b\\u044f\\u0448 \\u0438\\u0437 \\u0441\\u0432\\u0438\\u043d\\u0438\\u043d\\u044b\",\"\\u0414\\u0435\\u0440\\u0443\\u043d\\u044b\",\"\\u0414\\u0440\\u0430\\u043d\\u0438\\u043a\\u0438\",\"\\u0416\\u0430\\u0440\\u043a\\u043e\\u0435\",\"\\u0417\\u0430\\u043f\\u0435\\u043a\\u0430\\u043d\\u043a\\u0430\",\"\\u0417\\u0430\\u043f\\u0435\\u043a\\u0430\\u043d\\u043a\\u0430 \\u0438\\u0437 \\u043a\\u0430\\u0431\\u0430\\u0447\\u043a\\u043e\\u0432\",\"\\u0417\\u0434\\u043e\\u0440\\u043e\\u0432\\u044c\\u0435\",\"\\u0417\\u0440\\u0430\\u0437\\u044b\",\"\\u041a\\u0430\\u0440\\u0442\\u043e\\u0448\\u043a\\u0430 \\u0441 \\u0433\\u0440\\u0438\\u0431\\u0430\\u043c\\u0438\",\"\\u041a\\u0430\\u0448\\u0438\",\"\\u041a\\u0430\\u0448\\u0438 \\u043d\\u0430 \\u0432\\u043e\\u0434\\u0435\",\"\\u041a\\u0438\\u0435\\u0432\\u0441\\u043a\\u0438\\u0435 \\u043a\\u043e\\u0442\\u043b\\u0435\\u0442\\u044b\",\"\\u041a\\u043b\\u0435\\u0446\\u043a\\u0438\",\"\\u041a\\u043e\\u0442\\u043b\\u0435\\u0442\\u044b\",\"\\u041a\\u0443\\u0440\\u0438\\u0446\\u0430 \\u0432 \\u0434\\u0443\\u0445\\u043e\\u0432\\u043a\\u0435\",\"\\u041b\\u0430\\u0433\\u043c\\u0430\\u043d\",\"\\u041b\\u0430\\u0437\\u0430\\u043d\\u044c\\u044f\",\"\\u041b\\u0430\\u043f\\u0448\\u0430\",\"\\u041b\\u043e\\u0431\\u0438\\u043e\",\"\\u041b\\u044e\\u043b\\u044f-\\u043a\\u0435\\u0431\\u0430\\u0431\",\"\\u041c\\u0430\\u043a\\u0430\\u0440\\u043e\\u043d\\u044b\",\"\\u041c\\u0430\\u043d\\u0442\\u044b\",\"\\u041c\\u0443\\u0441\\u0430\\u043a\\u0430\",\"\\u041c\\u044f\\u0441\\u043d\\u043e\\u0439 \\u0431\\u0443\\u043b\\u044c\\u043e\\u043d\",\"\\u041c\\u044f\\u0441\\u043e \\u0432 \\u0434\\u0443\\u0445\\u043e\\u0432\\u043a\\u0435\",\"\\u041c\\u044f\\u0441\\u043e \\u043f\\u043e-\\u0444\\u0440\\u0430\\u043d\\u0446\\u0443\\u0437\\u0441\\u043a\\u0438\",\"\\u041d\\u043e\\u0432\\u043e\\u0433\\u043e\\u0434\\u043d\\u0438\\u0435 \\u0431\\u043b\\u044e\\u0434\\u0430 \\u0438\\u0437 \\u043a\\u0443\\u0440\\u0438\\u0446\\u044b\",\"\\u041d\\u043e\\u0432\\u043e\\u0433\\u043e\\u0434\\u043d\\u0438\\u0435 \\u0431\\u043b\\u044e\\u0434\\u0430 \\u0438\\u0437 \\u0441\\u0432\\u0438\\u043d\\u0438\\u043d\\u044b\",\"\\u041d\\u043e\\u0432\\u043e\\u0441\\u0442\\u0438 \\u043f\\u0430\\u0440\\u0442\\u043d\\u0435\\u0440\\u043e\\u0432\",\"\\u041e\\u0432\\u043e\\u0449\\u0438 \\u0432 \\u0434\\u0443\\u0445\\u043e\\u0432\\u043a\\u0435\",\"\\u041e\\u0432\\u043e\\u0449\\u043d\\u043e\\u0435 \\u0440\\u0430\\u0433\\u0443\",\"\\u041e\\u0432\\u043e\\u0449\\u043d\\u043e\\u0435 \\u0440\\u0430\\u0433\\u0443 \\u0441 \\u043a\\u0430\\u0431\\u0430\\u0447\\u043a\\u0430\\u043c\\u0438\",\"\\u041e\\u043c\\u043b\\u0435\\u0442\",\"\\u041e\\u0442\\u0431\\u0438\\u0432\\u043d\\u044b\\u0435\",\"\\u041f\\u0430\\u0448\\u0442\\u0435\\u0442\\u044b\",\"\\u041f\\u0430\\u044d\\u043b\\u044c\\u044f\",\"\\u041f\\u0435\\u043b\\u044c\\u043c\\u0435\\u043d\\u0438\",\"\\u041f\\u0435\\u0440\\u0435\\u0446 \\u0444\\u0430\\u0440\\u0448\\u0438\\u0440\\u043e\\u0432\\u0430\\u043d\\u043d\\u044b\\u0439\",\"\\u041f\\u0435\\u0447\\u0435\\u043d\\u043e\\u0447\\u043d\\u044b\\u0435 \\u043e\\u043b\\u0430\\u0434\\u044c\\u0438\",\"\\u041f\\u0438\\u0440\\u043e\\u0433\\u0438\",\"\\u041f\\u0438\\u0440\\u043e\\u0436\\u043a\\u0438\",\"\\u041f\\u043b\\u043e\\u0432\",\"\\u041f\\u043b\\u043e\\u0432 \\u0441 \\u043a\\u0443\\u0440\\u0438\\u0446\\u0435\\u0439\",\"\\u041f\\u043e\\u0441\\u0442\\u043d\\u044b\\u0435 \\u043a\\u043e\\u0442\\u043b\\u0435\\u0442\\u044b\",\"\\u041f\\u0440\\u0430\\u0437\\u0434\\u043d\\u0438\\u0447\\u043d\\u044b\\u0435 \\u0431\\u043b\\u044e\\u0434\\u0430 \\u0438\\u0437 \\u0441\\u0432\\u0438\\u043d\\u0438\\u043d\\u044b\",\"\\u041f\\u0440\\u043e\\u0434\\u0443\\u043a\\u0442\",\"\\u041f\\u044e\\u0440\\u0435\",\"\\u0420\\u0430\\u0433\\u0443\",\"\\u0420\\u0430\\u0442\\u0430\\u0442\\u0443\\u0439\",\"\\u0420\\u0435\\u0441\\u0442\\u043e\\u0440\\u0430\\u043d\\u044b\",\"\\u0420\\u043e\\u0441\\u0442\\u0431\\u0438\\u0444\",\"\\u0420\\u0443\\u043b\\u0435\\u0442\\u044b\",\"\\u0420\\u044b\\u0431\\u0430 \\u0432 \\u0434\\u0443\\u0445\\u043e\\u0432\\u043a\\u0435\",\"\\u0421\\u0430\\u043b\\u0430\\u0442\\u044b \\u0441 \\u043a\\u0443\\u0440\\u0438\\u0446\\u0435\\u0439\",\"\\u0421\\u0430\\u0446\\u0438\\u0432\\u0438\",\"\\u0421\\u0438\\u0440\\u043e\\u043f\",\"\\u0421\\u043e\\u043b\\u044f\\u043d\\u043a\\u0430\",\"\\u0421\\u043e\\u0442\\u0435\",\"\\u0421\\u043e\\u0443\\u0441\\u044b \\u043a \\u0440\\u044b\\u0431\\u0435\",\"\\u0421\\u043f\\u0430\\u0433\\u0435\\u0442\\u0442\\u0438\",\"\\u0421\\u0442\\u0435\\u0439\\u043a\\u0438\",\"\\u0421\\u0443\\u043f-\\u043f\\u044e\\u0440\\u0435\",\"\\u0422\\u0430\\u043a\\u043e\\u0441\",\"\\u0422\\u0430\\u0440\\u0442\\u0430\\u0440\",\"\\u0422\\u0435\\u0440\\u0438\\u044f\\u043a\\u0438\",\"\\u0422\\u0435\\u0444\\u0442\\u0435\\u043b\\u0438\",\"\\u0423\\u0437\\u0431\\u0435\\u043a\\u0441\\u043a\\u0438\\u0439 \\u043f\\u043b\\u043e\\u0432\",\"\\u0424\\u0430\\u0440\\u0448\\u0438\\u0440\\u043e\\u0432\\u0430\\u043d\\u043d\\u044b\\u0435 \\u0431\\u043b\\u044e\\u0434\\u0430\",\"\\u0424\\u0440\\u0438\\u043a\\u0430\\u0434\\u0435\\u043b\\u044c\\u043a\\u0438\",\"\\u0425\\u0438\\u043d\\u043a\\u0430\\u043b\\u0438\",\"\\u0425\\u043b\\u0435\\u0431\",\"\\u0425\\u043e\\u043b\\u043e\\u0434\\u0435\\u0446\",\"\\u0425\\u043e\\u043b\\u043e\\u0434\\u043d\\u044b\\u0435 \\u0437\\u0430\\u043a\\u0443\\u0441\\u043a\\u0438\",\"\\u0426\\u044b\\u043f\\u043b\\u0435\\u043d\\u043e\\u043a \\u0442\\u0430\\u0431\\u0430\\u043a\\u0430\",\"\\u0427\\u0430\\u0442\\u043d\\u0438\",\"\\u0427\\u0430\\u0445\\u043e\\u0445\\u0431\\u0438\\u043b\\u0438\",\"\\u0427\\u0438\\u043f\\u0441\\u044b\",\"\\u0428\\u0430\\u0448\\u043b\\u044b\\u043a\",\"\\u0428\\u0430\\u0448\\u043b\\u044b\\u043a \\u0438\\u0437 \\u0441\\u0432\\u0438\\u043d\\u0438\\u043d\\u044b\",\"\\u0428\\u043d\\u0438\\u0446\\u0435\\u043b\\u044c\",\"\\u042f\\u0438\\u0447\\u043d\\u0438\\u0446\\u0430\"],\"xaxis\":\"x\",\"y\":[675.0,756.5,442.0,658.0,614.0,644.6,292.0,386.0,698.3333333333334,370.3333333333333,684.0,500.0,610.1818181818181,727.6666666666666,920.6666666666666,591.0,460.0,842.0,312.0,524.0,538.0,1768.0,784.6666666666666,873.0,745.7051282051282,362.0,619.0,398.0,571.5,581.0,130.0,584.0,707.3636363636364,531.6666666666666,340.0,393.5,559.0,496.0,559.4,357.0,2056.5,1128.0,513.1034482758621,619.2,555.0,492.0,638.75,215.0,748.0,677.6666666666666,849.0,716.6666666666666,935.0,713.5714285714286,562.0,767.0,994.3333333333334,688.0,428.0,262.0,285.0,662.0,974.2,515.0,576.0,444.1666666666667,494.0,233.0,652.8,296.0,790.0,1136.0,1213.0,1304.0,447.0,870.1111111111111,664.0714285714286,338.0,830.0,284.0,745.0,563.25,517.0,835.0,512.5,263.0,337.0,697.4285714285714,907.0,1183.7,724.0,2180.0,1411.0,373.0,507.14285714285717,437.0,657.0,716.0,1100.0,435.0,307.0,757.5,782.0,590.0,616.5,944.0,1024.5,953.0,1059.0,832.0],\"yaxis\":\"y\",\"type\":\"bar\"}],                        {\"template\":{\"data\":{\"histogram2dcontour\":[{\"type\":\"histogram2dcontour\",\"colorbar\":{\"outlinewidth\":0,\"ticks\":\"\"},\"colorscale\":[[0.0,\"#0d0887\"],[0.1111111111111111,\"#46039f\"],[0.2222222222222222,\"#7201a8\"],[0.3333333333333333,\"#9c179e\"],[0.4444444444444444,\"#bd3786\"],[0.5555555555555556,\"#d8576b\"],[0.6666666666666666,\"#ed7953\"],[0.7777777777777778,\"#fb9f3a\"],[0.8888888888888888,\"#fdca26\"],[1.0,\"#f0f921\"]]}],\"choropleth\":[{\"type\":\"choropleth\",\"colorbar\":{\"outlinewidth\":0,\"ticks\":\"\"}}],\"histogram2d\":[{\"type\":\"histogram2d\",\"colorbar\":{\"outlinewidth\":0,\"ticks\":\"\"},\"colorscale\":[[0.0,\"#0d0887\"],[0.1111111111111111,\"#46039f\"],[0.2222222222222222,\"#7201a8\"],[0.3333333333333333,\"#9c179e\"],[0.4444444444444444,\"#bd3786\"],[0.5555555555555556,\"#d8576b\"],[0.6666666666666666,\"#ed7953\"],[0.7777777777777778,\"#fb9f3a\"],[0.8888888888888888,\"#fdca26\"],[1.0,\"#f0f921\"]]}],\"heatmap\":[{\"type\":\"heatmap\",\"colorbar\":{\"outlinewidth\":0,\"ticks\":\"\"},\"colorscale\":[[0.0,\"#0d0887\"],[0.1111111111111111,\"#46039f\"],[0.2222222222222222,\"#7201a8\"],[0.3333333333333333,\"#9c179e\"],[0.4444444444444444,\"#bd3786\"],[0.5555555555555556,\"#d8576b\"],[0.6666666666666666,\"#ed7953\"],[0.7777777777777778,\"#fb9f3a\"],[0.8888888888888888,\"#fdca26\"],[1.0,\"#f0f921\"]]}],\"heatmapgl\":[{\"type\":\"heatmapgl\",\"colorbar\":{\"outlinewidth\":0,\"ticks\":\"\"},\"colorscale\":[[0.0,\"#0d0887\"],[0.1111111111111111,\"#46039f\"],[0.2222222222222222,\"#7201a8\"],[0.3333333333333333,\"#9c179e\"],[0.4444444444444444,\"#bd3786\"],[0.5555555555555556,\"#d8576b\"],[0.6666666666666666,\"#ed7953\"],[0.7777777777777778,\"#fb9f3a\"],[0.8888888888888888,\"#fdca26\"],[1.0,\"#f0f921\"]]}],\"contourcarpet\":[{\"type\":\"contourcarpet\",\"colorbar\":{\"outlinewidth\":0,\"ticks\":\"\"}}],\"contour\":[{\"type\":\"contour\",\"colorbar\":{\"outlinewidth\":0,\"ticks\":\"\"},\"colorscale\":[[0.0,\"#0d0887\"],[0.1111111111111111,\"#46039f\"],[0.2222222222222222,\"#7201a8\"],[0.3333333333333333,\"#9c179e\"],[0.4444444444444444,\"#bd3786\"],[0.5555555555555556,\"#d8576b\"],[0.6666666666666666,\"#ed7953\"],[0.7777777777777778,\"#fb9f3a\"],[0.8888888888888888,\"#fdca26\"],[1.0,\"#f0f921\"]]}],\"surface\":[{\"type\":\"surface\",\"colorbar\":{\"outlinewidth\":0,\"ticks\":\"\"},\"colorscale\":[[0.0,\"#0d0887\"],[0.1111111111111111,\"#46039f\"],[0.2222222222222222,\"#7201a8\"],[0.3333333333333333,\"#9c179e\"],[0.4444444444444444,\"#bd3786\"],[0.5555555555555556,\"#d8576b\"],[0.6666666666666666,\"#ed7953\"],[0.7777777777777778,\"#fb9f3a\"],[0.8888888888888888,\"#fdca26\"],[1.0,\"#f0f921\"]]}],\"mesh3d\":[{\"type\":\"mesh3d\",\"colorbar\":{\"outlinewidth\":0,\"ticks\":\"\"}}],\"scatter\":[{\"fillpattern\":{\"fillmode\":\"overlay\",\"size\":10,\"solidity\":0.2},\"type\":\"scatter\"}],\"parcoords\":[{\"type\":\"parcoords\",\"line\":{\"colorbar\":{\"outlinewidth\":0,\"ticks\":\"\"}}}],\"scatterpolargl\":[{\"type\":\"scatterpolargl\",\"marker\":{\"colorbar\":{\"outlinewidth\":0,\"ticks\":\"\"}}}],\"bar\":[{\"error_x\":{\"color\":\"#2a3f5f\"},\"error_y\":{\"color\":\"#2a3f5f\"},\"marker\":{\"line\":{\"color\":\"#E5ECF6\",\"width\":0.5},\"pattern\":{\"fillmode\":\"overlay\",\"size\":10,\"solidity\":0.2}},\"type\":\"bar\"}],\"scattergeo\":[{\"type\":\"scattergeo\",\"marker\":{\"colorbar\":{\"outlinewidth\":0,\"ticks\":\"\"}}}],\"scatterpolar\":[{\"type\":\"scatterpolar\",\"marker\":{\"colorbar\":{\"outlinewidth\":0,\"ticks\":\"\"}}}],\"histogram\":[{\"marker\":{\"pattern\":{\"fillmode\":\"overlay\",\"size\":10,\"solidity\":0.2}},\"type\":\"histogram\"}],\"scattergl\":[{\"type\":\"scattergl\",\"marker\":{\"colorbar\":{\"outlinewidth\":0,\"ticks\":\"\"}}}],\"scatter3d\":[{\"type\":\"scatter3d\",\"line\":{\"colorbar\":{\"outlinewidth\":0,\"ticks\":\"\"}},\"marker\":{\"colorbar\":{\"outlinewidth\":0,\"ticks\":\"\"}}}],\"scattermapbox\":[{\"type\":\"scattermapbox\",\"marker\":{\"colorbar\":{\"outlinewidth\":0,\"ticks\":\"\"}}}],\"scatterternary\":[{\"type\":\"scatterternary\",\"marker\":{\"colorbar\":{\"outlinewidth\":0,\"ticks\":\"\"}}}],\"scattercarpet\":[{\"type\":\"scattercarpet\",\"marker\":{\"colorbar\":{\"outlinewidth\":0,\"ticks\":\"\"}}}],\"carpet\":[{\"aaxis\":{\"endlinecolor\":\"#2a3f5f\",\"gridcolor\":\"white\",\"linecolor\":\"white\",\"minorgridcolor\":\"white\",\"startlinecolor\":\"#2a3f5f\"},\"baxis\":{\"endlinecolor\":\"#2a3f5f\",\"gridcolor\":\"white\",\"linecolor\":\"white\",\"minorgridcolor\":\"white\",\"startlinecolor\":\"#2a3f5f\"},\"type\":\"carpet\"}],\"table\":[{\"cells\":{\"fill\":{\"color\":\"#EBF0F8\"},\"line\":{\"color\":\"white\"}},\"header\":{\"fill\":{\"color\":\"#C8D4E3\"},\"line\":{\"color\":\"white\"}},\"type\":\"table\"}],\"barpolar\":[{\"marker\":{\"line\":{\"color\":\"#E5ECF6\",\"width\":0.5},\"pattern\":{\"fillmode\":\"overlay\",\"size\":10,\"solidity\":0.2}},\"type\":\"barpolar\"}],\"pie\":[{\"automargin\":true,\"type\":\"pie\"}]},\"layout\":{\"autotypenumbers\":\"strict\",\"colorway\":[\"#636efa\",\"#EF553B\",\"#00cc96\",\"#ab63fa\",\"#FFA15A\",\"#19d3f3\",\"#FF6692\",\"#B6E880\",\"#FF97FF\",\"#FECB52\"],\"font\":{\"color\":\"#2a3f5f\"},\"hovermode\":\"closest\",\"hoverlabel\":{\"align\":\"left\"},\"paper_bgcolor\":\"white\",\"plot_bgcolor\":\"#E5ECF6\",\"polar\":{\"bgcolor\":\"#E5ECF6\",\"angularaxis\":{\"gridcolor\":\"white\",\"linecolor\":\"white\",\"ticks\":\"\"},\"radialaxis\":{\"gridcolor\":\"white\",\"linecolor\":\"white\",\"ticks\":\"\"}},\"ternary\":{\"bgcolor\":\"#E5ECF6\",\"aaxis\":{\"gridcolor\":\"white\",\"linecolor\":\"white\",\"ticks\":\"\"},\"baxis\":{\"gridcolor\":\"white\",\"linecolor\":\"white\",\"ticks\":\"\"},\"caxis\":{\"gridcolor\":\"white\",\"linecolor\":\"white\",\"ticks\":\"\"}},\"coloraxis\":{\"colorbar\":{\"outlinewidth\":0,\"ticks\":\"\"}},\"colorscale\":{\"sequential\":[[0.0,\"#0d0887\"],[0.1111111111111111,\"#46039f\"],[0.2222222222222222,\"#7201a8\"],[0.3333333333333333,\"#9c179e\"],[0.4444444444444444,\"#bd3786\"],[0.5555555555555556,\"#d8576b\"],[0.6666666666666666,\"#ed7953\"],[0.7777777777777778,\"#fb9f3a\"],[0.8888888888888888,\"#fdca26\"],[1.0,\"#f0f921\"]],\"sequentialminus\":[[0.0,\"#0d0887\"],[0.1111111111111111,\"#46039f\"],[0.2222222222222222,\"#7201a8\"],[0.3333333333333333,\"#9c179e\"],[0.4444444444444444,\"#bd3786\"],[0.5555555555555556,\"#d8576b\"],[0.6666666666666666,\"#ed7953\"],[0.7777777777777778,\"#fb9f3a\"],[0.8888888888888888,\"#fdca26\"],[1.0,\"#f0f921\"]],\"diverging\":[[0,\"#8e0152\"],[0.1,\"#c51b7d\"],[0.2,\"#de77ae\"],[0.3,\"#f1b6da\"],[0.4,\"#fde0ef\"],[0.5,\"#f7f7f7\"],[0.6,\"#e6f5d0\"],[0.7,\"#b8e186\"],[0.8,\"#7fbc41\"],[0.9,\"#4d9221\"],[1,\"#276419\"]]},\"xaxis\":{\"gridcolor\":\"white\",\"linecolor\":\"white\",\"ticks\":\"\",\"title\":{\"standoff\":15},\"zerolinecolor\":\"white\",\"automargin\":true,\"zerolinewidth\":2},\"yaxis\":{\"gridcolor\":\"white\",\"linecolor\":\"white\",\"ticks\":\"\",\"title\":{\"standoff\":15},\"zerolinecolor\":\"white\",\"automargin\":true,\"zerolinewidth\":2},\"scene\":{\"xaxis\":{\"backgroundcolor\":\"#E5ECF6\",\"gridcolor\":\"white\",\"linecolor\":\"white\",\"showbackground\":true,\"ticks\":\"\",\"zerolinecolor\":\"white\",\"gridwidth\":2},\"yaxis\":{\"backgroundcolor\":\"#E5ECF6\",\"gridcolor\":\"white\",\"linecolor\":\"white\",\"showbackground\":true,\"ticks\":\"\",\"zerolinecolor\":\"white\",\"gridwidth\":2},\"zaxis\":{\"backgroundcolor\":\"#E5ECF6\",\"gridcolor\":\"white\",\"linecolor\":\"white\",\"showbackground\":true,\"ticks\":\"\",\"zerolinecolor\":\"white\",\"gridwidth\":2}},\"shapedefaults\":{\"line\":{\"color\":\"#2a3f5f\"}},\"annotationdefaults\":{\"arrowcolor\":\"#2a3f5f\",\"arrowhead\":0,\"arrowwidth\":1},\"geo\":{\"bgcolor\":\"white\",\"landcolor\":\"#E5ECF6\",\"subunitcolor\":\"white\",\"showland\":true,\"showlakes\":true,\"lakecolor\":\"white\"},\"title\":{\"x\":0.05},\"mapbox\":{\"style\":\"light\"}}},\"xaxis\":{\"anchor\":\"y\",\"domain\":[0.0,1.0],\"title\":{\"text\":\"\\u0422\\u0438\\u043f\"},\"categoryorder\":\"total descending\"},\"yaxis\":{\"anchor\":\"x\",\"domain\":[0.0,1.0],\"title\":{\"text\":\"\\u0421\\u0440\\u0435\\u0434\\u043d\\u0435\\u0435 \\u043a\\u043e\\u043b\\u0438\\u0447\\u0435\\u0441\\u0442\\u0432\\u043e \\u043a\\u0430\\u043b\\u043e\\u0440\\u0438\\u0439\"}},\"legend\":{\"tracegroupgap\":0},\"title\":{\"text\":\"\\u0421\\u0440\\u0435\\u0434\\u043d\\u0435\\u0435 \\u043a\\u043e\\u043b\\u0438\\u0447\\u0435\\u0441\\u0442\\u0432\\u043e \\u043a\\u0430\\u043b\\u043e\\u0440\\u0438\\u0439 \\u043f\\u043e \\u0442\\u0438\\u043f\\u0430\\u043c \\u0431\\u043b\\u044e\\u0434\"},\"barmode\":\"relative\",\"bargap\":0.2,\"width\":1200,\"height\":600},                        {\"responsive\": true}                    ).then(function(){\n",
       "                            \n",
       "var gd = document.getElementById('4a154c1c-eb38-48dd-ba26-682a6c746085');\n",
       "var x = new MutationObserver(function (mutations, observer) {{\n",
       "        var display = window.getComputedStyle(gd).display;\n",
       "        if (!display || display === 'none') {{\n",
       "            console.log([gd, 'removed!']);\n",
       "            Plotly.purge(gd);\n",
       "            observer.disconnect();\n",
       "        }}\n",
       "}});\n",
       "\n",
       "// Listen for the removal of the full notebook cells\n",
       "var notebookContainer = gd.closest('#notebook-container');\n",
       "if (notebookContainer) {{\n",
       "    x.observe(notebookContainer, {childList: true});\n",
       "}}\n",
       "\n",
       "// Listen for the clearing of the current output cell\n",
       "var outputEl = gd.closest('.output');\n",
       "if (outputEl) {{\n",
       "    x.observe(outputEl, {childList: true});\n",
       "}}\n",
       "\n",
       "                        })                };                });            </script>        </div>"
      ]
     },
     "metadata": {},
     "output_type": "display_data"
    }
   ],
   "source": [
    "likes_by_cuisine = all_dishes.groupby('Тип')['Калории'].mean().reset_index()\n",
    "\n",
    "import plotly.express as px\n",
    "fig = px.bar(likes_by_cuisine, x='Тип', y='Калории',              title='Среднее количество калорий по типам блюд', \n",
    "             labels={'Калории': 'Среднее количество калорий', 'Тип': 'Тип'},                          template='plotly')\n",
    "\n",
    "fig.update_layout(xaxis_categoryorder='total descending', bargap=0.2) \n",
    "fig.update_layout(width=1200, height=600)\n",
    "\n",
    "fig.show()"
   ]
  },
  {
   "cell_type": "markdown",
   "id": "efb84c0c-6e2d-4c75-96a1-0d1d94963409",
   "metadata": {},
   "source": [
    "Таким образом, можно заключить, что типами с самым большим количеством калорий на одно блюдо являются \"Такос\", \"Киевские котлеты\" и \"Гамбургер\""
   ]
  },
  {
   "cell_type": "code",
   "execution_count": 171,
   "id": "868657b4-5c46-4046-99bc-a0eaf9f6c87f",
   "metadata": {},
   "outputs": [
    {
     "data": {
      "application/vnd.plotly.v1+json": {
       "config": {
        "plotlyServerURL": "https://plot.ly"
       },
       "data": [
        {
         "alignmentgroup": "True",
         "hovertemplate": "Тип=%{x}<br>Среднее количество лайков=%{y}<extra></extra>",
         "legendgroup": "",
         "marker": {
          "color": "#636efa",
          "pattern": {
           "shape": ""
          }
         },
         "name": "",
         "offsetgroup": "",
         "orientation": "v",
         "showlegend": false,
         "textposition": "auto",
         "type": "bar",
         "x": [
          "Азу",
          "Бефстроганов",
          "Бигус",
          "Биточки",
          "Бифштекс",
          "Блюда из баранины",
          "Блюда из говядины",
          "Блюда из круп",
          "Блюда из курицы",
          "Блюда из морепродуктов",
          "Блюда из мяса",
          "Блюда из овощей",
          "Блюда из птицы",
          "Блюда из рыбы",
          "Блюда с рисом",
          "Блюда с соевым соусом",
          "Блюда с фаршем",
          "Буженина",
          "Вареники",
          "Всюду жизнь",
          "Галушки",
          "Гамбургер",
          "Голубцы",
          "Гороховый суп",
          "Горячие закуски",
          "Гратен",
          "Гречневая каша",
          "Гуляш",
          "Гуляш из говядины",
          "Гуляш из свинины",
          "Деруны",
          "Драники",
          "Жаркое",
          "Запеканка",
          "Запеканка из кабачков",
          "Здоровье",
          "Зразы",
          "Картошка с грибами",
          "Каши",
          "Каши на воде",
          "Киевские котлеты",
          "Клецки",
          "Котлеты",
          "Курица в духовке",
          "Лагман",
          "Лазанья",
          "Лапша",
          "Лобио",
          "Люля-кебаб",
          "Макароны",
          "Манты",
          "Мусака",
          "Мясной бульон",
          "Мясо в духовке",
          "Мясо по-французски",
          "Новогодние блюда из курицы",
          "Новогодние блюда из свинины",
          "Новости партнеров",
          "Овощи в духовке",
          "Овощное рагу",
          "Овощное рагу с кабачками",
          "Омлет",
          "Отбивные",
          "Паштеты",
          "Паэлья",
          "Пельмени",
          "Перец фаршированный",
          "Печеночные оладьи",
          "Пироги",
          "Пирожки",
          "Плов",
          "Плов с курицей",
          "Постные котлеты",
          "Праздничные блюда из свинины",
          "Продукт",
          "Пюре",
          "Рагу",
          "Рататуй",
          "Рестораны",
          "Ростбиф",
          "Рулеты",
          "Рыба в духовке",
          "Салаты с курицей",
          "Сациви",
          "Сироп",
          "Солянка",
          "Соте",
          "Соусы к рыбе",
          "Спагетти",
          "Стейки",
          "Суп-пюре",
          "Такос",
          "Тартар",
          "Терияки",
          "Тефтели",
          "Узбекский плов",
          "Фаршированные блюда",
          "Фрикадельки",
          "Хинкали",
          "Хлеб",
          "Холодец",
          "Холодные закуски",
          "Цыпленок табака",
          "Чатни",
          "Чахохбили",
          "Чипсы",
          "Шашлык",
          "Шашлык из свинины",
          "Шницель",
          "Яичница"
         ],
         "xaxis": "x",
         "y": [
          15,
          37.5,
          5,
          8,
          6,
          5.2,
          24,
          23,
          51,
          10,
          24.058823529411764,
          45.42857142857143,
          22.318181818181817,
          21.666666666666668,
          12.333333333333334,
          134,
          125.66666666666667,
          5,
          444,
          38,
          7,
          41,
          50,
          2,
          33.794871794871796,
          412,
          213,
          2,
          192.75,
          312,
          391,
          258,
          11.909090909090908,
          49.666666666666664,
          226,
          88,
          20,
          67.5,
          23.2,
          12,
          105,
          8,
          49.89655172413793,
          36.4,
          2,
          14,
          61.875,
          3,
          42,
          35.666666666666664,
          3,
          21,
          4,
          21.428571428571427,
          94.25,
          261,
          151.66666666666666,
          36,
          164,
          250,
          76,
          51,
          16,
          1,
          2,
          45.666666666666664,
          194,
          22,
          13.8,
          8,
          180.55555555555554,
          17,
          40,
          19.75,
          345,
          59.666666666666664,
          34.214285714285715,
          112,
          9,
          37,
          1,
          3.125,
          205,
          9.666666666666666,
          205.5,
          21,
          50,
          19.428571428571427,
          18,
          20.9,
          4,
          13,
          23,
          74.5,
          49.857142857142854,
          436,
          40.5,
          8,
          185,
          8,
          5,
          12.25,
          19,
          6,
          157,
          7,
          40.5,
          54,
          11,
          4
         ],
         "yaxis": "y"
        }
       ],
       "layout": {
        "bargap": 0.2,
        "barmode": "relative",
        "height": 600,
        "legend": {
         "tracegroupgap": 0
        },
        "template": {
         "data": {
          "bar": [
           {
            "error_x": {
             "color": "#2a3f5f"
            },
            "error_y": {
             "color": "#2a3f5f"
            },
            "marker": {
             "line": {
              "color": "#E5ECF6",
              "width": 0.5
             },
             "pattern": {
              "fillmode": "overlay",
              "size": 10,
              "solidity": 0.2
             }
            },
            "type": "bar"
           }
          ],
          "barpolar": [
           {
            "marker": {
             "line": {
              "color": "#E5ECF6",
              "width": 0.5
             },
             "pattern": {
              "fillmode": "overlay",
              "size": 10,
              "solidity": 0.2
             }
            },
            "type": "barpolar"
           }
          ],
          "carpet": [
           {
            "aaxis": {
             "endlinecolor": "#2a3f5f",
             "gridcolor": "white",
             "linecolor": "white",
             "minorgridcolor": "white",
             "startlinecolor": "#2a3f5f"
            },
            "baxis": {
             "endlinecolor": "#2a3f5f",
             "gridcolor": "white",
             "linecolor": "white",
             "minorgridcolor": "white",
             "startlinecolor": "#2a3f5f"
            },
            "type": "carpet"
           }
          ],
          "choropleth": [
           {
            "colorbar": {
             "outlinewidth": 0,
             "ticks": ""
            },
            "type": "choropleth"
           }
          ],
          "contour": [
           {
            "colorbar": {
             "outlinewidth": 0,
             "ticks": ""
            },
            "colorscale": [
             [
              0,
              "#0d0887"
             ],
             [
              0.1111111111111111,
              "#46039f"
             ],
             [
              0.2222222222222222,
              "#7201a8"
             ],
             [
              0.3333333333333333,
              "#9c179e"
             ],
             [
              0.4444444444444444,
              "#bd3786"
             ],
             [
              0.5555555555555556,
              "#d8576b"
             ],
             [
              0.6666666666666666,
              "#ed7953"
             ],
             [
              0.7777777777777778,
              "#fb9f3a"
             ],
             [
              0.8888888888888888,
              "#fdca26"
             ],
             [
              1,
              "#f0f921"
             ]
            ],
            "type": "contour"
           }
          ],
          "contourcarpet": [
           {
            "colorbar": {
             "outlinewidth": 0,
             "ticks": ""
            },
            "type": "contourcarpet"
           }
          ],
          "heatmap": [
           {
            "colorbar": {
             "outlinewidth": 0,
             "ticks": ""
            },
            "colorscale": [
             [
              0,
              "#0d0887"
             ],
             [
              0.1111111111111111,
              "#46039f"
             ],
             [
              0.2222222222222222,
              "#7201a8"
             ],
             [
              0.3333333333333333,
              "#9c179e"
             ],
             [
              0.4444444444444444,
              "#bd3786"
             ],
             [
              0.5555555555555556,
              "#d8576b"
             ],
             [
              0.6666666666666666,
              "#ed7953"
             ],
             [
              0.7777777777777778,
              "#fb9f3a"
             ],
             [
              0.8888888888888888,
              "#fdca26"
             ],
             [
              1,
              "#f0f921"
             ]
            ],
            "type": "heatmap"
           }
          ],
          "heatmapgl": [
           {
            "colorbar": {
             "outlinewidth": 0,
             "ticks": ""
            },
            "colorscale": [
             [
              0,
              "#0d0887"
             ],
             [
              0.1111111111111111,
              "#46039f"
             ],
             [
              0.2222222222222222,
              "#7201a8"
             ],
             [
              0.3333333333333333,
              "#9c179e"
             ],
             [
              0.4444444444444444,
              "#bd3786"
             ],
             [
              0.5555555555555556,
              "#d8576b"
             ],
             [
              0.6666666666666666,
              "#ed7953"
             ],
             [
              0.7777777777777778,
              "#fb9f3a"
             ],
             [
              0.8888888888888888,
              "#fdca26"
             ],
             [
              1,
              "#f0f921"
             ]
            ],
            "type": "heatmapgl"
           }
          ],
          "histogram": [
           {
            "marker": {
             "pattern": {
              "fillmode": "overlay",
              "size": 10,
              "solidity": 0.2
             }
            },
            "type": "histogram"
           }
          ],
          "histogram2d": [
           {
            "colorbar": {
             "outlinewidth": 0,
             "ticks": ""
            },
            "colorscale": [
             [
              0,
              "#0d0887"
             ],
             [
              0.1111111111111111,
              "#46039f"
             ],
             [
              0.2222222222222222,
              "#7201a8"
             ],
             [
              0.3333333333333333,
              "#9c179e"
             ],
             [
              0.4444444444444444,
              "#bd3786"
             ],
             [
              0.5555555555555556,
              "#d8576b"
             ],
             [
              0.6666666666666666,
              "#ed7953"
             ],
             [
              0.7777777777777778,
              "#fb9f3a"
             ],
             [
              0.8888888888888888,
              "#fdca26"
             ],
             [
              1,
              "#f0f921"
             ]
            ],
            "type": "histogram2d"
           }
          ],
          "histogram2dcontour": [
           {
            "colorbar": {
             "outlinewidth": 0,
             "ticks": ""
            },
            "colorscale": [
             [
              0,
              "#0d0887"
             ],
             [
              0.1111111111111111,
              "#46039f"
             ],
             [
              0.2222222222222222,
              "#7201a8"
             ],
             [
              0.3333333333333333,
              "#9c179e"
             ],
             [
              0.4444444444444444,
              "#bd3786"
             ],
             [
              0.5555555555555556,
              "#d8576b"
             ],
             [
              0.6666666666666666,
              "#ed7953"
             ],
             [
              0.7777777777777778,
              "#fb9f3a"
             ],
             [
              0.8888888888888888,
              "#fdca26"
             ],
             [
              1,
              "#f0f921"
             ]
            ],
            "type": "histogram2dcontour"
           }
          ],
          "mesh3d": [
           {
            "colorbar": {
             "outlinewidth": 0,
             "ticks": ""
            },
            "type": "mesh3d"
           }
          ],
          "parcoords": [
           {
            "line": {
             "colorbar": {
              "outlinewidth": 0,
              "ticks": ""
             }
            },
            "type": "parcoords"
           }
          ],
          "pie": [
           {
            "automargin": true,
            "type": "pie"
           }
          ],
          "scatter": [
           {
            "fillpattern": {
             "fillmode": "overlay",
             "size": 10,
             "solidity": 0.2
            },
            "type": "scatter"
           }
          ],
          "scatter3d": [
           {
            "line": {
             "colorbar": {
              "outlinewidth": 0,
              "ticks": ""
             }
            },
            "marker": {
             "colorbar": {
              "outlinewidth": 0,
              "ticks": ""
             }
            },
            "type": "scatter3d"
           }
          ],
          "scattercarpet": [
           {
            "marker": {
             "colorbar": {
              "outlinewidth": 0,
              "ticks": ""
             }
            },
            "type": "scattercarpet"
           }
          ],
          "scattergeo": [
           {
            "marker": {
             "colorbar": {
              "outlinewidth": 0,
              "ticks": ""
             }
            },
            "type": "scattergeo"
           }
          ],
          "scattergl": [
           {
            "marker": {
             "colorbar": {
              "outlinewidth": 0,
              "ticks": ""
             }
            },
            "type": "scattergl"
           }
          ],
          "scattermapbox": [
           {
            "marker": {
             "colorbar": {
              "outlinewidth": 0,
              "ticks": ""
             }
            },
            "type": "scattermapbox"
           }
          ],
          "scatterpolar": [
           {
            "marker": {
             "colorbar": {
              "outlinewidth": 0,
              "ticks": ""
             }
            },
            "type": "scatterpolar"
           }
          ],
          "scatterpolargl": [
           {
            "marker": {
             "colorbar": {
              "outlinewidth": 0,
              "ticks": ""
             }
            },
            "type": "scatterpolargl"
           }
          ],
          "scatterternary": [
           {
            "marker": {
             "colorbar": {
              "outlinewidth": 0,
              "ticks": ""
             }
            },
            "type": "scatterternary"
           }
          ],
          "surface": [
           {
            "colorbar": {
             "outlinewidth": 0,
             "ticks": ""
            },
            "colorscale": [
             [
              0,
              "#0d0887"
             ],
             [
              0.1111111111111111,
              "#46039f"
             ],
             [
              0.2222222222222222,
              "#7201a8"
             ],
             [
              0.3333333333333333,
              "#9c179e"
             ],
             [
              0.4444444444444444,
              "#bd3786"
             ],
             [
              0.5555555555555556,
              "#d8576b"
             ],
             [
              0.6666666666666666,
              "#ed7953"
             ],
             [
              0.7777777777777778,
              "#fb9f3a"
             ],
             [
              0.8888888888888888,
              "#fdca26"
             ],
             [
              1,
              "#f0f921"
             ]
            ],
            "type": "surface"
           }
          ],
          "table": [
           {
            "cells": {
             "fill": {
              "color": "#EBF0F8"
             },
             "line": {
              "color": "white"
             }
            },
            "header": {
             "fill": {
              "color": "#C8D4E3"
             },
             "line": {
              "color": "white"
             }
            },
            "type": "table"
           }
          ]
         },
         "layout": {
          "annotationdefaults": {
           "arrowcolor": "#2a3f5f",
           "arrowhead": 0,
           "arrowwidth": 1
          },
          "autotypenumbers": "strict",
          "coloraxis": {
           "colorbar": {
            "outlinewidth": 0,
            "ticks": ""
           }
          },
          "colorscale": {
           "diverging": [
            [
             0,
             "#8e0152"
            ],
            [
             0.1,
             "#c51b7d"
            ],
            [
             0.2,
             "#de77ae"
            ],
            [
             0.3,
             "#f1b6da"
            ],
            [
             0.4,
             "#fde0ef"
            ],
            [
             0.5,
             "#f7f7f7"
            ],
            [
             0.6,
             "#e6f5d0"
            ],
            [
             0.7,
             "#b8e186"
            ],
            [
             0.8,
             "#7fbc41"
            ],
            [
             0.9,
             "#4d9221"
            ],
            [
             1,
             "#276419"
            ]
           ],
           "sequential": [
            [
             0,
             "#0d0887"
            ],
            [
             0.1111111111111111,
             "#46039f"
            ],
            [
             0.2222222222222222,
             "#7201a8"
            ],
            [
             0.3333333333333333,
             "#9c179e"
            ],
            [
             0.4444444444444444,
             "#bd3786"
            ],
            [
             0.5555555555555556,
             "#d8576b"
            ],
            [
             0.6666666666666666,
             "#ed7953"
            ],
            [
             0.7777777777777778,
             "#fb9f3a"
            ],
            [
             0.8888888888888888,
             "#fdca26"
            ],
            [
             1,
             "#f0f921"
            ]
           ],
           "sequentialminus": [
            [
             0,
             "#0d0887"
            ],
            [
             0.1111111111111111,
             "#46039f"
            ],
            [
             0.2222222222222222,
             "#7201a8"
            ],
            [
             0.3333333333333333,
             "#9c179e"
            ],
            [
             0.4444444444444444,
             "#bd3786"
            ],
            [
             0.5555555555555556,
             "#d8576b"
            ],
            [
             0.6666666666666666,
             "#ed7953"
            ],
            [
             0.7777777777777778,
             "#fb9f3a"
            ],
            [
             0.8888888888888888,
             "#fdca26"
            ],
            [
             1,
             "#f0f921"
            ]
           ]
          },
          "colorway": [
           "#636efa",
           "#EF553B",
           "#00cc96",
           "#ab63fa",
           "#FFA15A",
           "#19d3f3",
           "#FF6692",
           "#B6E880",
           "#FF97FF",
           "#FECB52"
          ],
          "font": {
           "color": "#2a3f5f"
          },
          "geo": {
           "bgcolor": "white",
           "lakecolor": "white",
           "landcolor": "#E5ECF6",
           "showlakes": true,
           "showland": true,
           "subunitcolor": "white"
          },
          "hoverlabel": {
           "align": "left"
          },
          "hovermode": "closest",
          "mapbox": {
           "style": "light"
          },
          "paper_bgcolor": "white",
          "plot_bgcolor": "#E5ECF6",
          "polar": {
           "angularaxis": {
            "gridcolor": "white",
            "linecolor": "white",
            "ticks": ""
           },
           "bgcolor": "#E5ECF6",
           "radialaxis": {
            "gridcolor": "white",
            "linecolor": "white",
            "ticks": ""
           }
          },
          "scene": {
           "xaxis": {
            "backgroundcolor": "#E5ECF6",
            "gridcolor": "white",
            "gridwidth": 2,
            "linecolor": "white",
            "showbackground": true,
            "ticks": "",
            "zerolinecolor": "white"
           },
           "yaxis": {
            "backgroundcolor": "#E5ECF6",
            "gridcolor": "white",
            "gridwidth": 2,
            "linecolor": "white",
            "showbackground": true,
            "ticks": "",
            "zerolinecolor": "white"
           },
           "zaxis": {
            "backgroundcolor": "#E5ECF6",
            "gridcolor": "white",
            "gridwidth": 2,
            "linecolor": "white",
            "showbackground": true,
            "ticks": "",
            "zerolinecolor": "white"
           }
          },
          "shapedefaults": {
           "line": {
            "color": "#2a3f5f"
           }
          },
          "ternary": {
           "aaxis": {
            "gridcolor": "white",
            "linecolor": "white",
            "ticks": ""
           },
           "baxis": {
            "gridcolor": "white",
            "linecolor": "white",
            "ticks": ""
           },
           "bgcolor": "#E5ECF6",
           "caxis": {
            "gridcolor": "white",
            "linecolor": "white",
            "ticks": ""
           }
          },
          "title": {
           "x": 0.05
          },
          "xaxis": {
           "automargin": true,
           "gridcolor": "white",
           "linecolor": "white",
           "ticks": "",
           "title": {
            "standoff": 15
           },
           "zerolinecolor": "white",
           "zerolinewidth": 2
          },
          "yaxis": {
           "automargin": true,
           "gridcolor": "white",
           "linecolor": "white",
           "ticks": "",
           "title": {
            "standoff": 15
           },
           "zerolinecolor": "white",
           "zerolinewidth": 2
          }
         }
        },
        "title": {
         "text": "Среднее количество лайков по типам блюд"
        },
        "width": 1200,
        "xaxis": {
         "anchor": "y",
         "autorange": true,
         "categoryorder": "total descending",
         "domain": [
          0,
          1
         ],
         "range": [
          -0.5,
          109.5
         ],
         "title": {
          "text": "Тип"
         },
         "type": "category"
        },
        "yaxis": {
         "anchor": "x",
         "autorange": true,
         "domain": [
          0,
          1
         ],
         "range": [
          0,
          467.36842105263156
         ],
         "title": {
          "text": "Среднее количество лайков"
         },
         "type": "linear"
        }
       }
      },
      "image/png": "[encoded data removed]",
      "text/html": [
       "<div>                            <div id=\"52226e05-cd51-452d-a008-43f2fb6a79b9\" class=\"plotly-graph-div\" style=\"height:600px; width:1200px;\"></div>            <script type=\"text/javascript\">                require([\"plotly\"], function(Plotly) {                    window.PLOTLYENV=window.PLOTLYENV || {};                                    if (document.getElementById(\"52226e05-cd51-452d-a008-43f2fb6a79b9\")) {                    Plotly.newPlot(                        \"52226e05-cd51-452d-a008-43f2fb6a79b9\",                        [{\"alignmentgroup\":\"True\",\"hovertemplate\":\"\\u0422\\u0438\\u043f=%{x}<br>\\u0421\\u0440\\u0435\\u0434\\u043d\\u0435\\u0435 \\u043a\\u043e\\u043b\\u0438\\u0447\\u0435\\u0441\\u0442\\u0432\\u043e \\u043b\\u0430\\u0439\\u043a\\u043e\\u0432=%{y}<extra></extra>\",\"legendgroup\":\"\",\"marker\":{\"color\":\"#636efa\",\"pattern\":{\"shape\":\"\"}},\"name\":\"\",\"offsetgroup\":\"\",\"orientation\":\"v\",\"showlegend\":false,\"textposition\":\"auto\",\"x\":[\"\\u0410\\u0437\\u0443\",\"\\u0411\\u0435\\u0444\\u0441\\u0442\\u0440\\u043e\\u0433\\u0430\\u043d\\u043e\\u0432\",\"\\u0411\\u0438\\u0433\\u0443\\u0441\",\"\\u0411\\u0438\\u0442\\u043e\\u0447\\u043a\\u0438\",\"\\u0411\\u0438\\u0444\\u0448\\u0442\\u0435\\u043a\\u0441\",\"\\u0411\\u043b\\u044e\\u0434\\u0430 \\u0438\\u0437 \\u0431\\u0430\\u0440\\u0430\\u043d\\u0438\\u043d\\u044b\",\"\\u0411\\u043b\\u044e\\u0434\\u0430 \\u0438\\u0437 \\u0433\\u043e\\u0432\\u044f\\u0434\\u0438\\u043d\\u044b\",\"\\u0411\\u043b\\u044e\\u0434\\u0430 \\u0438\\u0437 \\u043a\\u0440\\u0443\\u043f\",\"\\u0411\\u043b\\u044e\\u0434\\u0430 \\u0438\\u0437 \\u043a\\u0443\\u0440\\u0438\\u0446\\u044b\",\"\\u0411\\u043b\\u044e\\u0434\\u0430 \\u0438\\u0437 \\u043c\\u043e\\u0440\\u0435\\u043f\\u0440\\u043e\\u0434\\u0443\\u043a\\u0442\\u043e\\u0432\",\"\\u0411\\u043b\\u044e\\u0434\\u0430 \\u0438\\u0437 \\u043c\\u044f\\u0441\\u0430\",\"\\u0411\\u043b\\u044e\\u0434\\u0430 \\u0438\\u0437 \\u043e\\u0432\\u043e\\u0449\\u0435\\u0439\",\"\\u0411\\u043b\\u044e\\u0434\\u0430 \\u0438\\u0437 \\u043f\\u0442\\u0438\\u0446\\u044b\",\"\\u0411\\u043b\\u044e\\u0434\\u0430 \\u0438\\u0437 \\u0440\\u044b\\u0431\\u044b\",\"\\u0411\\u043b\\u044e\\u0434\\u0430 \\u0441 \\u0440\\u0438\\u0441\\u043e\\u043c\",\"\\u0411\\u043b\\u044e\\u0434\\u0430 \\u0441 \\u0441\\u043e\\u0435\\u0432\\u044b\\u043c \\u0441\\u043e\\u0443\\u0441\\u043e\\u043c\",\"\\u0411\\u043b\\u044e\\u0434\\u0430 \\u0441 \\u0444\\u0430\\u0440\\u0448\\u0435\\u043c\",\"\\u0411\\u0443\\u0436\\u0435\\u043d\\u0438\\u043d\\u0430\",\"\\u0412\\u0430\\u0440\\u0435\\u043d\\u0438\\u043a\\u0438\",\"\\u0412\\u0441\\u044e\\u0434\\u0443 \\u0436\\u0438\\u0437\\u043d\\u044c\",\"\\u0413\\u0430\\u043b\\u0443\\u0448\\u043a\\u0438\",\"\\u0413\\u0430\\u043c\\u0431\\u0443\\u0440\\u0433\\u0435\\u0440\",\"\\u0413\\u043e\\u043b\\u0443\\u0431\\u0446\\u044b\",\"\\u0413\\u043e\\u0440\\u043e\\u0445\\u043e\\u0432\\u044b\\u0439 \\u0441\\u0443\\u043f\",\"\\u0413\\u043e\\u0440\\u044f\\u0447\\u0438\\u0435 \\u0437\\u0430\\u043a\\u0443\\u0441\\u043a\\u0438\",\"\\u0413\\u0440\\u0430\\u0442\\u0435\\u043d\",\"\\u0413\\u0440\\u0435\\u0447\\u043d\\u0435\\u0432\\u0430\\u044f \\u043a\\u0430\\u0448\\u0430\",\"\\u0413\\u0443\\u043b\\u044f\\u0448\",\"\\u0413\\u0443\\u043b\\u044f\\u0448 \\u0438\\u0437 \\u0433\\u043e\\u0432\\u044f\\u0434\\u0438\\u043d\\u044b\",\"\\u0413\\u0443\\u043b\\u044f\\u0448 \\u0438\\u0437 \\u0441\\u0432\\u0438\\u043d\\u0438\\u043d\\u044b\",\"\\u0414\\u0435\\u0440\\u0443\\u043d\\u044b\",\"\\u0414\\u0440\\u0430\\u043d\\u0438\\u043a\\u0438\",\"\\u0416\\u0430\\u0440\\u043a\\u043e\\u0435\",\"\\u0417\\u0430\\u043f\\u0435\\u043a\\u0430\\u043d\\u043a\\u0430\",\"\\u0417\\u0430\\u043f\\u0435\\u043a\\u0430\\u043d\\u043a\\u0430 \\u0438\\u0437 \\u043a\\u0430\\u0431\\u0430\\u0447\\u043a\\u043e\\u0432\",\"\\u0417\\u0434\\u043e\\u0440\\u043e\\u0432\\u044c\\u0435\",\"\\u0417\\u0440\\u0430\\u0437\\u044b\",\"\\u041a\\u0430\\u0440\\u0442\\u043e\\u0448\\u043a\\u0430 \\u0441 \\u0433\\u0440\\u0438\\u0431\\u0430\\u043c\\u0438\",\"\\u041a\\u0430\\u0448\\u0438\",\"\\u041a\\u0430\\u0448\\u0438 \\u043d\\u0430 \\u0432\\u043e\\u0434\\u0435\",\"\\u041a\\u0438\\u0435\\u0432\\u0441\\u043a\\u0438\\u0435 \\u043a\\u043e\\u0442\\u043b\\u0435\\u0442\\u044b\",\"\\u041a\\u043b\\u0435\\u0446\\u043a\\u0438\",\"\\u041a\\u043e\\u0442\\u043b\\u0435\\u0442\\u044b\",\"\\u041a\\u0443\\u0440\\u0438\\u0446\\u0430 \\u0432 \\u0434\\u0443\\u0445\\u043e\\u0432\\u043a\\u0435\",\"\\u041b\\u0430\\u0433\\u043c\\u0430\\u043d\",\"\\u041b\\u0430\\u0437\\u0430\\u043d\\u044c\\u044f\",\"\\u041b\\u0430\\u043f\\u0448\\u0430\",\"\\u041b\\u043e\\u0431\\u0438\\u043e\",\"\\u041b\\u044e\\u043b\\u044f-\\u043a\\u0435\\u0431\\u0430\\u0431\",\"\\u041c\\u0430\\u043a\\u0430\\u0440\\u043e\\u043d\\u044b\",\"\\u041c\\u0430\\u043d\\u0442\\u044b\",\"\\u041c\\u0443\\u0441\\u0430\\u043a\\u0430\",\"\\u041c\\u044f\\u0441\\u043d\\u043e\\u0439 \\u0431\\u0443\\u043b\\u044c\\u043e\\u043d\",\"\\u041c\\u044f\\u0441\\u043e \\u0432 \\u0434\\u0443\\u0445\\u043e\\u0432\\u043a\\u0435\",\"\\u041c\\u044f\\u0441\\u043e \\u043f\\u043e-\\u0444\\u0440\\u0430\\u043d\\u0446\\u0443\\u0437\\u0441\\u043a\\u0438\",\"\\u041d\\u043e\\u0432\\u043e\\u0433\\u043e\\u0434\\u043d\\u0438\\u0435 \\u0431\\u043b\\u044e\\u0434\\u0430 \\u0438\\u0437 \\u043a\\u0443\\u0440\\u0438\\u0446\\u044b\",\"\\u041d\\u043e\\u0432\\u043e\\u0433\\u043e\\u0434\\u043d\\u0438\\u0435 \\u0431\\u043b\\u044e\\u0434\\u0430 \\u0438\\u0437 \\u0441\\u0432\\u0438\\u043d\\u0438\\u043d\\u044b\",\"\\u041d\\u043e\\u0432\\u043e\\u0441\\u0442\\u0438 \\u043f\\u0430\\u0440\\u0442\\u043d\\u0435\\u0440\\u043e\\u0432\",\"\\u041e\\u0432\\u043e\\u0449\\u0438 \\u0432 \\u0434\\u0443\\u0445\\u043e\\u0432\\u043a\\u0435\",\"\\u041e\\u0432\\u043e\\u0449\\u043d\\u043e\\u0435 \\u0440\\u0430\\u0433\\u0443\",\"\\u041e\\u0432\\u043e\\u0449\\u043d\\u043e\\u0435 \\u0440\\u0430\\u0433\\u0443 \\u0441 \\u043a\\u0430\\u0431\\u0430\\u0447\\u043a\\u0430\\u043c\\u0438\",\"\\u041e\\u043c\\u043b\\u0435\\u0442\",\"\\u041e\\u0442\\u0431\\u0438\\u0432\\u043d\\u044b\\u0435\",\"\\u041f\\u0430\\u0448\\u0442\\u0435\\u0442\\u044b\",\"\\u041f\\u0430\\u044d\\u043b\\u044c\\u044f\",\"\\u041f\\u0435\\u043b\\u044c\\u043c\\u0435\\u043d\\u0438\",\"\\u041f\\u0435\\u0440\\u0435\\u0446 \\u0444\\u0430\\u0440\\u0448\\u0438\\u0440\\u043e\\u0432\\u0430\\u043d\\u043d\\u044b\\u0439\",\"\\u041f\\u0435\\u0447\\u0435\\u043d\\u043e\\u0447\\u043d\\u044b\\u0435 \\u043e\\u043b\\u0430\\u0434\\u044c\\u0438\",\"\\u041f\\u0438\\u0440\\u043e\\u0433\\u0438\",\"\\u041f\\u0438\\u0440\\u043e\\u0436\\u043a\\u0438\",\"\\u041f\\u043b\\u043e\\u0432\",\"\\u041f\\u043b\\u043e\\u0432 \\u0441 \\u043a\\u0443\\u0440\\u0438\\u0446\\u0435\\u0439\",\"\\u041f\\u043e\\u0441\\u0442\\u043d\\u044b\\u0435 \\u043a\\u043e\\u0442\\u043b\\u0435\\u0442\\u044b\",\"\\u041f\\u0440\\u0430\\u0437\\u0434\\u043d\\u0438\\u0447\\u043d\\u044b\\u0435 \\u0431\\u043b\\u044e\\u0434\\u0430 \\u0438\\u0437 \\u0441\\u0432\\u0438\\u043d\\u0438\\u043d\\u044b\",\"\\u041f\\u0440\\u043e\\u0434\\u0443\\u043a\\u0442\",\"\\u041f\\u044e\\u0440\\u0435\",\"\\u0420\\u0430\\u0433\\u0443\",\"\\u0420\\u0430\\u0442\\u0430\\u0442\\u0443\\u0439\",\"\\u0420\\u0435\\u0441\\u0442\\u043e\\u0440\\u0430\\u043d\\u044b\",\"\\u0420\\u043e\\u0441\\u0442\\u0431\\u0438\\u0444\",\"\\u0420\\u0443\\u043b\\u0435\\u0442\\u044b\",\"\\u0420\\u044b\\u0431\\u0430 \\u0432 \\u0434\\u0443\\u0445\\u043e\\u0432\\u043a\\u0435\",\"\\u0421\\u0430\\u043b\\u0430\\u0442\\u044b \\u0441 \\u043a\\u0443\\u0440\\u0438\\u0446\\u0435\\u0439\",\"\\u0421\\u0430\\u0446\\u0438\\u0432\\u0438\",\"\\u0421\\u0438\\u0440\\u043e\\u043f\",\"\\u0421\\u043e\\u043b\\u044f\\u043d\\u043a\\u0430\",\"\\u0421\\u043e\\u0442\\u0435\",\"\\u0421\\u043e\\u0443\\u0441\\u044b \\u043a \\u0440\\u044b\\u0431\\u0435\",\"\\u0421\\u043f\\u0430\\u0433\\u0435\\u0442\\u0442\\u0438\",\"\\u0421\\u0442\\u0435\\u0439\\u043a\\u0438\",\"\\u0421\\u0443\\u043f-\\u043f\\u044e\\u0440\\u0435\",\"\\u0422\\u0430\\u043a\\u043e\\u0441\",\"\\u0422\\u0430\\u0440\\u0442\\u0430\\u0440\",\"\\u0422\\u0435\\u0440\\u0438\\u044f\\u043a\\u0438\",\"\\u0422\\u0435\\u0444\\u0442\\u0435\\u043b\\u0438\",\"\\u0423\\u0437\\u0431\\u0435\\u043a\\u0441\\u043a\\u0438\\u0439 \\u043f\\u043b\\u043e\\u0432\",\"\\u0424\\u0430\\u0440\\u0448\\u0438\\u0440\\u043e\\u0432\\u0430\\u043d\\u043d\\u044b\\u0435 \\u0431\\u043b\\u044e\\u0434\\u0430\",\"\\u0424\\u0440\\u0438\\u043a\\u0430\\u0434\\u0435\\u043b\\u044c\\u043a\\u0438\",\"\\u0425\\u0438\\u043d\\u043a\\u0430\\u043b\\u0438\",\"\\u0425\\u043b\\u0435\\u0431\",\"\\u0425\\u043e\\u043b\\u043e\\u0434\\u0435\\u0446\",\"\\u0425\\u043e\\u043b\\u043e\\u0434\\u043d\\u044b\\u0435 \\u0437\\u0430\\u043a\\u0443\\u0441\\u043a\\u0438\",\"\\u0426\\u044b\\u043f\\u043b\\u0435\\u043d\\u043e\\u043a \\u0442\\u0430\\u0431\\u0430\\u043a\\u0430\",\"\\u0427\\u0430\\u0442\\u043d\\u0438\",\"\\u0427\\u0430\\u0445\\u043e\\u0445\\u0431\\u0438\\u043b\\u0438\",\"\\u0427\\u0438\\u043f\\u0441\\u044b\",\"\\u0428\\u0430\\u0448\\u043b\\u044b\\u043a\",\"\\u0428\\u0430\\u0448\\u043b\\u044b\\u043a \\u0438\\u0437 \\u0441\\u0432\\u0438\\u043d\\u0438\\u043d\\u044b\",\"\\u0428\\u043d\\u0438\\u0446\\u0435\\u043b\\u044c\",\"\\u042f\\u0438\\u0447\\u043d\\u0438\\u0446\\u0430\"],\"xaxis\":\"x\",\"y\":[15.0,37.5,5.0,8.0,6.0,5.2,24.0,23.0,51.0,10.0,24.058823529411764,45.42857142857143,22.318181818181817,21.666666666666668,12.333333333333334,134.0,125.66666666666667,5.0,444.0,38.0,7.0,41.0,50.0,2.0,33.794871794871796,412.0,213.0,2.0,192.75,312.0,391.0,258.0,11.909090909090908,49.666666666666664,226.0,88.0,20.0,67.5,23.2,12.0,105.0,8.0,49.89655172413793,36.4,2.0,14.0,61.875,3.0,42.0,35.666666666666664,3.0,21.0,4.0,21.428571428571427,94.25,261.0,151.66666666666666,36.0,164.0,250.0,76.0,51.0,16.0,1.0,2.0,45.666666666666664,194.0,22.0,13.8,8.0,180.55555555555554,17.0,40.0,19.75,345.0,59.666666666666664,34.214285714285715,112.0,9.0,37.0,1.0,3.125,205.0,9.666666666666666,205.5,21.0,50.0,19.428571428571427,18.0,20.9,4.0,13.0,23.0,74.5,49.857142857142854,436.0,40.5,8.0,185.0,8.0,5.0,12.25,19.0,6.0,157.0,7.0,40.5,54.0,11.0,4.0],\"yaxis\":\"y\",\"type\":\"bar\"}],                        {\"template\":{\"data\":{\"histogram2dcontour\":[{\"type\":\"histogram2dcontour\",\"colorbar\":{\"outlinewidth\":0,\"ticks\":\"\"},\"colorscale\":[[0.0,\"#0d0887\"],[0.1111111111111111,\"#46039f\"],[0.2222222222222222,\"#7201a8\"],[0.3333333333333333,\"#9c179e\"],[0.4444444444444444,\"#bd3786\"],[0.5555555555555556,\"#d8576b\"],[0.6666666666666666,\"#ed7953\"],[0.7777777777777778,\"#fb9f3a\"],[0.8888888888888888,\"#fdca26\"],[1.0,\"#f0f921\"]]}],\"choropleth\":[{\"type\":\"choropleth\",\"colorbar\":{\"outlinewidth\":0,\"ticks\":\"\"}}],\"histogram2d\":[{\"type\":\"histogram2d\",\"colorbar\":{\"outlinewidth\":0,\"ticks\":\"\"},\"colorscale\":[[0.0,\"#0d0887\"],[0.1111111111111111,\"#46039f\"],[0.2222222222222222,\"#7201a8\"],[0.3333333333333333,\"#9c179e\"],[0.4444444444444444,\"#bd3786\"],[0.5555555555555556,\"#d8576b\"],[0.6666666666666666,\"#ed7953\"],[0.7777777777777778,\"#fb9f3a\"],[0.8888888888888888,\"#fdca26\"],[1.0,\"#f0f921\"]]}],\"heatmap\":[{\"type\":\"heatmap\",\"colorbar\":{\"outlinewidth\":0,\"ticks\":\"\"},\"colorscale\":[[0.0,\"#0d0887\"],[0.1111111111111111,\"#46039f\"],[0.2222222222222222,\"#7201a8\"],[0.3333333333333333,\"#9c179e\"],[0.4444444444444444,\"#bd3786\"],[0.5555555555555556,\"#d8576b\"],[0.6666666666666666,\"#ed7953\"],[0.7777777777777778,\"#fb9f3a\"],[0.8888888888888888,\"#fdca26\"],[1.0,\"#f0f921\"]]}],\"heatmapgl\":[{\"type\":\"heatmapgl\",\"colorbar\":{\"outlinewidth\":0,\"ticks\":\"\"},\"colorscale\":[[0.0,\"#0d0887\"],[0.1111111111111111,\"#46039f\"],[0.2222222222222222,\"#7201a8\"],[0.3333333333333333,\"#9c179e\"],[0.4444444444444444,\"#bd3786\"],[0.5555555555555556,\"#d8576b\"],[0.6666666666666666,\"#ed7953\"],[0.7777777777777778,\"#fb9f3a\"],[0.8888888888888888,\"#fdca26\"],[1.0,\"#f0f921\"]]}],\"contourcarpet\":[{\"type\":\"contourcarpet\",\"colorbar\":{\"outlinewidth\":0,\"ticks\":\"\"}}],\"contour\":[{\"type\":\"contour\",\"colorbar\":{\"outlinewidth\":0,\"ticks\":\"\"},\"colorscale\":[[0.0,\"#0d0887\"],[0.1111111111111111,\"#46039f\"],[0.2222222222222222,\"#7201a8\"],[0.3333333333333333,\"#9c179e\"],[0.4444444444444444,\"#bd3786\"],[0.5555555555555556,\"#d8576b\"],[0.6666666666666666,\"#ed7953\"],[0.7777777777777778,\"#fb9f3a\"],[0.8888888888888888,\"#fdca26\"],[1.0,\"#f0f921\"]]}],\"surface\":[{\"type\":\"surface\",\"colorbar\":{\"outlinewidth\":0,\"ticks\":\"\"},\"colorscale\":[[0.0,\"#0d0887\"],[0.1111111111111111,\"#46039f\"],[0.2222222222222222,\"#7201a8\"],[0.3333333333333333,\"#9c179e\"],[0.4444444444444444,\"#bd3786\"],[0.5555555555555556,\"#d8576b\"],[0.6666666666666666,\"#ed7953\"],[0.7777777777777778,\"#fb9f3a\"],[0.8888888888888888,\"#fdca26\"],[1.0,\"#f0f921\"]]}],\"mesh3d\":[{\"type\":\"mesh3d\",\"colorbar\":{\"outlinewidth\":0,\"ticks\":\"\"}}],\"scatter\":[{\"fillpattern\":{\"fillmode\":\"overlay\",\"size\":10,\"solidity\":0.2},\"type\":\"scatter\"}],\"parcoords\":[{\"type\":\"parcoords\",\"line\":{\"colorbar\":{\"outlinewidth\":0,\"ticks\":\"\"}}}],\"scatterpolargl\":[{\"type\":\"scatterpolargl\",\"marker\":{\"colorbar\":{\"outlinewidth\":0,\"ticks\":\"\"}}}],\"bar\":[{\"error_x\":{\"color\":\"#2a3f5f\"},\"error_y\":{\"color\":\"#2a3f5f\"},\"marker\":{\"line\":{\"color\":\"#E5ECF6\",\"width\":0.5},\"pattern\":{\"fillmode\":\"overlay\",\"size\":10,\"solidity\":0.2}},\"type\":\"bar\"}],\"scattergeo\":[{\"type\":\"scattergeo\",\"marker\":{\"colorbar\":{\"outlinewidth\":0,\"ticks\":\"\"}}}],\"scatterpolar\":[{\"type\":\"scatterpolar\",\"marker\":{\"colorbar\":{\"outlinewidth\":0,\"ticks\":\"\"}}}],\"histogram\":[{\"marker\":{\"pattern\":{\"fillmode\":\"overlay\",\"size\":10,\"solidity\":0.2}},\"type\":\"histogram\"}],\"scattergl\":[{\"type\":\"scattergl\",\"marker\":{\"colorbar\":{\"outlinewidth\":0,\"ticks\":\"\"}}}],\"scatter3d\":[{\"type\":\"scatter3d\",\"line\":{\"colorbar\":{\"outlinewidth\":0,\"ticks\":\"\"}},\"marker\":{\"colorbar\":{\"outlinewidth\":0,\"ticks\":\"\"}}}],\"scattermapbox\":[{\"type\":\"scattermapbox\",\"marker\":{\"colorbar\":{\"outlinewidth\":0,\"ticks\":\"\"}}}],\"scatterternary\":[{\"type\":\"scatterternary\",\"marker\":{\"colorbar\":{\"outlinewidth\":0,\"ticks\":\"\"}}}],\"scattercarpet\":[{\"type\":\"scattercarpet\",\"marker\":{\"colorbar\":{\"outlinewidth\":0,\"ticks\":\"\"}}}],\"carpet\":[{\"aaxis\":{\"endlinecolor\":\"#2a3f5f\",\"gridcolor\":\"white\",\"linecolor\":\"white\",\"minorgridcolor\":\"white\",\"startlinecolor\":\"#2a3f5f\"},\"baxis\":{\"endlinecolor\":\"#2a3f5f\",\"gridcolor\":\"white\",\"linecolor\":\"white\",\"minorgridcolor\":\"white\",\"startlinecolor\":\"#2a3f5f\"},\"type\":\"carpet\"}],\"table\":[{\"cells\":{\"fill\":{\"color\":\"#EBF0F8\"},\"line\":{\"color\":\"white\"}},\"header\":{\"fill\":{\"color\":\"#C8D4E3\"},\"line\":{\"color\":\"white\"}},\"type\":\"table\"}],\"barpolar\":[{\"marker\":{\"line\":{\"color\":\"#E5ECF6\",\"width\":0.5},\"pattern\":{\"fillmode\":\"overlay\",\"size\":10,\"solidity\":0.2}},\"type\":\"barpolar\"}],\"pie\":[{\"automargin\":true,\"type\":\"pie\"}]},\"layout\":{\"autotypenumbers\":\"strict\",\"colorway\":[\"#636efa\",\"#EF553B\",\"#00cc96\",\"#ab63fa\",\"#FFA15A\",\"#19d3f3\",\"#FF6692\",\"#B6E880\",\"#FF97FF\",\"#FECB52\"],\"font\":{\"color\":\"#2a3f5f\"},\"hovermode\":\"closest\",\"hoverlabel\":{\"align\":\"left\"},\"paper_bgcolor\":\"white\",\"plot_bgcolor\":\"#E5ECF6\",\"polar\":{\"bgcolor\":\"#E5ECF6\",\"angularaxis\":{\"gridcolor\":\"white\",\"linecolor\":\"white\",\"ticks\":\"\"},\"radialaxis\":{\"gridcolor\":\"white\",\"linecolor\":\"white\",\"ticks\":\"\"}},\"ternary\":{\"bgcolor\":\"#E5ECF6\",\"aaxis\":{\"gridcolor\":\"white\",\"linecolor\":\"white\",\"ticks\":\"\"},\"baxis\":{\"gridcolor\":\"white\",\"linecolor\":\"white\",\"ticks\":\"\"},\"caxis\":{\"gridcolor\":\"white\",\"linecolor\":\"white\",\"ticks\":\"\"}},\"coloraxis\":{\"colorbar\":{\"outlinewidth\":0,\"ticks\":\"\"}},\"colorscale\":{\"sequential\":[[0.0,\"#0d0887\"],[0.1111111111111111,\"#46039f\"],[0.2222222222222222,\"#7201a8\"],[0.3333333333333333,\"#9c179e\"],[0.4444444444444444,\"#bd3786\"],[0.5555555555555556,\"#d8576b\"],[0.6666666666666666,\"#ed7953\"],[0.7777777777777778,\"#fb9f3a\"],[0.8888888888888888,\"#fdca26\"],[1.0,\"#f0f921\"]],\"sequentialminus\":[[0.0,\"#0d0887\"],[0.1111111111111111,\"#46039f\"],[0.2222222222222222,\"#7201a8\"],[0.3333333333333333,\"#9c179e\"],[0.4444444444444444,\"#bd3786\"],[0.5555555555555556,\"#d8576b\"],[0.6666666666666666,\"#ed7953\"],[0.7777777777777778,\"#fb9f3a\"],[0.8888888888888888,\"#fdca26\"],[1.0,\"#f0f921\"]],\"diverging\":[[0,\"#8e0152\"],[0.1,\"#c51b7d\"],[0.2,\"#de77ae\"],[0.3,\"#f1b6da\"],[0.4,\"#fde0ef\"],[0.5,\"#f7f7f7\"],[0.6,\"#e6f5d0\"],[0.7,\"#b8e186\"],[0.8,\"#7fbc41\"],[0.9,\"#4d9221\"],[1,\"#276419\"]]},\"xaxis\":{\"gridcolor\":\"white\",\"linecolor\":\"white\",\"ticks\":\"\",\"title\":{\"standoff\":15},\"zerolinecolor\":\"white\",\"automargin\":true,\"zerolinewidth\":2},\"yaxis\":{\"gridcolor\":\"white\",\"linecolor\":\"white\",\"ticks\":\"\",\"title\":{\"standoff\":15},\"zerolinecolor\":\"white\",\"automargin\":true,\"zerolinewidth\":2},\"scene\":{\"xaxis\":{\"backgroundcolor\":\"#E5ECF6\",\"gridcolor\":\"white\",\"linecolor\":\"white\",\"showbackground\":true,\"ticks\":\"\",\"zerolinecolor\":\"white\",\"gridwidth\":2},\"yaxis\":{\"backgroundcolor\":\"#E5ECF6\",\"gridcolor\":\"white\",\"linecolor\":\"white\",\"showbackground\":true,\"ticks\":\"\",\"zerolinecolor\":\"white\",\"gridwidth\":2},\"zaxis\":{\"backgroundcolor\":\"#E5ECF6\",\"gridcolor\":\"white\",\"linecolor\":\"white\",\"showbackground\":true,\"ticks\":\"\",\"zerolinecolor\":\"white\",\"gridwidth\":2}},\"shapedefaults\":{\"line\":{\"color\":\"#2a3f5f\"}},\"annotationdefaults\":{\"arrowcolor\":\"#2a3f5f\",\"arrowhead\":0,\"arrowwidth\":1},\"geo\":{\"bgcolor\":\"white\",\"landcolor\":\"#E5ECF6\",\"subunitcolor\":\"white\",\"showland\":true,\"showlakes\":true,\"lakecolor\":\"white\"},\"title\":{\"x\":0.05},\"mapbox\":{\"style\":\"light\"}}},\"xaxis\":{\"anchor\":\"y\",\"domain\":[0.0,1.0],\"title\":{\"text\":\"\\u0422\\u0438\\u043f\"},\"categoryorder\":\"total descending\"},\"yaxis\":{\"anchor\":\"x\",\"domain\":[0.0,1.0],\"title\":{\"text\":\"\\u0421\\u0440\\u0435\\u0434\\u043d\\u0435\\u0435 \\u043a\\u043e\\u043b\\u0438\\u0447\\u0435\\u0441\\u0442\\u0432\\u043e \\u043b\\u0430\\u0439\\u043a\\u043e\\u0432\"}},\"legend\":{\"tracegroupgap\":0},\"title\":{\"text\":\"\\u0421\\u0440\\u0435\\u0434\\u043d\\u0435\\u0435 \\u043a\\u043e\\u043b\\u0438\\u0447\\u0435\\u0441\\u0442\\u0432\\u043e \\u043b\\u0430\\u0439\\u043a\\u043e\\u0432 \\u043f\\u043e \\u0442\\u0438\\u043f\\u0430\\u043c \\u0431\\u043b\\u044e\\u0434\"},\"barmode\":\"relative\",\"bargap\":0.2,\"width\":1200,\"height\":600},                        {\"responsive\": true}                    ).then(function(){\n",
       "                            \n",
       "var gd = document.getElementById('52226e05-cd51-452d-a008-43f2fb6a79b9');\n",
       "var x = new MutationObserver(function (mutations, observer) {{\n",
       "        var display = window.getComputedStyle(gd).display;\n",
       "        if (!display || display === 'none') {{\n",
       "            console.log([gd, 'removed!']);\n",
       "            Plotly.purge(gd);\n",
       "            observer.disconnect();\n",
       "        }}\n",
       "}});\n",
       "\n",
       "// Listen for the removal of the full notebook cells\n",
       "var notebookContainer = gd.closest('#notebook-container');\n",
       "if (notebookContainer) {{\n",
       "    x.observe(notebookContainer, {childList: true});\n",
       "}}\n",
       "\n",
       "// Listen for the clearing of the current output cell\n",
       "var outputEl = gd.closest('.output');\n",
       "if (outputEl) {{\n",
       "    x.observe(outputEl, {childList: true});\n",
       "}}\n",
       "\n",
       "                        })                };                });            </script>        </div>"
      ]
     },
     "metadata": {},
     "output_type": "display_data"
    }
   ],
   "source": [
    "likes_by_cuisine = all_dishes.groupby('Тип')['Лайки'].mean().reset_index()\n",
    "\n",
    "import plotly.express as px\n",
    "fig = px.bar(likes_by_cuisine, x='Тип', y='Лайки',              title='Среднее количество лайков по типам блюд', \n",
    "             labels={'Лайки': 'Среднее количество лайков', 'Тип': 'Тип'},                          template='plotly')\n",
    "\n",
    "fig.update_layout(xaxis_categoryorder='total descending', bargap=0.2) \n",
    "fig.update_layout(width=1200, height=600)\n",
    "\n",
    "fig.show()"
   ]
  },
  {
   "cell_type": "markdown",
   "id": "ea0fe341-a294-4cff-8f16-f53ded99e0ae",
   "metadata": {},
   "source": [
    "Таким образом, можно заключить, что типами с самым большим количеством лайков на одно блюдо являются \"Вареники\", \"Узбекский плов\" и \"Гратен\""
   ]
  },
  {
   "cell_type": "code",
   "execution_count": 172,
   "id": "c032b34d-86d5-4e2a-b0ec-21e99b1204c6",
   "metadata": {},
   "outputs": [
    {
     "data": {
      "application/vnd.plotly.v1+json": {
       "config": {
        "plotlyServerURL": "https://plot.ly"
       },
       "data": [
        {
         "alignmentgroup": "True",
         "hovertemplate": "Тип=%{x}<br>Среднее время приготовления блюда=%{y}<extra></extra>",
         "legendgroup": "",
         "marker": {
          "color": "#636efa",
          "pattern": {
           "shape": ""
          }
         },
         "name": "",
         "offsetgroup": "",
         "orientation": "v",
         "showlegend": false,
         "textposition": "auto",
         "type": "bar",
         "x": [
          "Азу",
          "Бефстроганов",
          "Бигус",
          "Биточки",
          "Бифштекс",
          "Блюда из баранины",
          "Блюда из говядины",
          "Блюда из круп",
          "Блюда из курицы",
          "Блюда из морепродуктов",
          "Блюда из мяса",
          "Блюда из овощей",
          "Блюда из птицы",
          "Блюда из рыбы",
          "Блюда с рисом",
          "Блюда с соевым соусом",
          "Блюда с фаршем",
          "Буженина",
          "Вареники",
          "Всюду жизнь",
          "Галушки",
          "Гамбургер",
          "Голубцы",
          "Гороховый суп",
          "Горячие закуски",
          "Гратен",
          "Гречневая каша",
          "Гуляш",
          "Гуляш из говядины",
          "Гуляш из свинины",
          "Деруны",
          "Драники",
          "Жаркое",
          "Запеканка",
          "Запеканка из кабачков",
          "Здоровье",
          "Зразы",
          "Картошка с грибами",
          "Каши",
          "Каши на воде",
          "Киевские котлеты",
          "Клецки",
          "Котлеты",
          "Курица в духовке",
          "Лагман",
          "Лазанья",
          "Лапша",
          "Лобио",
          "Люля-кебаб",
          "Макароны",
          "Манты",
          "Мусака",
          "Мясной бульон",
          "Мясо в духовке",
          "Мясо по-французски",
          "Новогодние блюда из курицы",
          "Новогодние блюда из свинины",
          "Новости партнеров",
          "Овощи в духовке",
          "Овощное рагу",
          "Овощное рагу с кабачками",
          "Омлет",
          "Отбивные",
          "Паштеты",
          "Паэлья",
          "Пельмени",
          "Перец фаршированный",
          "Печеночные оладьи",
          "Пироги",
          "Пирожки",
          "Плов",
          "Плов с курицей",
          "Постные котлеты",
          "Праздничные блюда из свинины",
          "Продукт",
          "Пюре",
          "Рагу",
          "Рататуй",
          "Рестораны",
          "Ростбиф",
          "Рулеты",
          "Рыба в духовке",
          "Салаты с курицей",
          "Сациви",
          "Сироп",
          "Солянка",
          "Соте",
          "Соусы к рыбе",
          "Спагетти",
          "Стейки",
          "Суп-пюре",
          "Такос",
          "Тартар",
          "Терияки",
          "Тефтели",
          "Узбекский плов",
          "Фаршированные блюда",
          "Фрикадельки",
          "Хинкали",
          "Хлеб",
          "Холодец",
          "Холодные закуски",
          "Цыпленок табака",
          "Чатни",
          "Чахохбили",
          "Чипсы",
          "Шашлык",
          "Шашлык из свинины",
          "Шницель",
          "Яичница"
         ],
         "xaxis": "x",
         "y": [
          120,
          40,
          90,
          50,
          60,
          180,
          5,
          40,
          50,
          31.666666666666668,
          76.76470588235294,
          44.285714285714285,
          55,
          35,
          58.333333333333336,
          40,
          25,
          240,
          15,
          20,
          40,
          15,
          63.333333333333336,
          180,
          85.51282051282051,
          65,
          60,
          120,
          90,
          120,
          30,
          30,
          115.9090909090909,
          70.83333333333333,
          60,
          40,
          40,
          35,
          44,
          90,
          40,
          120,
          55.689655172413794,
          54,
          180,
          60,
          65.625,
          180,
          40,
          38.333333333333336,
          90,
          96.66666666666667,
          300,
          115.71428571428571,
          72.5,
          110,
          73.33333333333333,
          60,
          80,
          32,
          90,
          25,
          43,
          105,
          60,
          40.833333333333336,
          60,
          20,
          174,
          90,
          118.88888888888889,
          100,
          25,
          123.75,
          35,
          92.77777777777777,
          116.07142857142857,
          90,
          180,
          60,
          120,
          38.75,
          30,
          220,
          30,
          50,
          25,
          30,
          15,
          36.5,
          15,
          90,
          50,
          22.5,
          64.28571428571429,
          130,
          87.5,
          50,
          45,
          75,
          120,
          32.5,
          20,
          120,
          45,
          120,
          80,
          30,
          26.666666666666668,
          40
         ],
         "yaxis": "y"
        }
       ],
       "layout": {
        "bargap": 0.2,
        "barmode": "relative",
        "height": 600,
        "legend": {
         "tracegroupgap": 0
        },
        "template": {
         "data": {
          "bar": [
           {
            "error_x": {
             "color": "#2a3f5f"
            },
            "error_y": {
             "color": "#2a3f5f"
            },
            "marker": {
             "line": {
              "color": "#E5ECF6",
              "width": 0.5
             },
             "pattern": {
              "fillmode": "overlay",
              "size": 10,
              "solidity": 0.2
             }
            },
            "type": "bar"
           }
          ],
          "barpolar": [
           {
            "marker": {
             "line": {
              "color": "#E5ECF6",
              "width": 0.5
             },
             "pattern": {
              "fillmode": "overlay",
              "size": 10,
              "solidity": 0.2
             }
            },
            "type": "barpolar"
           }
          ],
          "carpet": [
           {
            "aaxis": {
             "endlinecolor": "#2a3f5f",
             "gridcolor": "white",
             "linecolor": "white",
             "minorgridcolor": "white",
             "startlinecolor": "#2a3f5f"
            },
            "baxis": {
             "endlinecolor": "#2a3f5f",
             "gridcolor": "white",
             "linecolor": "white",
             "minorgridcolor": "white",
             "startlinecolor": "#2a3f5f"
            },
            "type": "carpet"
           }
          ],
          "choropleth": [
           {
            "colorbar": {
             "outlinewidth": 0,
             "ticks": ""
            },
            "type": "choropleth"
           }
          ],
          "contour": [
           {
            "colorbar": {
             "outlinewidth": 0,
             "ticks": ""
            },
            "colorscale": [
             [
              0,
              "#0d0887"
             ],
             [
              0.1111111111111111,
              "#46039f"
             ],
             [
              0.2222222222222222,
              "#7201a8"
             ],
             [
              0.3333333333333333,
              "#9c179e"
             ],
             [
              0.4444444444444444,
              "#bd3786"
             ],
             [
              0.5555555555555556,
              "#d8576b"
             ],
             [
              0.6666666666666666,
              "#ed7953"
             ],
             [
              0.7777777777777778,
              "#fb9f3a"
             ],
             [
              0.8888888888888888,
              "#fdca26"
             ],
             [
              1,
              "#f0f921"
             ]
            ],
            "type": "contour"
           }
          ],
          "contourcarpet": [
           {
            "colorbar": {
             "outlinewidth": 0,
             "ticks": ""
            },
            "type": "contourcarpet"
           }
          ],
          "heatmap": [
           {
            "colorbar": {
             "outlinewidth": 0,
             "ticks": ""
            },
            "colorscale": [
             [
              0,
              "#0d0887"
             ],
             [
              0.1111111111111111,
              "#46039f"
             ],
             [
              0.2222222222222222,
              "#7201a8"
             ],
             [
              0.3333333333333333,
              "#9c179e"
             ],
             [
              0.4444444444444444,
              "#bd3786"
             ],
             [
              0.5555555555555556,
              "#d8576b"
             ],
             [
              0.6666666666666666,
              "#ed7953"
             ],
             [
              0.7777777777777778,
              "#fb9f3a"
             ],
             [
              0.8888888888888888,
              "#fdca26"
             ],
             [
              1,
              "#f0f921"
             ]
            ],
            "type": "heatmap"
           }
          ],
          "heatmapgl": [
           {
            "colorbar": {
             "outlinewidth": 0,
             "ticks": ""
            },
            "colorscale": [
             [
              0,
              "#0d0887"
             ],
             [
              0.1111111111111111,
              "#46039f"
             ],
             [
              0.2222222222222222,
              "#7201a8"
             ],
             [
              0.3333333333333333,
              "#9c179e"
             ],
             [
              0.4444444444444444,
              "#bd3786"
             ],
             [
              0.5555555555555556,
              "#d8576b"
             ],
             [
              0.6666666666666666,
              "#ed7953"
             ],
             [
              0.7777777777777778,
              "#fb9f3a"
             ],
             [
              0.8888888888888888,
              "#fdca26"
             ],
             [
              1,
              "#f0f921"
             ]
            ],
            "type": "heatmapgl"
           }
          ],
          "histogram": [
           {
            "marker": {
             "pattern": {
              "fillmode": "overlay",
              "size": 10,
              "solidity": 0.2
             }
            },
            "type": "histogram"
           }
          ],
          "histogram2d": [
           {
            "colorbar": {
             "outlinewidth": 0,
             "ticks": ""
            },
            "colorscale": [
             [
              0,
              "#0d0887"
             ],
             [
              0.1111111111111111,
              "#46039f"
             ],
             [
              0.2222222222222222,
              "#7201a8"
             ],
             [
              0.3333333333333333,
              "#9c179e"
             ],
             [
              0.4444444444444444,
              "#bd3786"
             ],
             [
              0.5555555555555556,
              "#d8576b"
             ],
             [
              0.6666666666666666,
              "#ed7953"
             ],
             [
              0.7777777777777778,
              "#fb9f3a"
             ],
             [
              0.8888888888888888,
              "#fdca26"
             ],
             [
              1,
              "#f0f921"
             ]
            ],
            "type": "histogram2d"
           }
          ],
          "histogram2dcontour": [
           {
            "colorbar": {
             "outlinewidth": 0,
             "ticks": ""
            },
            "colorscale": [
             [
              0,
              "#0d0887"
             ],
             [
              0.1111111111111111,
              "#46039f"
             ],
             [
              0.2222222222222222,
              "#7201a8"
             ],
             [
              0.3333333333333333,
              "#9c179e"
             ],
             [
              0.4444444444444444,
              "#bd3786"
             ],
             [
              0.5555555555555556,
              "#d8576b"
             ],
             [
              0.6666666666666666,
              "#ed7953"
             ],
             [
              0.7777777777777778,
              "#fb9f3a"
             ],
             [
              0.8888888888888888,
              "#fdca26"
             ],
             [
              1,
              "#f0f921"
             ]
            ],
            "type": "histogram2dcontour"
           }
          ],
          "mesh3d": [
           {
            "colorbar": {
             "outlinewidth": 0,
             "ticks": ""
            },
            "type": "mesh3d"
           }
          ],
          "parcoords": [
           {
            "line": {
             "colorbar": {
              "outlinewidth": 0,
              "ticks": ""
             }
            },
            "type": "parcoords"
           }
          ],
          "pie": [
           {
            "automargin": true,
            "type": "pie"
           }
          ],
          "scatter": [
           {
            "fillpattern": {
             "fillmode": "overlay",
             "size": 10,
             "solidity": 0.2
            },
            "type": "scatter"
           }
          ],
          "scatter3d": [
           {
            "line": {
             "colorbar": {
              "outlinewidth": 0,
              "ticks": ""
             }
            },
            "marker": {
             "colorbar": {
              "outlinewidth": 0,
              "ticks": ""
             }
            },
            "type": "scatter3d"
           }
          ],
          "scattercarpet": [
           {
            "marker": {
             "colorbar": {
              "outlinewidth": 0,
              "ticks": ""
             }
            },
            "type": "scattercarpet"
           }
          ],
          "scattergeo": [
           {
            "marker": {
             "colorbar": {
              "outlinewidth": 0,
              "ticks": ""
             }
            },
            "type": "scattergeo"
           }
          ],
          "scattergl": [
           {
            "marker": {
             "colorbar": {
              "outlinewidth": 0,
              "ticks": ""
             }
            },
            "type": "scattergl"
           }
          ],
          "scattermapbox": [
           {
            "marker": {
             "colorbar": {
              "outlinewidth": 0,
              "ticks": ""
             }
            },
            "type": "scattermapbox"
           }
          ],
          "scatterpolar": [
           {
            "marker": {
             "colorbar": {
              "outlinewidth": 0,
              "ticks": ""
             }
            },
            "type": "scatterpolar"
           }
          ],
          "scatterpolargl": [
           {
            "marker": {
             "colorbar": {
              "outlinewidth": 0,
              "ticks": ""
             }
            },
            "type": "scatterpolargl"
           }
          ],
          "scatterternary": [
           {
            "marker": {
             "colorbar": {
              "outlinewidth": 0,
              "ticks": ""
             }
            },
            "type": "scatterternary"
           }
          ],
          "surface": [
           {
            "colorbar": {
             "outlinewidth": 0,
             "ticks": ""
            },
            "colorscale": [
             [
              0,
              "#0d0887"
             ],
             [
              0.1111111111111111,
              "#46039f"
             ],
             [
              0.2222222222222222,
              "#7201a8"
             ],
             [
              0.3333333333333333,
              "#9c179e"
             ],
             [
              0.4444444444444444,
              "#bd3786"
             ],
             [
              0.5555555555555556,
              "#d8576b"
             ],
             [
              0.6666666666666666,
              "#ed7953"
             ],
             [
              0.7777777777777778,
              "#fb9f3a"
             ],
             [
              0.8888888888888888,
              "#fdca26"
             ],
             [
              1,
              "#f0f921"
             ]
            ],
            "type": "surface"
           }
          ],
          "table": [
           {
            "cells": {
             "fill": {
              "color": "#EBF0F8"
             },
             "line": {
              "color": "white"
             }
            },
            "header": {
             "fill": {
              "color": "#C8D4E3"
             },
             "line": {
              "color": "white"
             }
            },
            "type": "table"
           }
          ]
         },
         "layout": {
          "annotationdefaults": {
           "arrowcolor": "#2a3f5f",
           "arrowhead": 0,
           "arrowwidth": 1
          },
          "autotypenumbers": "strict",
          "coloraxis": {
           "colorbar": {
            "outlinewidth": 0,
            "ticks": ""
           }
          },
          "colorscale": {
           "diverging": [
            [
             0,
             "#8e0152"
            ],
            [
             0.1,
             "#c51b7d"
            ],
            [
             0.2,
             "#de77ae"
            ],
            [
             0.3,
             "#f1b6da"
            ],
            [
             0.4,
             "#fde0ef"
            ],
            [
             0.5,
             "#f7f7f7"
            ],
            [
             0.6,
             "#e6f5d0"
            ],
            [
             0.7,
             "#b8e186"
            ],
            [
             0.8,
             "#7fbc41"
            ],
            [
             0.9,
             "#4d9221"
            ],
            [
             1,
             "#276419"
            ]
           ],
           "sequential": [
            [
             0,
             "#0d0887"
            ],
            [
             0.1111111111111111,
             "#46039f"
            ],
            [
             0.2222222222222222,
             "#7201a8"
            ],
            [
             0.3333333333333333,
             "#9c179e"
            ],
            [
             0.4444444444444444,
             "#bd3786"
            ],
            [
             0.5555555555555556,
             "#d8576b"
            ],
            [
             0.6666666666666666,
             "#ed7953"
            ],
            [
             0.7777777777777778,
             "#fb9f3a"
            ],
            [
             0.8888888888888888,
             "#fdca26"
            ],
            [
             1,
             "#f0f921"
            ]
           ],
           "sequentialminus": [
            [
             0,
             "#0d0887"
            ],
            [
             0.1111111111111111,
             "#46039f"
            ],
            [
             0.2222222222222222,
             "#7201a8"
            ],
            [
             0.3333333333333333,
             "#9c179e"
            ],
            [
             0.4444444444444444,
             "#bd3786"
            ],
            [
             0.5555555555555556,
             "#d8576b"
            ],
            [
             0.6666666666666666,
             "#ed7953"
            ],
            [
             0.7777777777777778,
             "#fb9f3a"
            ],
            [
             0.8888888888888888,
             "#fdca26"
            ],
            [
             1,
             "#f0f921"
            ]
           ]
          },
          "colorway": [
           "#636efa",
           "#EF553B",
           "#00cc96",
           "#ab63fa",
           "#FFA15A",
           "#19d3f3",
           "#FF6692",
           "#B6E880",
           "#FF97FF",
           "#FECB52"
          ],
          "font": {
           "color": "#2a3f5f"
          },
          "geo": {
           "bgcolor": "white",
           "lakecolor": "white",
           "landcolor": "#E5ECF6",
           "showlakes": true,
           "showland": true,
           "subunitcolor": "white"
          },
          "hoverlabel": {
           "align": "left"
          },
          "hovermode": "closest",
          "mapbox": {
           "style": "light"
          },
          "paper_bgcolor": "white",
          "plot_bgcolor": "#E5ECF6",
          "polar": {
           "angularaxis": {
            "gridcolor": "white",
            "linecolor": "white",
            "ticks": ""
           },
           "bgcolor": "#E5ECF6",
           "radialaxis": {
            "gridcolor": "white",
            "linecolor": "white",
            "ticks": ""
           }
          },
          "scene": {
           "xaxis": {
            "backgroundcolor": "#E5ECF6",
            "gridcolor": "white",
            "gridwidth": 2,
            "linecolor": "white",
            "showbackground": true,
            "ticks": "",
            "zerolinecolor": "white"
           },
           "yaxis": {
            "backgroundcolor": "#E5ECF6",
            "gridcolor": "white",
            "gridwidth": 2,
            "linecolor": "white",
            "showbackground": true,
            "ticks": "",
            "zerolinecolor": "white"
           },
           "zaxis": {
            "backgroundcolor": "#E5ECF6",
            "gridcolor": "white",
            "gridwidth": 2,
            "linecolor": "white",
            "showbackground": true,
            "ticks": "",
            "zerolinecolor": "white"
           }
          },
          "shapedefaults": {
           "line": {
            "color": "#2a3f5f"
           }
          },
          "ternary": {
           "aaxis": {
            "gridcolor": "white",
            "linecolor": "white",
            "ticks": ""
           },
           "baxis": {
            "gridcolor": "white",
            "linecolor": "white",
            "ticks": ""
           },
           "bgcolor": "#E5ECF6",
           "caxis": {
            "gridcolor": "white",
            "linecolor": "white",
            "ticks": ""
           }
          },
          "title": {
           "x": 0.05
          },
          "xaxis": {
           "automargin": true,
           "gridcolor": "white",
           "linecolor": "white",
           "ticks": "",
           "title": {
            "standoff": 15
           },
           "zerolinecolor": "white",
           "zerolinewidth": 2
          },
          "yaxis": {
           "automargin": true,
           "gridcolor": "white",
           "linecolor": "white",
           "ticks": "",
           "title": {
            "standoff": 15
           },
           "zerolinecolor": "white",
           "zerolinewidth": 2
          }
         }
        },
        "title": {
         "text": "Среднее время приготовления блюда, исходя из типа"
        },
        "width": 1500,
        "xaxis": {
         "anchor": "y",
         "autorange": true,
         "categoryorder": "total descending",
         "domain": [
          0,
          1
         ],
         "range": [
          -0.5,
          109.5
         ],
         "title": {
          "text": "Тип"
         },
         "type": "category"
        },
        "yaxis": {
         "anchor": "x",
         "autorange": true,
         "domain": [
          0,
          1
         ],
         "range": [
          0,
          315.7894736842105
         ],
         "title": {
          "text": "Среднее время приготовления блюда"
         },
         "type": "linear"
        }
       }
      },
      "image/png": "[encoded data removed]",
      "text/html": [
       "<div>                            <div id=\"9a5ec445-4efb-4bfe-9ead-0a495f966ca2\" class=\"plotly-graph-div\" style=\"height:600px; width:1500px;\"></div>            <script type=\"text/javascript\">                require([\"plotly\"], function(Plotly) {                    window.PLOTLYENV=window.PLOTLYENV || {};                                    if (document.getElementById(\"9a5ec445-4efb-4bfe-9ead-0a495f966ca2\")) {                    Plotly.newPlot(                        \"9a5ec445-4efb-4bfe-9ead-0a495f966ca2\",                        [{\"alignmentgroup\":\"True\",\"hovertemplate\":\"\\u0422\\u0438\\u043f=%{x}<br>\\u0421\\u0440\\u0435\\u0434\\u043d\\u0435\\u0435 \\u0432\\u0440\\u0435\\u043c\\u044f \\u043f\\u0440\\u0438\\u0433\\u043e\\u0442\\u043e\\u0432\\u043b\\u0435\\u043d\\u0438\\u044f \\u0431\\u043b\\u044e\\u0434\\u0430=%{y}<extra></extra>\",\"legendgroup\":\"\",\"marker\":{\"color\":\"#636efa\",\"pattern\":{\"shape\":\"\"}},\"name\":\"\",\"offsetgroup\":\"\",\"orientation\":\"v\",\"showlegend\":false,\"textposition\":\"auto\",\"x\":[\"\\u0410\\u0437\\u0443\",\"\\u0411\\u0435\\u0444\\u0441\\u0442\\u0440\\u043e\\u0433\\u0430\\u043d\\u043e\\u0432\",\"\\u0411\\u0438\\u0433\\u0443\\u0441\",\"\\u0411\\u0438\\u0442\\u043e\\u0447\\u043a\\u0438\",\"\\u0411\\u0438\\u0444\\u0448\\u0442\\u0435\\u043a\\u0441\",\"\\u0411\\u043b\\u044e\\u0434\\u0430 \\u0438\\u0437 \\u0431\\u0430\\u0440\\u0430\\u043d\\u0438\\u043d\\u044b\",\"\\u0411\\u043b\\u044e\\u0434\\u0430 \\u0438\\u0437 \\u0433\\u043e\\u0432\\u044f\\u0434\\u0438\\u043d\\u044b\",\"\\u0411\\u043b\\u044e\\u0434\\u0430 \\u0438\\u0437 \\u043a\\u0440\\u0443\\u043f\",\"\\u0411\\u043b\\u044e\\u0434\\u0430 \\u0438\\u0437 \\u043a\\u0443\\u0440\\u0438\\u0446\\u044b\",\"\\u0411\\u043b\\u044e\\u0434\\u0430 \\u0438\\u0437 \\u043c\\u043e\\u0440\\u0435\\u043f\\u0440\\u043e\\u0434\\u0443\\u043a\\u0442\\u043e\\u0432\",\"\\u0411\\u043b\\u044e\\u0434\\u0430 \\u0438\\u0437 \\u043c\\u044f\\u0441\\u0430\",\"\\u0411\\u043b\\u044e\\u0434\\u0430 \\u0438\\u0437 \\u043e\\u0432\\u043e\\u0449\\u0435\\u0439\",\"\\u0411\\u043b\\u044e\\u0434\\u0430 \\u0438\\u0437 \\u043f\\u0442\\u0438\\u0446\\u044b\",\"\\u0411\\u043b\\u044e\\u0434\\u0430 \\u0438\\u0437 \\u0440\\u044b\\u0431\\u044b\",\"\\u0411\\u043b\\u044e\\u0434\\u0430 \\u0441 \\u0440\\u0438\\u0441\\u043e\\u043c\",\"\\u0411\\u043b\\u044e\\u0434\\u0430 \\u0441 \\u0441\\u043e\\u0435\\u0432\\u044b\\u043c \\u0441\\u043e\\u0443\\u0441\\u043e\\u043c\",\"\\u0411\\u043b\\u044e\\u0434\\u0430 \\u0441 \\u0444\\u0430\\u0440\\u0448\\u0435\\u043c\",\"\\u0411\\u0443\\u0436\\u0435\\u043d\\u0438\\u043d\\u0430\",\"\\u0412\\u0430\\u0440\\u0435\\u043d\\u0438\\u043a\\u0438\",\"\\u0412\\u0441\\u044e\\u0434\\u0443 \\u0436\\u0438\\u0437\\u043d\\u044c\",\"\\u0413\\u0430\\u043b\\u0443\\u0448\\u043a\\u0438\",\"\\u0413\\u0430\\u043c\\u0431\\u0443\\u0440\\u0433\\u0435\\u0440\",\"\\u0413\\u043e\\u043b\\u0443\\u0431\\u0446\\u044b\",\"\\u0413\\u043e\\u0440\\u043e\\u0445\\u043e\\u0432\\u044b\\u0439 \\u0441\\u0443\\u043f\",\"\\u0413\\u043e\\u0440\\u044f\\u0447\\u0438\\u0435 \\u0437\\u0430\\u043a\\u0443\\u0441\\u043a\\u0438\",\"\\u0413\\u0440\\u0430\\u0442\\u0435\\u043d\",\"\\u0413\\u0440\\u0435\\u0447\\u043d\\u0435\\u0432\\u0430\\u044f \\u043a\\u0430\\u0448\\u0430\",\"\\u0413\\u0443\\u043b\\u044f\\u0448\",\"\\u0413\\u0443\\u043b\\u044f\\u0448 \\u0438\\u0437 \\u0433\\u043e\\u0432\\u044f\\u0434\\u0438\\u043d\\u044b\",\"\\u0413\\u0443\\u043b\\u044f\\u0448 \\u0438\\u0437 \\u0441\\u0432\\u0438\\u043d\\u0438\\u043d\\u044b\",\"\\u0414\\u0435\\u0440\\u0443\\u043d\\u044b\",\"\\u0414\\u0440\\u0430\\u043d\\u0438\\u043a\\u0438\",\"\\u0416\\u0430\\u0440\\u043a\\u043e\\u0435\",\"\\u0417\\u0430\\u043f\\u0435\\u043a\\u0430\\u043d\\u043a\\u0430\",\"\\u0417\\u0430\\u043f\\u0435\\u043a\\u0430\\u043d\\u043a\\u0430 \\u0438\\u0437 \\u043a\\u0430\\u0431\\u0430\\u0447\\u043a\\u043e\\u0432\",\"\\u0417\\u0434\\u043e\\u0440\\u043e\\u0432\\u044c\\u0435\",\"\\u0417\\u0440\\u0430\\u0437\\u044b\",\"\\u041a\\u0430\\u0440\\u0442\\u043e\\u0448\\u043a\\u0430 \\u0441 \\u0433\\u0440\\u0438\\u0431\\u0430\\u043c\\u0438\",\"\\u041a\\u0430\\u0448\\u0438\",\"\\u041a\\u0430\\u0448\\u0438 \\u043d\\u0430 \\u0432\\u043e\\u0434\\u0435\",\"\\u041a\\u0438\\u0435\\u0432\\u0441\\u043a\\u0438\\u0435 \\u043a\\u043e\\u0442\\u043b\\u0435\\u0442\\u044b\",\"\\u041a\\u043b\\u0435\\u0446\\u043a\\u0438\",\"\\u041a\\u043e\\u0442\\u043b\\u0435\\u0442\\u044b\",\"\\u041a\\u0443\\u0440\\u0438\\u0446\\u0430 \\u0432 \\u0434\\u0443\\u0445\\u043e\\u0432\\u043a\\u0435\",\"\\u041b\\u0430\\u0433\\u043c\\u0430\\u043d\",\"\\u041b\\u0430\\u0437\\u0430\\u043d\\u044c\\u044f\",\"\\u041b\\u0430\\u043f\\u0448\\u0430\",\"\\u041b\\u043e\\u0431\\u0438\\u043e\",\"\\u041b\\u044e\\u043b\\u044f-\\u043a\\u0435\\u0431\\u0430\\u0431\",\"\\u041c\\u0430\\u043a\\u0430\\u0440\\u043e\\u043d\\u044b\",\"\\u041c\\u0430\\u043d\\u0442\\u044b\",\"\\u041c\\u0443\\u0441\\u0430\\u043a\\u0430\",\"\\u041c\\u044f\\u0441\\u043d\\u043e\\u0439 \\u0431\\u0443\\u043b\\u044c\\u043e\\u043d\",\"\\u041c\\u044f\\u0441\\u043e \\u0432 \\u0434\\u0443\\u0445\\u043e\\u0432\\u043a\\u0435\",\"\\u041c\\u044f\\u0441\\u043e \\u043f\\u043e-\\u0444\\u0440\\u0430\\u043d\\u0446\\u0443\\u0437\\u0441\\u043a\\u0438\",\"\\u041d\\u043e\\u0432\\u043e\\u0433\\u043e\\u0434\\u043d\\u0438\\u0435 \\u0431\\u043b\\u044e\\u0434\\u0430 \\u0438\\u0437 \\u043a\\u0443\\u0440\\u0438\\u0446\\u044b\",\"\\u041d\\u043e\\u0432\\u043e\\u0433\\u043e\\u0434\\u043d\\u0438\\u0435 \\u0431\\u043b\\u044e\\u0434\\u0430 \\u0438\\u0437 \\u0441\\u0432\\u0438\\u043d\\u0438\\u043d\\u044b\",\"\\u041d\\u043e\\u0432\\u043e\\u0441\\u0442\\u0438 \\u043f\\u0430\\u0440\\u0442\\u043d\\u0435\\u0440\\u043e\\u0432\",\"\\u041e\\u0432\\u043e\\u0449\\u0438 \\u0432 \\u0434\\u0443\\u0445\\u043e\\u0432\\u043a\\u0435\",\"\\u041e\\u0432\\u043e\\u0449\\u043d\\u043e\\u0435 \\u0440\\u0430\\u0433\\u0443\",\"\\u041e\\u0432\\u043e\\u0449\\u043d\\u043e\\u0435 \\u0440\\u0430\\u0433\\u0443 \\u0441 \\u043a\\u0430\\u0431\\u0430\\u0447\\u043a\\u0430\\u043c\\u0438\",\"\\u041e\\u043c\\u043b\\u0435\\u0442\",\"\\u041e\\u0442\\u0431\\u0438\\u0432\\u043d\\u044b\\u0435\",\"\\u041f\\u0430\\u0448\\u0442\\u0435\\u0442\\u044b\",\"\\u041f\\u0430\\u044d\\u043b\\u044c\\u044f\",\"\\u041f\\u0435\\u043b\\u044c\\u043c\\u0435\\u043d\\u0438\",\"\\u041f\\u0435\\u0440\\u0435\\u0446 \\u0444\\u0430\\u0440\\u0448\\u0438\\u0440\\u043e\\u0432\\u0430\\u043d\\u043d\\u044b\\u0439\",\"\\u041f\\u0435\\u0447\\u0435\\u043d\\u043e\\u0447\\u043d\\u044b\\u0435 \\u043e\\u043b\\u0430\\u0434\\u044c\\u0438\",\"\\u041f\\u0438\\u0440\\u043e\\u0433\\u0438\",\"\\u041f\\u0438\\u0440\\u043e\\u0436\\u043a\\u0438\",\"\\u041f\\u043b\\u043e\\u0432\",\"\\u041f\\u043b\\u043e\\u0432 \\u0441 \\u043a\\u0443\\u0440\\u0438\\u0446\\u0435\\u0439\",\"\\u041f\\u043e\\u0441\\u0442\\u043d\\u044b\\u0435 \\u043a\\u043e\\u0442\\u043b\\u0435\\u0442\\u044b\",\"\\u041f\\u0440\\u0430\\u0437\\u0434\\u043d\\u0438\\u0447\\u043d\\u044b\\u0435 \\u0431\\u043b\\u044e\\u0434\\u0430 \\u0438\\u0437 \\u0441\\u0432\\u0438\\u043d\\u0438\\u043d\\u044b\",\"\\u041f\\u0440\\u043e\\u0434\\u0443\\u043a\\u0442\",\"\\u041f\\u044e\\u0440\\u0435\",\"\\u0420\\u0430\\u0433\\u0443\",\"\\u0420\\u0430\\u0442\\u0430\\u0442\\u0443\\u0439\",\"\\u0420\\u0435\\u0441\\u0442\\u043e\\u0440\\u0430\\u043d\\u044b\",\"\\u0420\\u043e\\u0441\\u0442\\u0431\\u0438\\u0444\",\"\\u0420\\u0443\\u043b\\u0435\\u0442\\u044b\",\"\\u0420\\u044b\\u0431\\u0430 \\u0432 \\u0434\\u0443\\u0445\\u043e\\u0432\\u043a\\u0435\",\"\\u0421\\u0430\\u043b\\u0430\\u0442\\u044b \\u0441 \\u043a\\u0443\\u0440\\u0438\\u0446\\u0435\\u0439\",\"\\u0421\\u0430\\u0446\\u0438\\u0432\\u0438\",\"\\u0421\\u0438\\u0440\\u043e\\u043f\",\"\\u0421\\u043e\\u043b\\u044f\\u043d\\u043a\\u0430\",\"\\u0421\\u043e\\u0442\\u0435\",\"\\u0421\\u043e\\u0443\\u0441\\u044b \\u043a \\u0440\\u044b\\u0431\\u0435\",\"\\u0421\\u043f\\u0430\\u0433\\u0435\\u0442\\u0442\\u0438\",\"\\u0421\\u0442\\u0435\\u0439\\u043a\\u0438\",\"\\u0421\\u0443\\u043f-\\u043f\\u044e\\u0440\\u0435\",\"\\u0422\\u0430\\u043a\\u043e\\u0441\",\"\\u0422\\u0430\\u0440\\u0442\\u0430\\u0440\",\"\\u0422\\u0435\\u0440\\u0438\\u044f\\u043a\\u0438\",\"\\u0422\\u0435\\u0444\\u0442\\u0435\\u043b\\u0438\",\"\\u0423\\u0437\\u0431\\u0435\\u043a\\u0441\\u043a\\u0438\\u0439 \\u043f\\u043b\\u043e\\u0432\",\"\\u0424\\u0430\\u0440\\u0448\\u0438\\u0440\\u043e\\u0432\\u0430\\u043d\\u043d\\u044b\\u0435 \\u0431\\u043b\\u044e\\u0434\\u0430\",\"\\u0424\\u0440\\u0438\\u043a\\u0430\\u0434\\u0435\\u043b\\u044c\\u043a\\u0438\",\"\\u0425\\u0438\\u043d\\u043a\\u0430\\u043b\\u0438\",\"\\u0425\\u043b\\u0435\\u0431\",\"\\u0425\\u043e\\u043b\\u043e\\u0434\\u0435\\u0446\",\"\\u0425\\u043e\\u043b\\u043e\\u0434\\u043d\\u044b\\u0435 \\u0437\\u0430\\u043a\\u0443\\u0441\\u043a\\u0438\",\"\\u0426\\u044b\\u043f\\u043b\\u0435\\u043d\\u043e\\u043a \\u0442\\u0430\\u0431\\u0430\\u043a\\u0430\",\"\\u0427\\u0430\\u0442\\u043d\\u0438\",\"\\u0427\\u0430\\u0445\\u043e\\u0445\\u0431\\u0438\\u043b\\u0438\",\"\\u0427\\u0438\\u043f\\u0441\\u044b\",\"\\u0428\\u0430\\u0448\\u043b\\u044b\\u043a\",\"\\u0428\\u0430\\u0448\\u043b\\u044b\\u043a \\u0438\\u0437 \\u0441\\u0432\\u0438\\u043d\\u0438\\u043d\\u044b\",\"\\u0428\\u043d\\u0438\\u0446\\u0435\\u043b\\u044c\",\"\\u042f\\u0438\\u0447\\u043d\\u0438\\u0446\\u0430\"],\"xaxis\":\"x\",\"y\":[120.0,40.0,90.0,50.0,60.0,180.0,5.0,40.0,50.0,31.666666666666668,76.76470588235294,44.285714285714285,55.0,35.0,58.333333333333336,40.0,25.0,240.0,15.0,20.0,40.0,15.0,63.333333333333336,180.0,85.51282051282051,65.0,60.0,120.0,90.0,120.0,30.0,30.0,115.9090909090909,70.83333333333333,60.0,40.0,40.0,35.0,44.0,90.0,40.0,120.0,55.689655172413794,54.0,180.0,60.0,65.625,180.0,40.0,38.333333333333336,90.0,96.66666666666667,300.0,115.71428571428571,72.5,110.0,73.33333333333333,60.0,80.0,32.0,90.0,25.0,43.0,105.0,60.0,40.833333333333336,60.0,20.0,174.0,90.0,118.88888888888889,100.0,25.0,123.75,35.0,92.77777777777777,116.07142857142857,90.0,180.0,60.0,120.0,38.75,30.0,220.0,30.0,50.0,25.0,30.0,15.0,36.5,15.0,90.0,50.0,22.5,64.28571428571429,130.0,87.5,50.0,45.0,75.0,120.0,32.5,20.0,120.0,45.0,120.0,80.0,30.0,26.666666666666668,40.0],\"yaxis\":\"y\",\"type\":\"bar\"}],                        {\"template\":{\"data\":{\"histogram2dcontour\":[{\"type\":\"histogram2dcontour\",\"colorbar\":{\"outlinewidth\":0,\"ticks\":\"\"},\"colorscale\":[[0.0,\"#0d0887\"],[0.1111111111111111,\"#46039f\"],[0.2222222222222222,\"#7201a8\"],[0.3333333333333333,\"#9c179e\"],[0.4444444444444444,\"#bd3786\"],[0.5555555555555556,\"#d8576b\"],[0.6666666666666666,\"#ed7953\"],[0.7777777777777778,\"#fb9f3a\"],[0.8888888888888888,\"#fdca26\"],[1.0,\"#f0f921\"]]}],\"choropleth\":[{\"type\":\"choropleth\",\"colorbar\":{\"outlinewidth\":0,\"ticks\":\"\"}}],\"histogram2d\":[{\"type\":\"histogram2d\",\"colorbar\":{\"outlinewidth\":0,\"ticks\":\"\"},\"colorscale\":[[0.0,\"#0d0887\"],[0.1111111111111111,\"#46039f\"],[0.2222222222222222,\"#7201a8\"],[0.3333333333333333,\"#9c179e\"],[0.4444444444444444,\"#bd3786\"],[0.5555555555555556,\"#d8576b\"],[0.6666666666666666,\"#ed7953\"],[0.7777777777777778,\"#fb9f3a\"],[0.8888888888888888,\"#fdca26\"],[1.0,\"#f0f921\"]]}],\"heatmap\":[{\"type\":\"heatmap\",\"colorbar\":{\"outlinewidth\":0,\"ticks\":\"\"},\"colorscale\":[[0.0,\"#0d0887\"],[0.1111111111111111,\"#46039f\"],[0.2222222222222222,\"#7201a8\"],[0.3333333333333333,\"#9c179e\"],[0.4444444444444444,\"#bd3786\"],[0.5555555555555556,\"#d8576b\"],[0.6666666666666666,\"#ed7953\"],[0.7777777777777778,\"#fb9f3a\"],[0.8888888888888888,\"#fdca26\"],[1.0,\"#f0f921\"]]}],\"heatmapgl\":[{\"type\":\"heatmapgl\",\"colorbar\":{\"outlinewidth\":0,\"ticks\":\"\"},\"colorscale\":[[0.0,\"#0d0887\"],[0.1111111111111111,\"#46039f\"],[0.2222222222222222,\"#7201a8\"],[0.3333333333333333,\"#9c179e\"],[0.4444444444444444,\"#bd3786\"],[0.5555555555555556,\"#d8576b\"],[0.6666666666666666,\"#ed7953\"],[0.7777777777777778,\"#fb9f3a\"],[0.8888888888888888,\"#fdca26\"],[1.0,\"#f0f921\"]]}],\"contourcarpet\":[{\"type\":\"contourcarpet\",\"colorbar\":{\"outlinewidth\":0,\"ticks\":\"\"}}],\"contour\":[{\"type\":\"contour\",\"colorbar\":{\"outlinewidth\":0,\"ticks\":\"\"},\"colorscale\":[[0.0,\"#0d0887\"],[0.1111111111111111,\"#46039f\"],[0.2222222222222222,\"#7201a8\"],[0.3333333333333333,\"#9c179e\"],[0.4444444444444444,\"#bd3786\"],[0.5555555555555556,\"#d8576b\"],[0.6666666666666666,\"#ed7953\"],[0.7777777777777778,\"#fb9f3a\"],[0.8888888888888888,\"#fdca26\"],[1.0,\"#f0f921\"]]}],\"surface\":[{\"type\":\"surface\",\"colorbar\":{\"outlinewidth\":0,\"ticks\":\"\"},\"colorscale\":[[0.0,\"#0d0887\"],[0.1111111111111111,\"#46039f\"],[0.2222222222222222,\"#7201a8\"],[0.3333333333333333,\"#9c179e\"],[0.4444444444444444,\"#bd3786\"],[0.5555555555555556,\"#d8576b\"],[0.6666666666666666,\"#ed7953\"],[0.7777777777777778,\"#fb9f3a\"],[0.8888888888888888,\"#fdca26\"],[1.0,\"#f0f921\"]]}],\"mesh3d\":[{\"type\":\"mesh3d\",\"colorbar\":{\"outlinewidth\":0,\"ticks\":\"\"}}],\"scatter\":[{\"fillpattern\":{\"fillmode\":\"overlay\",\"size\":10,\"solidity\":0.2},\"type\":\"scatter\"}],\"parcoords\":[{\"type\":\"parcoords\",\"line\":{\"colorbar\":{\"outlinewidth\":0,\"ticks\":\"\"}}}],\"scatterpolargl\":[{\"type\":\"scatterpolargl\",\"marker\":{\"colorbar\":{\"outlinewidth\":0,\"ticks\":\"\"}}}],\"bar\":[{\"error_x\":{\"color\":\"#2a3f5f\"},\"error_y\":{\"color\":\"#2a3f5f\"},\"marker\":{\"line\":{\"color\":\"#E5ECF6\",\"width\":0.5},\"pattern\":{\"fillmode\":\"overlay\",\"size\":10,\"solidity\":0.2}},\"type\":\"bar\"}],\"scattergeo\":[{\"type\":\"scattergeo\",\"marker\":{\"colorbar\":{\"outlinewidth\":0,\"ticks\":\"\"}}}],\"scatterpolar\":[{\"type\":\"scatterpolar\",\"marker\":{\"colorbar\":{\"outlinewidth\":0,\"ticks\":\"\"}}}],\"histogram\":[{\"marker\":{\"pattern\":{\"fillmode\":\"overlay\",\"size\":10,\"solidity\":0.2}},\"type\":\"histogram\"}],\"scattergl\":[{\"type\":\"scattergl\",\"marker\":{\"colorbar\":{\"outlinewidth\":0,\"ticks\":\"\"}}}],\"scatter3d\":[{\"type\":\"scatter3d\",\"line\":{\"colorbar\":{\"outlinewidth\":0,\"ticks\":\"\"}},\"marker\":{\"colorbar\":{\"outlinewidth\":0,\"ticks\":\"\"}}}],\"scattermapbox\":[{\"type\":\"scattermapbox\",\"marker\":{\"colorbar\":{\"outlinewidth\":0,\"ticks\":\"\"}}}],\"scatterternary\":[{\"type\":\"scatterternary\",\"marker\":{\"colorbar\":{\"outlinewidth\":0,\"ticks\":\"\"}}}],\"scattercarpet\":[{\"type\":\"scattercarpet\",\"marker\":{\"colorbar\":{\"outlinewidth\":0,\"ticks\":\"\"}}}],\"carpet\":[{\"aaxis\":{\"endlinecolor\":\"#2a3f5f\",\"gridcolor\":\"white\",\"linecolor\":\"white\",\"minorgridcolor\":\"white\",\"startlinecolor\":\"#2a3f5f\"},\"baxis\":{\"endlinecolor\":\"#2a3f5f\",\"gridcolor\":\"white\",\"linecolor\":\"white\",\"minorgridcolor\":\"white\",\"startlinecolor\":\"#2a3f5f\"},\"type\":\"carpet\"}],\"table\":[{\"cells\":{\"fill\":{\"color\":\"#EBF0F8\"},\"line\":{\"color\":\"white\"}},\"header\":{\"fill\":{\"color\":\"#C8D4E3\"},\"line\":{\"color\":\"white\"}},\"type\":\"table\"}],\"barpolar\":[{\"marker\":{\"line\":{\"color\":\"#E5ECF6\",\"width\":0.5},\"pattern\":{\"fillmode\":\"overlay\",\"size\":10,\"solidity\":0.2}},\"type\":\"barpolar\"}],\"pie\":[{\"automargin\":true,\"type\":\"pie\"}]},\"layout\":{\"autotypenumbers\":\"strict\",\"colorway\":[\"#636efa\",\"#EF553B\",\"#00cc96\",\"#ab63fa\",\"#FFA15A\",\"#19d3f3\",\"#FF6692\",\"#B6E880\",\"#FF97FF\",\"#FECB52\"],\"font\":{\"color\":\"#2a3f5f\"},\"hovermode\":\"closest\",\"hoverlabel\":{\"align\":\"left\"},\"paper_bgcolor\":\"white\",\"plot_bgcolor\":\"#E5ECF6\",\"polar\":{\"bgcolor\":\"#E5ECF6\",\"angularaxis\":{\"gridcolor\":\"white\",\"linecolor\":\"white\",\"ticks\":\"\"},\"radialaxis\":{\"gridcolor\":\"white\",\"linecolor\":\"white\",\"ticks\":\"\"}},\"ternary\":{\"bgcolor\":\"#E5ECF6\",\"aaxis\":{\"gridcolor\":\"white\",\"linecolor\":\"white\",\"ticks\":\"\"},\"baxis\":{\"gridcolor\":\"white\",\"linecolor\":\"white\",\"ticks\":\"\"},\"caxis\":{\"gridcolor\":\"white\",\"linecolor\":\"white\",\"ticks\":\"\"}},\"coloraxis\":{\"colorbar\":{\"outlinewidth\":0,\"ticks\":\"\"}},\"colorscale\":{\"sequential\":[[0.0,\"#0d0887\"],[0.1111111111111111,\"#46039f\"],[0.2222222222222222,\"#7201a8\"],[0.3333333333333333,\"#9c179e\"],[0.4444444444444444,\"#bd3786\"],[0.5555555555555556,\"#d8576b\"],[0.6666666666666666,\"#ed7953\"],[0.7777777777777778,\"#fb9f3a\"],[0.8888888888888888,\"#fdca26\"],[1.0,\"#f0f921\"]],\"sequentialminus\":[[0.0,\"#0d0887\"],[0.1111111111111111,\"#46039f\"],[0.2222222222222222,\"#7201a8\"],[0.3333333333333333,\"#9c179e\"],[0.4444444444444444,\"#bd3786\"],[0.5555555555555556,\"#d8576b\"],[0.6666666666666666,\"#ed7953\"],[0.7777777777777778,\"#fb9f3a\"],[0.8888888888888888,\"#fdca26\"],[1.0,\"#f0f921\"]],\"diverging\":[[0,\"#8e0152\"],[0.1,\"#c51b7d\"],[0.2,\"#de77ae\"],[0.3,\"#f1b6da\"],[0.4,\"#fde0ef\"],[0.5,\"#f7f7f7\"],[0.6,\"#e6f5d0\"],[0.7,\"#b8e186\"],[0.8,\"#7fbc41\"],[0.9,\"#4d9221\"],[1,\"#276419\"]]},\"xaxis\":{\"gridcolor\":\"white\",\"linecolor\":\"white\",\"ticks\":\"\",\"title\":{\"standoff\":15},\"zerolinecolor\":\"white\",\"automargin\":true,\"zerolinewidth\":2},\"yaxis\":{\"gridcolor\":\"white\",\"linecolor\":\"white\",\"ticks\":\"\",\"title\":{\"standoff\":15},\"zerolinecolor\":\"white\",\"automargin\":true,\"zerolinewidth\":2},\"scene\":{\"xaxis\":{\"backgroundcolor\":\"#E5ECF6\",\"gridcolor\":\"white\",\"linecolor\":\"white\",\"showbackground\":true,\"ticks\":\"\",\"zerolinecolor\":\"white\",\"gridwidth\":2},\"yaxis\":{\"backgroundcolor\":\"#E5ECF6\",\"gridcolor\":\"white\",\"linecolor\":\"white\",\"showbackground\":true,\"ticks\":\"\",\"zerolinecolor\":\"white\",\"gridwidth\":2},\"zaxis\":{\"backgroundcolor\":\"#E5ECF6\",\"gridcolor\":\"white\",\"linecolor\":\"white\",\"showbackground\":true,\"ticks\":\"\",\"zerolinecolor\":\"white\",\"gridwidth\":2}},\"shapedefaults\":{\"line\":{\"color\":\"#2a3f5f\"}},\"annotationdefaults\":{\"arrowcolor\":\"#2a3f5f\",\"arrowhead\":0,\"arrowwidth\":1},\"geo\":{\"bgcolor\":\"white\",\"landcolor\":\"#E5ECF6\",\"subunitcolor\":\"white\",\"showland\":true,\"showlakes\":true,\"lakecolor\":\"white\"},\"title\":{\"x\":0.05},\"mapbox\":{\"style\":\"light\"}}},\"xaxis\":{\"anchor\":\"y\",\"domain\":[0.0,1.0],\"title\":{\"text\":\"\\u0422\\u0438\\u043f\"},\"categoryorder\":\"total descending\"},\"yaxis\":{\"anchor\":\"x\",\"domain\":[0.0,1.0],\"title\":{\"text\":\"\\u0421\\u0440\\u0435\\u0434\\u043d\\u0435\\u0435 \\u0432\\u0440\\u0435\\u043c\\u044f \\u043f\\u0440\\u0438\\u0433\\u043e\\u0442\\u043e\\u0432\\u043b\\u0435\\u043d\\u0438\\u044f \\u0431\\u043b\\u044e\\u0434\\u0430\"}},\"legend\":{\"tracegroupgap\":0},\"title\":{\"text\":\"\\u0421\\u0440\\u0435\\u0434\\u043d\\u0435\\u0435 \\u0432\\u0440\\u0435\\u043c\\u044f \\u043f\\u0440\\u0438\\u0433\\u043e\\u0442\\u043e\\u0432\\u043b\\u0435\\u043d\\u0438\\u044f \\u0431\\u043b\\u044e\\u0434\\u0430, \\u0438\\u0441\\u0445\\u043e\\u0434\\u044f \\u0438\\u0437 \\u0442\\u0438\\u043f\\u0430\"},\"barmode\":\"relative\",\"bargap\":0.2,\"width\":1500,\"height\":600},                        {\"responsive\": true}                    ).then(function(){\n",
       "                            \n",
       "var gd = document.getElementById('9a5ec445-4efb-4bfe-9ead-0a495f966ca2');\n",
       "var x = new MutationObserver(function (mutations, observer) {{\n",
       "        var display = window.getComputedStyle(gd).display;\n",
       "        if (!display || display === 'none') {{\n",
       "            console.log([gd, 'removed!']);\n",
       "            Plotly.purge(gd);\n",
       "            observer.disconnect();\n",
       "        }}\n",
       "}});\n",
       "\n",
       "// Listen for the removal of the full notebook cells\n",
       "var notebookContainer = gd.closest('#notebook-container');\n",
       "if (notebookContainer) {{\n",
       "    x.observe(notebookContainer, {childList: true});\n",
       "}}\n",
       "\n",
       "// Listen for the clearing of the current output cell\n",
       "var outputEl = gd.closest('.output');\n",
       "if (outputEl) {{\n",
       "    x.observe(outputEl, {childList: true});\n",
       "}}\n",
       "\n",
       "                        })                };                });            </script>        </div>"
      ]
     },
     "metadata": {},
     "output_type": "display_data"
    }
   ],
   "source": [
    "likes_by_cuisine = all_dishes.groupby('Тип')['Время приготовления'].mean().reset_index()\n",
    "\n",
    "import plotly.express as px\n",
    "fig = px.bar(likes_by_cuisine, x='Тип', y='Время приготовления',              title='Среднее время приготовления блюда, исходя из типа', \n",
    "             labels={'Время приготовления': 'Среднее время приготовления блюда', 'Тип': 'Тип'},                          template='plotly')\n",
    "\n",
    "fig.update_layout(xaxis_categoryorder='total descending', bargap=0.2) \n",
    "fig.update_layout(width=1500, height=600) \n",
    "\n",
    "fig.show()"
   ]
  },
  {
   "cell_type": "markdown",
   "id": "af67b55b-7581-4bf4-858c-89077af09f82",
   "metadata": {},
   "source": [
    "Таким образом, можно заключить, что типами с самым большим временем приготовления на одно блюдо являются \"Мясной бульон\", \"Буженина\" и \"Сациви\""
   ]
  },
  {
   "cell_type": "markdown",
   "id": "33a3e992-7c83-4833-bde6-44882d00c1de",
   "metadata": {},
   "source": [
    "# Создание модели поиска интересующего блюда"
   ]
  },
  {
   "cell_type": "markdown",
   "id": "44368336-ece9-4f8c-ad69-d1b3162d669b",
   "metadata": {},
   "source": [
    "Мы решили озадачиться кое-чем ещё и придумали, как нам можно, исходя из наших данных, создать что-то наподобие приложения для поиска нужного рецепта с сайта eda.ru\n",
    "\n",
    "Приложение просит ввести нужные характеристики (кухню, максимальное время приготовления, минимальное и максимальное количество калорий), а на выходе выдает датафрейм со всеми блюдами, попадающими под критерии. Блюда размещены по лайкам по убыванию."
   ]
  },
  {
   "cell_type": "code",
   "execution_count": 267,
   "id": "f5856ff4-9472-4b75-a297-99a57c6143aa",
   "metadata": {},
   "outputs": [
    {
     "name": "stdout",
     "output_type": "stream",
     "text": [
      "Введите кухню, блюдо из которой хотите попробовать\n"
     ]
    },
    {
     "name": "stdin",
     "output_type": "stream",
     "text": [
      " Русская кухня\n"
     ]
    },
    {
     "name": "stdout",
     "output_type": "stream",
     "text": [
      "Введите максимальное время, которое вы готовы потратить на приготовление\n"
     ]
    },
    {
     "name": "stdin",
     "output_type": "stream",
     "text": [
      " 56\n"
     ]
    },
    {
     "name": "stdout",
     "output_type": "stream",
     "text": [
      "Введите минимальное количество калорий в блюде, которое вы хотите приготовить\n"
     ]
    },
    {
     "name": "stdin",
     "output_type": "stream",
     "text": [
      " 450\n"
     ]
    },
    {
     "name": "stdout",
     "output_type": "stream",
     "text": [
      "Введите максимальное количество калорий в блюде, которые вы хотите приготовить\n"
     ]
    },
    {
     "name": "stdin",
     "output_type": "stream",
     "text": [
      " 500\n"
     ]
    },
    {
     "data": {
      "text/html": [
       "<div>\n",
       "<style scoped>\n",
       "    .dataframe tbody tr th:only-of-type {\n",
       "        vertical-align: middle;\n",
       "    }\n",
       "\n",
       "    .dataframe tbody tr th {\n",
       "        vertical-align: top;\n",
       "    }\n",
       "\n",
       "    .dataframe thead th {\n",
       "        text-align: right;\n",
       "    }\n",
       "</style>\n",
       "<table border=\"1\" class=\"dataframe\">\n",
       "  <thead>\n",
       "    <tr style=\"text-align: right;\">\n",
       "      <th></th>\n",
       "      <th>Unnamed: 0</th>\n",
       "      <th>Название</th>\n",
       "      <th>Время приготовления</th>\n",
       "      <th>Калории</th>\n",
       "      <th>Лайки</th>\n",
       "      <th>Кухня</th>\n",
       "      <th>Тип</th>\n",
       "    </tr>\n",
       "  </thead>\n",
       "  <tbody>\n",
       "    <tr>\n",
       "      <th>324</th>\n",
       "      <td>0</td>\n",
       "      <td>Запеканка картофельная</td>\n",
       "      <td>30</td>\n",
       "      <td>451</td>\n",
       "      <td>95</td>\n",
       "      <td>Русская кухня</td>\n",
       "      <td>Запеканка</td>\n",
       "    </tr>\n",
       "    <tr>\n",
       "      <th>99</th>\n",
       "      <td>0</td>\n",
       "      <td>Макароны с сыром</td>\n",
       "      <td>30</td>\n",
       "      <td>454</td>\n",
       "      <td>22</td>\n",
       "      <td>Русская кухня</td>\n",
       "      <td>Макароны</td>\n",
       "    </tr>\n",
       "    <tr>\n",
       "      <th>308</th>\n",
       "      <td>0</td>\n",
       "      <td>Гречка с курицей</td>\n",
       "      <td>30</td>\n",
       "      <td>462</td>\n",
       "      <td>3</td>\n",
       "      <td>Русская кухня</td>\n",
       "      <td>Каши</td>\n",
       "    </tr>\n",
       "    <tr>\n",
       "      <th>327</th>\n",
       "      <td>0</td>\n",
       "      <td>Картошка с тушенкой</td>\n",
       "      <td>40</td>\n",
       "      <td>490</td>\n",
       "      <td>3</td>\n",
       "      <td>Русская кухня</td>\n",
       "      <td>Жаркое</td>\n",
       "    </tr>\n",
       "  </tbody>\n",
       "</table>\n",
       "</div>"
      ],
      "text/plain": [
       "     Unnamed: 0                Название  Время приготовления  Калории  Лайки  \\\n",
       "324           0  Запеканка картофельная                   30      451     95   \n",
       "99            0        Макароны с сыром                   30      454     22   \n",
       "308           0        Гречка с курицей                   30      462      3   \n",
       "327           0     Картошка с тушенкой                   40      490      3   \n",
       "\n",
       "             Кухня        Тип  \n",
       "324  Русская кухня  Запеканка  \n",
       "99   Русская кухня   Макароны  \n",
       "308  Русская кухня       Каши  \n",
       "327  Русская кухня     Жаркое  "
      ]
     },
     "execution_count": 267,
     "metadata": {},
     "output_type": "execute_result"
    }
   ],
   "source": [
    "def finder():\n",
    "    print(\"Введите кухню, блюдо из которой хотите попробовать\")\n",
    "    cuis = input()\n",
    "    print(\"Введите максимальное время, которое вы готовы потратить на приготовление\")\n",
    "    max_time = int(input())\n",
    "    print(\"Введите минимальное количество калорий в блюде, которое вы хотите приготовить\")\n",
    "    min_cals = int(input())\n",
    "    print(\"Введите максимальное количество калорий в блюде, которые вы хотите приготовить\")\n",
    "    maxi_cals = int(input())\n",
    "\n",
    "    new_df = all_dishes[(all_dishes['Кухня'] == cuis) \n",
    "    & (all_dishes['Время приготовления'] <= max_time)\n",
    "    & (all_dishes['Калории'] >= min_cals)\n",
    "    & (all_dishes['Калории'] <= maxi_cals)]\n",
    "\n",
    "    return new_df.sort_values(by='Лайки', ascending=False)\n",
    "\n",
    "finder()"
   ]
  }
 ],
 "metadata": {
  "colab": {
   "provenance": []
  },
  "kernelspec": {
   "display_name": "Python 3 (ipykernel)",
   "language": "python",
   "name": "python3"
  },
  "language_info": {
   "codemirror_mode": {
    "name": "ipython",
    "version": 3
   },
   "file_extension": ".py",
   "mimetype": "text/x-python",
   "name": "python",
   "nbconvert_exporter": "python",
   "pygments_lexer": "ipython3",
   "version": "3.11.5"
  }
 },
 "nbformat": 4,
 "nbformat_minor": 5
}
